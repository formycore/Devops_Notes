{
 "cells": [
  {
   "cell_type": "code",
   "execution_count": null,
   "id": "f04db10e",
   "metadata": {},
   "outputs": [],
   "source": [
    "# Create s3 bucket with public deny access\n",
    "# always start aws cmds with !aws"
   ]
  },
  {
   "cell_type": "code",
   "execution_count": 1,
   "id": "a1d6bf7c",
   "metadata": {},
   "outputs": [
    {
     "name": "stdout",
     "output_type": "stream",
     "text": [
      "make_bucket: amonkincloudexample\r\n"
     ]
    }
   ],
   "source": [
    "!aws s3 mb s3://amonkincloudexample"
   ]
  },
  {
   "cell_type": "code",
   "execution_count": null,
   "id": "7ed8c679",
   "metadata": {},
   "outputs": [],
   "source": [
    "# Now attach the public deny access"
   ]
  },
  {
   "cell_type": "code",
   "execution_count": 2,
   "id": "7fc53545",
   "metadata": {},
   "outputs": [],
   "source": [
    "!aws s3api put-public-access-block \\\n",
    "--bucket amonkincloudexample \\\n",
    "--public-access-block-configuration \"BlockPublicAcls=true,IgnorePublicAcls=true,BlockPublicPolicy=true,RestrictPublicBuckets=true\""
   ]
  },
  {
   "cell_type": "code",
   "execution_count": null,
   "id": "20fdaab9",
   "metadata": {},
   "outputs": [],
   "source": [
    "# upload files to S3 with boto3"
   ]
  },
  {
   "cell_type": "code",
   "execution_count": 6,
   "id": "d6cbaf19",
   "metadata": {},
   "outputs": [
    {
     "name": "stdout",
     "output_type": "stream",
     "text": [
      "\r\n",
      "usage: aws s3 sync <LocalPath> <S3Uri> or <S3Uri> <LocalPath> or <S3Uri> <S3Uri>\r\n",
      "Error: Invalid argument type\r\n"
     ]
    }
   ],
   "source": [
    "!aws s3 sync /home/maanya/Downloads/other_github/Serverless-Web-Application-on-AWS amonkincloudexample"
   ]
  },
  {
   "cell_type": "code",
   "execution_count": null,
   "id": "2dcb04ef",
   "metadata": {},
   "outputs": [],
   "source": [
    "# Uploading the content to S3 bucket"
   ]
  },
  {
   "cell_type": "code",
   "execution_count": 8,
   "id": "6ef6d5c4",
   "metadata": {},
   "outputs": [
    {
     "name": "stdout",
     "output_type": "stream",
     "text": [
      "upload: ../../../other_github/Serverless-Web-Application-on-AWS/index.html to s3://amonkincloudexample/index.html\n",
      "upload: ../../../other_github/Serverless-Web-Application-on-AWS/README.md to s3://amonkincloudexample/README.md\n",
      "upload: ../../../other_github/Serverless-Web-Application-on-AWS/style.css to s3://amonkincloudexample/style.css\n",
      "upload: ../../../other_github/Serverless-Web-Application-on-AWS/lambda-function.py to s3://amonkincloudexample/lambda-function.py\n",
      "upload: ../../../other_github/Serverless-Web-Application-on-AWS/script.js to s3://amonkincloudexample/script.js\n"
     ]
    }
   ],
   "source": [
    "!aws s3 sync /home/maanya/Downloads/other_github/Serverless-Web-Application-on-AWS s3://amonkincloudexample"
   ]
  },
  {
   "cell_type": "code",
   "execution_count": null,
   "id": "73eace43",
   "metadata": {},
   "outputs": [],
   "source": [
    "# Checking versioning enabled or not\n",
    "aws s3api get-bucket-versioning --bucket bucket_name"
   ]
  },
  {
   "cell_type": "code",
   "execution_count": 9,
   "id": "5f5aac39",
   "metadata": {},
   "outputs": [],
   "source": [
    "!aws s3api get-bucket-versioning --bucket amonkincloudexample"
   ]
  },
  {
   "cell_type": "code",
   "execution_count": null,
   "id": "04388bd6",
   "metadata": {},
   "outputs": [],
   "source": [
    "# Empty the S3 bucket\n",
    "aws s3 rm s3://<bucket_name> --recursive"
   ]
  },
  {
   "cell_type": "code",
   "execution_count": 10,
   "id": "d832ed57",
   "metadata": {},
   "outputs": [
    {
     "name": "stdout",
     "output_type": "stream",
     "text": [
      "delete: s3://amonkincloudexample/index.html\n",
      "delete: s3://amonkincloudexample/script.js\n",
      "delete: s3://amonkincloudexample/README.md\n",
      "delete: s3://amonkincloudexample/lambda-function.py\n",
      "delete: s3://amonkincloudexample/style.css\n"
     ]
    }
   ],
   "source": [
    "!aws s3 rm s3://amonkincloudexample --recursive"
   ]
  },
  {
   "cell_type": "code",
   "execution_count": null,
   "id": "d5d8aa5b",
   "metadata": {},
   "outputs": [],
   "source": [
    "# adding the files with exclude of py files\n",
    "aws s3 sync . s3://mybucket --exclude \"*.jpg\""
   ]
  },
  {
   "cell_type": "code",
   "execution_count": 11,
   "id": "3134a28e",
   "metadata": {},
   "outputs": [
    {
     "name": "stdout",
     "output_type": "stream",
     "text": [
      "upload: ../../../other_github/Serverless-Web-Application-on-AWS/script.js to s3://amonkincloudexample/script.js\n",
      "upload: ../../../other_github/Serverless-Web-Application-on-AWS/index.html to s3://amonkincloudexample/index.html\n",
      "upload: ../../../other_github/Serverless-Web-Application-on-AWS/style.css to s3://amonkincloudexample/style.css\n",
      "upload: ../../../other_github/Serverless-Web-Application-on-AWS/README.md to s3://amonkincloudexample/README.md\n"
     ]
    }
   ],
   "source": [
    "!aws s3 sync ~/Downloads/other_github/Serverless-Web-Application-on-AWS s3://amonkincloudexample --exclude \"*.py\""
   ]
  },
  {
   "cell_type": "code",
   "execution_count": null,
   "id": "9a17e5fd",
   "metadata": {},
   "outputs": [],
   "source": []
  }
 ],
 "metadata": {
  "kernelspec": {
   "display_name": "Python 3 (ipykernel)",
   "language": "python",
   "name": "python3"
  },
  "language_info": {
   "codemirror_mode": {
    "name": "ipython",
    "version": 3
   },
   "file_extension": ".py",
   "mimetype": "text/x-python",
   "name": "python",
   "nbconvert_exporter": "python",
   "pygments_lexer": "ipython3",
   "version": "3.10.6"
  }
 },
 "nbformat": 4,
 "nbformat_minor": 5
}
