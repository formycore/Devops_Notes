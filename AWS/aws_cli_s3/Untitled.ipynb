{
 "cells": [
  {
   "cell_type": "code",
   "execution_count": null,
   "id": "6d781c98",
   "metadata": {},
   "outputs": [],
   "source": [
    "# Create s3 bucket with public deny access\n",
    "# always start aws cmds with !aws"
   ]
  },
  {
   "cell_type": "code",
   "execution_count": 1,
   "id": "8c46293c",
   "metadata": {},
   "outputs": [
    {
     "name": "stdout",
     "output_type": "stream",
     "text": [
      "make_bucket: amonkincloudexample\r\n"
     ]
    }
   ],
   "source": [
    "!aws s3 mb s3://amonkincloudexample"
   ]
  },
  {
   "cell_type": "code",
   "execution_count": null,
   "id": "096783b0",
   "metadata": {},
   "outputs": [],
   "source": [
    "# Now attach the public deny access"
   ]
  },
  {
   "cell_type": "code",
   "execution_count": 2,
   "id": "e0375021",
   "metadata": {},
   "outputs": [],
   "source": [
    "!aws s3api put-public-access-block \\\n",
    "--bucket amonkincloudexample \\\n",
    "--public-access-block-configuration \"BlockPublicAcls=true,IgnorePublicAcls=true,BlockPublicPolicy=true,RestrictPublicBuckets=true\""
   ]
  },
  {
   "cell_type": "code",
   "execution_count": null,
   "id": "c65dfeac",
   "metadata": {},
   "outputs": [],
   "source": [
    "# upload files to S3 with boto3"
   ]
  },
  {
   "cell_type": "code",
   "execution_count": 6,
   "id": "bfd09936",
   "metadata": {},
   "outputs": [
    {
     "name": "stdout",
     "output_type": "stream",
     "text": [
      "\r\n",
      "usage: aws s3 sync <LocalPath> <S3Uri> or <S3Uri> <LocalPath> or <S3Uri> <S3Uri>\r\n",
      "Error: Invalid argument type\r\n"
     ]
    }
   ],
   "source": [
    "!aws s3 sync /home/maanya/Downloads/other_github/Serverless-Web-Application-on-AWS amonkincloudexample"
   ]
  },
  {
   "cell_type": "code",
   "execution_count": null,
   "id": "c7045bc1",
   "metadata": {},
   "outputs": [],
   "source": [
    "# Uploading the content to S3 bucket"
   ]
  },
  {
   "cell_type": "code",
   "execution_count": 8,
   "id": "c352ae2f",
   "metadata": {},
   "outputs": [
    {
     "name": "stdout",
     "output_type": "stream",
     "text": [
      "upload: ../../../other_github/Serverless-Web-Application-on-AWS/index.html to s3://amonkincloudexample/index.html\n",
      "upload: ../../../other_github/Serverless-Web-Application-on-AWS/README.md to s3://amonkincloudexample/README.md\n",
      "upload: ../../../other_github/Serverless-Web-Application-on-AWS/style.css to s3://amonkincloudexample/style.css\n",
      "upload: ../../../other_github/Serverless-Web-Application-on-AWS/lambda-function.py to s3://amonkincloudexample/lambda-function.py\n",
      "upload: ../../../other_github/Serverless-Web-Application-on-AWS/script.js to s3://amonkincloudexample/script.js\n"
     ]
    }
   ],
   "source": [
    "!aws s3 sync /home/maanya/Downloads/other_github/Serverless-Web-Application-on-AWS s3://amonkincloudexample"
   ]
  },
  {
   "cell_type": "code",
   "execution_count": null,
   "id": "5cc440f1",
   "metadata": {},
   "outputs": [],
   "source": [
    "# Checking versioning enabled or not\n",
    "aws s3api get-bucket-versioning --bucket bucket_name"
   ]
  },
  {
   "cell_type": "code",
   "execution_count": 9,
   "id": "9378c176",
   "metadata": {},
   "outputs": [],
   "source": [
    "!aws s3api get-bucket-versioning --bucket amonkincloudexample"
   ]
  },
  {
   "cell_type": "code",
   "execution_count": null,
   "id": "e6aa86e7",
   "metadata": {},
   "outputs": [],
   "source": [
    "# Empty the S3 bucket\n",
    "aws s3 rm s3://<bucket_name> --recursive"
   ]
  },
  {
   "cell_type": "code",
   "execution_count": 10,
   "id": "b281dda6",
   "metadata": {},
   "outputs": [
    {
     "name": "stdout",
     "output_type": "stream",
     "text": [
      "delete: s3://amonkincloudexample/index.html\n",
      "delete: s3://amonkincloudexample/script.js\n",
      "delete: s3://amonkincloudexample/README.md\n",
      "delete: s3://amonkincloudexample/lambda-function.py\n",
      "delete: s3://amonkincloudexample/style.css\n"
     ]
    }
   ],
   "source": [
    "!aws s3 rm s3://amonkincloudexample --recursive"
   ]
  },
  {
   "cell_type": "code",
   "execution_count": null,
   "id": "fcaca781",
   "metadata": {},
   "outputs": [],
   "source": [
    "# adding the files with exclude of "
   ]
  },
  {
   "cell_type": "code",
   "execution_count": null,
   "id": "e87f39db",
   "metadata": {},
   "outputs": [],
   "source": []
  },
  {
   "cell_type": "code",
   "execution_count": null,
   "id": "620a8f35",
   "metadata": {},
   "outputs": [],
   "source": []
  }
 ],
 "metadata": {
  "kernelspec": {
   "display_name": "Python 3 (ipykernel)",
   "language": "python",
   "name": "python3"
  },
  "language_info": {
   "codemirror_mode": {
    "name": "ipython",
    "version": 3
   },
   "file_extension": ".py",
   "mimetype": "text/x-python",
   "name": "python",
   "nbconvert_exporter": "python",
   "pygments_lexer": "ipython3",
   "version": "3.10.6"
  }
 },
 "nbformat": 4,
 "nbformat_minor": 5
}
