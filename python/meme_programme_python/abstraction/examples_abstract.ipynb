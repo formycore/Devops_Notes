{
 "cells": [
  {
   "cell_type": "code",
   "execution_count": null,
   "id": "d853f270-e6ad-4169-a7fa-922b2b02a4d8",
   "metadata": {},
   "outputs": [],
   "source": [
    "\"\"\"\n",
    "- if a class contains more than 1 abstract method, then the class must be declared abstract\n",
    "- what is abstract method?\n",
    "    if the method declared without implementation \n",
    "    - we cannot instantiate abstract class it means we cannot create object of abstract class\n",
    "-------------------------\n",
    "class A:\n",
    "    def method(self):\n",
    "        pass\n",
    "obj = A()\n",
    "obj.method() # ouput is empty \n",
    "------------------------------\n",
    "- we need to use abc module to create abstract class\n",
    "- in abc module we have ABC class, and abstractmethod\n",
    "- how to use these\n",
    "\n",
    "\n",
    "\"\"\""
   ]
  },
  {
   "cell_type": "code",
   "execution_count": 1,
   "id": "013ada2d-dc9e-42fc-b89d-1a0440205a91",
   "metadata": {},
   "outputs": [
    {
     "ename": "TypeError",
     "evalue": "Can't instantiate abstract class A with abstract method method",
     "output_type": "error",
     "traceback": [
      "\u001b[0;31m---------------------------------------------------------------------------\u001b[0m",
      "\u001b[0;31mTypeError\u001b[0m                                 Traceback (most recent call last)",
      "Cell \u001b[0;32mIn[1], line 8\u001b[0m\n\u001b[1;32m      5\u001b[0m     \u001b[38;5;129m@abstractmethod\u001b[39m \u001b[38;5;66;03m# pass the decorater for the method\u001b[39;00m\n\u001b[1;32m      6\u001b[0m     \u001b[38;5;28;01mdef\u001b[39;00m \u001b[38;5;21mmethod\u001b[39m(\u001b[38;5;28mself\u001b[39m):\n\u001b[1;32m      7\u001b[0m         \u001b[38;5;28;01mpass\u001b[39;00m\n\u001b[0;32m----> 8\u001b[0m obj1 \u001b[38;5;241m=\u001b[39m \u001b[43mA\u001b[49m\u001b[43m(\u001b[49m\u001b[43m)\u001b[49m\n\u001b[1;32m      9\u001b[0m obj1\u001b[38;5;241m.\u001b[39mmethod()\n",
      "\u001b[0;31mTypeError\u001b[0m: Can't instantiate abstract class A with abstract method method"
     ]
    }
   ],
   "source": [
    "# we need to import ABC class and abstractmethod\n",
    "# we get the error her \n",
    "from abc import ABC,abstractmethod\n",
    "class A(ABC): # we need to pass the ABC class here\n",
    "    @abstractmethod # pass the decorater for the method\n",
    "    def method(self):\n",
    "        pass\n",
    "obj1 = A()\n",
    "obj1.method()"
   ]
  },
  {
   "cell_type": "code",
   "execution_count": null,
   "id": "31905f75-93db-4c82-acca-be42afda6c62",
   "metadata": {},
   "outputs": [],
   "source": [
    "from abc import ABC,abstractmethod\n",
    "class A(ABC):\n",
    "    @abstractmethod\n",
    "    def method1(self):\n",
    "        pass\n",
    "    def method2(self): # no abstract method decorator & in the abstract class normal method is called concrete method\n",
    "        print(\"This is a concrete method\")"
   ]
  },
  {
   "cell_type": "code",
   "execution_count": null,
   "id": "063498f6-bdbe-45be-b835-dc155a8f56d8",
   "metadata": {},
   "outputs": [],
   "source": [
    "\"\"\"\n",
    "we cannot create object directly for abstract class, we need to inherit abstract class & we can create object\n",
    "RULES TO INHERIT ABSTRACT CLASS, ABSTRACT METHODS IN ABSTRACT CLASS MUST IMPLEMENT IN SUBCLASS\n",
    "IN ALL THE ABSTRACT METHODS IN ABSTRACT CLASS WE NEED TO WRITE METHOD IN SUBCLASS\n",
    "WITH THAT ONLY WE CAN GET THE OBJECT FOR THE SUBCLASS OR ELSE WE GET THE ERROR\n",
    "\"\"\""
   ]
  },
  {
   "cell_type": "code",
   "execution_count": 2,
   "id": "69a6354c-828b-4322-9d7a-652c7ab0d8ec",
   "metadata": {},
   "outputs": [
    {
     "name": "stdout",
     "output_type": "stream",
     "text": [
      "Method1 is implemented in subclass\n",
      " This is concrete method\n",
      "Method3 is implemented in subclass\n"
     ]
    }
   ],
   "source": [
    "# USING SUBCLASS CREATE AN OBJECT FOR ABSTRACT CLASS\n",
    "# if we call the abstract method directly we got error so to use the abstract method first create a subclass\n",
    "# then we need to call that method using subclass as below\n",
    "from abc import ABC,abstractmethod\n",
    "class A(ABC):\n",
    "    @abstractmethod\n",
    "    def method1(self):\n",
    "        pass\n",
    "    def method2(self):\n",
    "        print(\" This is concrete method\")\n",
    "    @abstractmethod\n",
    "    def method3(self):\n",
    "        pass\n",
    "class B(A):\n",
    "    def method1(self):\n",
    "        print(\"Method1 is implemented in subclass\")\n",
    "    def method3(self):\n",
    "        print(\"Method3 is implemented in subclass\")\n",
    "obj = B()\n",
    "obj.method1()\n",
    "obj.method2()\n",
    "obj.method3()"
   ]
  },
  {
   "cell_type": "code",
   "execution_count": 3,
   "id": "197c7b73-07cd-493b-8a40-bca1d7da84d1",
   "metadata": {},
   "outputs": [
    {
     "ename": "TypeError",
     "evalue": "Can't instantiate abstract class B with abstract method method4",
     "output_type": "error",
     "traceback": [
      "\u001b[0;31m---------------------------------------------------------------------------\u001b[0m",
      "\u001b[0;31mTypeError\u001b[0m                                 Traceback (most recent call last)",
      "Cell \u001b[0;32mIn[3], line 21\u001b[0m\n\u001b[1;32m     19\u001b[0m     \u001b[38;5;28;01mdef\u001b[39;00m \u001b[38;5;21mmethod3\u001b[39m(\u001b[38;5;28mself\u001b[39m):\n\u001b[1;32m     20\u001b[0m         \u001b[38;5;28mprint\u001b[39m(\u001b[38;5;124m\"\u001b[39m\u001b[38;5;124mMethod3 is implemented in subclass\u001b[39m\u001b[38;5;124m\"\u001b[39m)\n\u001b[0;32m---> 21\u001b[0m obj \u001b[38;5;241m=\u001b[39m \u001b[43mB\u001b[49m\u001b[43m(\u001b[49m\u001b[43m)\u001b[49m\n\u001b[1;32m     22\u001b[0m obj\u001b[38;5;241m.\u001b[39mmethod1()\n\u001b[1;32m     23\u001b[0m obj\u001b[38;5;241m.\u001b[39mmethod2()\n",
      "\u001b[0;31mTypeError\u001b[0m: Can't instantiate abstract class B with abstract method method4"
     ]
    }
   ],
   "source": [
    "# we get error\n",
    "# as we are not taken in the method4 in the subclass\n",
    "# for every abstract method in abstract class we should create in the subclass\n",
    "from abc import ABC,abstractmethod\n",
    "class A(ABC):\n",
    "    @abstractmethod\n",
    "    def method1(self):\n",
    "        pass\n",
    "    def method2(self):\n",
    "        print(\" This is concrete method\")\n",
    "    @abstractmethod\n",
    "    def method3(self):\n",
    "        pass\n",
    "    @abstractmethod\n",
    "    def method4(self):\n",
    "        pass \n",
    "class B(A):\n",
    "    def method1(self):\n",
    "        print(\"Method1 is implemented in subclass\")\n",
    "    def method3(self):\n",
    "        print(\"Method3 is implemented in subclass\")\n",
    "obj = B()\n",
    "obj.method1()\n",
    "obj.method2()\n",
    "obj.method3()"
   ]
  },
  {
   "cell_type": "code",
   "execution_count": null,
   "id": "b8e60a00-bc46-493c-a8d3-2ad8ee9efcc3",
   "metadata": {},
   "outputs": [],
   "source": [
    "\"\"\"\n",
    "why abstract class \n",
    "    - abstract classes are used as blueprint for another class\n",
    "        - why ?\n",
    "            - if a project has lot of classes and functions then dev creates abstract class & use those class \n",
    "            inheriting\n",
    "            - if we want to define set of classes if the classess have common behaviour then we create\n",
    "            abstract class & derive subclasses from it\n",
    "    - ex: laptop class \n",
    "            - dell\n",
    "            - hp\n",
    "            - apple\n",
    "\n",
    "            Behaivour\n",
    "                os\n",
    "                RAM\n",
    "                processor\n",
    "        - so these common behaviour abstract class desgined \n",
    "WHEN abstract class ?\n",
    "    - when we create classes, if the classes have same method and implementation is different then we create\n",
    "    abstract class\n",
    "\n",
    "    చేసేది ఒకటే కానీ విదానం వేరు - these pattern we use abstract class\n",
    "\n",
    "\n",
    "    example: polygons \n",
    "        - polygons are 2D strait line figures\n",
    "        - triangle 3 sides\n",
    "        - rectangle 4 sides\n",
    "        - pentagon 5 sides\n",
    "\n",
    "\"\"\""
   ]
  },
  {
   "cell_type": "code",
   "execution_count": 5,
   "id": "2f1e7717-f2f4-4fc0-9eb2-0b378a967b56",
   "metadata": {},
   "outputs": [
    {
     "name": "stdout",
     "output_type": "stream",
     "text": [
      "This is for <__main__.Rectangle object at 0x7f3e6a64e110> are : 200\n",
      "This is for <__main__.Rectangle object at 0x7f3e6a64e110> are : 60\n",
      "This is for <__main__.Rectangle object at 0x7f3e6a64e110> are : rectangle has 4 sides\n",
      "This is for <__main__.Rectangle object at 0x7f3e6a64e110> are : this is a 2D plane figure\n",
      "This is for <__main__.Square object at 0x7f3e6a64ca90> are : 100\n",
      "This is for <__main__.Square object at 0x7f3e6a64ca90> are : 40\n",
      "This square has 4 sides\n",
      "This is for <__main__.Square object at 0x7f3e6a64ca90> are : None\n",
      "This is for <__main__.Square object at 0x7f3e6a64ca90> are : this is a 2D plane figure\n"
     ]
    }
   ],
   "source": [
    "from abc import ABC,abstractmethod\n",
    "from math import sqrt\n",
    "class Polygon(ABC):\n",
    "    @abstractmethod\n",
    "    def sides(self):\n",
    "        pass\n",
    "    @abstractmethod\n",
    "    def area(self):\n",
    "        pass\n",
    "    @abstractmethod\n",
    "    def perimeter(self):\n",
    "        pass\n",
    "    def figure(self):\n",
    "        return 'this is a 2D plane figure'\n",
    "class Rectangle(Polygon):\n",
    "    def sides(self, length, breadth):\n",
    "        self.length = length\n",
    "        self.breadth = breadth\n",
    "    def area(self):\n",
    "        return self.length*self.breadth # area of rectangle length X breadth\n",
    "    def perimeter(self):\n",
    "        return 2*(self.length+self.breadth) # perimeter of rectangle is 2*(length+breadth)\n",
    "    def extramethod(self):\n",
    "        return 'rectangle has 4 sides'\n",
    "class Square(Polygon):\n",
    "    def sides(self,side):\n",
    "        self.side = side\n",
    "    def area(self):\n",
    "        return self.side*self.side\n",
    "    def perimeter(self):\n",
    "        return 4*(self.side)\n",
    "    def extramethod(self):\n",
    "        print(\"This square has 4 sides\")\n",
    "rec = Rectangle()\n",
    "rec.sides(10,20)\n",
    "squ = Square()\n",
    "squ.sides(10)\n",
    "\n",
    "for obj in [rec,squ]:\n",
    "    print(f\"This is for {obj} are : {obj.area()}\")\n",
    "    print(f\"This is for {obj} are : {obj.perimeter()}\")\n",
    "    print(f\"This is for {obj} are : {obj.extramethod()}\")\n",
    "    print(f\"This is for {obj} are : {obj.figure()}\")\n",
    "        \n",
    "\n"
   ]
  },
  {
   "cell_type": "code",
   "execution_count": null,
   "id": "b092cc52-6f65-476e-ae6d-ae7ab54bd6e8",
   "metadata": {},
   "outputs": [],
   "source": []
  },
  {
   "cell_type": "code",
   "execution_count": null,
   "id": "fd81da6d-f545-4035-9798-1139449aa159",
   "metadata": {},
   "outputs": [],
   "source": []
  }
 ],
 "metadata": {
  "kernelspec": {
   "display_name": "Python 3 (ipykernel)",
   "language": "python",
   "name": "python3"
  },
  "language_info": {
   "codemirror_mode": {
    "name": "ipython",
    "version": 3
   },
   "file_extension": ".py",
   "mimetype": "text/x-python",
   "name": "python",
   "nbconvert_exporter": "python",
   "pygments_lexer": "ipython3",
   "version": "3.10.12"
  }
 },
 "nbformat": 4,
 "nbformat_minor": 5
}
