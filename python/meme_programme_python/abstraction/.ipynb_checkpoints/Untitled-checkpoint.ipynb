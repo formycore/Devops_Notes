{
 "cells": [
  {
   "cell_type": "code",
   "execution_count": null,
   "id": "d853f270-e6ad-4169-a7fa-922b2b02a4d8",
   "metadata": {},
   "outputs": [],
   "source": [
    "\"\"\"\n",
    "- if a class contains more than 1 abstract method, then the class must be declared abstract\n",
    "- what is abstract method?\n",
    "    if the method declared without implementation \n",
    "    - we cannot instantiate abstract class it means we cannot create object of abstract class\n",
    "-------------------------\n",
    "class A:\n",
    "    def method(self):\n",
    "        pass\n",
    "obj = A()\n",
    "obj.method() # ouput is empty \n",
    "------------------------------\n",
    "- we need to use abc module to create abstract class\n",
    "- in abc module we have ABC class, and abstractmethod\n",
    "- how to use these\n",
    "\n",
    "\n",
    "\"\"\""
   ]
  },
  {
   "cell_type": "code",
   "execution_count": null,
   "id": "013ada2d-dc9e-42fc-b89d-1a0440205a91",
   "metadata": {},
   "outputs": [],
   "source": []
  },
  {
   "cell_type": "code",
   "execution_count": null,
   "id": "31905f75-93db-4c82-acca-be42afda6c62",
   "metadata": {},
   "outputs": [],
   "source": []
  },
  {
   "cell_type": "code",
   "execution_count": null,
   "id": "063498f6-bdbe-45be-b835-dc155a8f56d8",
   "metadata": {},
   "outputs": [],
   "source": []
  },
  {
   "cell_type": "code",
   "execution_count": null,
   "id": "69a6354c-828b-4322-9d7a-652c7ab0d8ec",
   "metadata": {},
   "outputs": [],
   "source": []
  },
  {
   "cell_type": "code",
   "execution_count": null,
   "id": "197c7b73-07cd-493b-8a40-bca1d7da84d1",
   "metadata": {},
   "outputs": [],
   "source": []
  },
  {
   "cell_type": "code",
   "execution_count": null,
   "id": "b8e60a00-bc46-493c-a8d3-2ad8ee9efcc3",
   "metadata": {},
   "outputs": [],
   "source": []
  },
  {
   "cell_type": "code",
   "execution_count": null,
   "id": "2f1e7717-f2f4-4fc0-9eb2-0b378a967b56",
   "metadata": {},
   "outputs": [],
   "source": []
  },
  {
   "cell_type": "code",
   "execution_count": null,
   "id": "b092cc52-6f65-476e-ae6d-ae7ab54bd6e8",
   "metadata": {},
   "outputs": [],
   "source": []
  },
  {
   "cell_type": "code",
   "execution_count": null,
   "id": "fd81da6d-f545-4035-9798-1139449aa159",
   "metadata": {},
   "outputs": [],
   "source": []
  }
 ],
 "metadata": {
  "kernelspec": {
   "display_name": "Python 3 (ipykernel)",
   "language": "python",
   "name": "python3"
  },
  "language_info": {
   "codemirror_mode": {
    "name": "ipython",
    "version": 3
   },
   "file_extension": ".py",
   "mimetype": "text/x-python",
   "name": "python",
   "nbconvert_exporter": "python",
   "pygments_lexer": "ipython3",
   "version": "3.10.12"
  }
 },
 "nbformat": 4,
 "nbformat_minor": 5
}
