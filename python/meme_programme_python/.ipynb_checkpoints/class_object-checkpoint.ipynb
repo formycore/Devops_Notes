{
 "cells": [
  {
   "cell_type": "code",
   "execution_count": 1,
   "metadata": {},
   "outputs": [
    {
     "name": "stdout",
     "output_type": "stream",
     "text": [
      "10\n",
      "20\n"
     ]
    }
   ],
   "source": [
    "class SampleClass:\n",
    "    attrib1= 10\n",
    "    attrib2 = 20\n",
    "# to access this class we need to store SampleClass into a variable\n",
    "obj1 = SampleClass()\n",
    "# we can use the attributes & methods which were defined in the class with object also\n",
    "print(obj1.attrib1)\n",
    "print(obj1.attrib2)    "
   ]
  },
  {
   "cell_type": "code",
   "execution_count": 7,
   "metadata": {},
   "outputs": [
    {
     "name": "stdout",
     "output_type": "stream",
     "text": [
      "100\n",
      "10\n",
      "10\n",
      "100\n",
      "1\n",
      "1\n"
     ]
    }
   ],
   "source": [
    "# can we change the value of the class attributes & methods with objects ?\n",
    "class SampleClass:\n",
    "    attrib1= 10\n",
    "    attrib2 = 20\n",
    "\n",
    "obj1 = SampleClass()\n",
    "obj2 = SampleClass()\n",
    "obj3 = SampleClass()\n",
    "\n",
    "\n",
    "# now printing the objects \n",
    "# print(obj1.attrib1)\n",
    "# print(obj2.attrib1)\n",
    "# print(obj3.attrib1)\n",
    "# print(obj1.attrib2)\n",
    "# print(obj2.attrib2)\n",
    "# print(obj3.attrib2)\n",
    "\n",
    "# now updating the values of attributes \n",
    "obj1.attrib1 = 100 # previous it's value is 10 now we changed to 100\n",
    "# now print the value of obj1\n",
    "print(obj1.attrib1)\n",
    "# now the output is 100\n",
    "# does this change the value of other object also ? check the obj2\n",
    "print(obj2.attrib1)\n",
    "# the output is 10 so it means it is not changes all the values of the object \n",
    "# if we change the value of the attribute it changes to that object not for others and class also \n",
    "# now checking the value of the class attribute \n",
    "print(SampleClass.attrib1)\n",
    "# o/p is 10 the value for the class is not changed\n",
    "\n",
    "# now we are change the value of the attribute of the class \n",
    "SampleClass.attrib1 = 1\n",
    "# in the above obj1,obj2 will be the same ?\n",
    "print(obj1.attrib1) # the value will be 100 as it has created seperatly\n",
    "print(obj2.attrib1) # now the val is 1\n",
    "print(obj3.attrib1) # now the val is 1"
   ]
  },
  {
   "cell_type": "code",
   "execution_count": 8,
   "metadata": {},
   "outputs": [
    {
     "name": "stdout",
     "output_type": "stream",
     "text": [
      "This Method is for demo for sample method in class\n",
      "None\n"
     ]
    }
   ],
   "source": [
    "# Creating Method in a class\n",
    "class SampleClass1:\n",
    "    def sampleMethod(self):\n",
    "        print('This Method is for demo for sample method in class')\n",
    "new_obj1 = SampleClass1()\n",
    "# for accessing method objectname.method ()\n",
    "print(new_obj1.sampleMethod()) # check we are not giving any argument in the method like self which is declered the\n",
    "# class method\n"
   ]
  },
  {
   "cell_type": "code",
   "execution_count": null,
   "metadata": {},
   "outputs": [],
   "source": [
    "# what is __init__ method \n",
    "# if we use this __init__ method in a class\n",
    "# it will be called automatically executed when the class is called \n",
    "# if we want to store any attribute to initial time for the object , those attributes are declared in this \n",
    "# __init__ method while creating the class\n",
    "# when ever we create the object that is called the class\n",
    "# what ever that are stored in the init method they are replicated to the object\n",
    "\n",
    "\"\"\"\n",
    "for example Bank Account  Atrributes\n",
    "1) Bank Acc Number\n",
    "2) Bank Acc Holder Name\n",
    "3) Bank IFSC code\n",
    "4) Bank Acc Balance\n",
    "\"\"\"\n",
    "# these attributes should be in the object only, to store these kind of attributes in object we use init method\n",
    "# __init__() method is called constructer \n",
    "\"\"\"\n",
    "syntax of init method\n",
    "\n",
    "def __init__(self,paramater1,parameter2,.....):\n",
    "    self.parameter1 = parameter1\n",
    "    self.parameter2 = parameter2\n",
    "\n",
    "- for every \n",
    "\n",
    "\"\"\""
   ]
  },
  {
   "cell_type": "code",
   "execution_count": 9,
   "metadata": {},
   "outputs": [
    {
     "name": "stdout",
     "output_type": "stream",
     "text": [
      "This method called automatically when the class was called \n",
      "<__main__.ConstructionClass object at 0x7f5d0903edd0>\n"
     ]
    }
   ],
   "source": [
    "class ConstructionClass:\n",
    "    def __init__(self):\n",
    "        print('This method called automatically when the class was called ')\n",
    "o1 = ConstructionClass()\n",
    "print(o1)"
   ]
  },
  {
   "cell_type": "code",
   "execution_count": 10,
   "metadata": {},
   "outputs": [
    {
     "ename": "TypeError",
     "evalue": "BankAccount.__init__() missing 4 required positional arguments: 'accNo', 'accName', 'ifsccode', and 'balance'",
     "output_type": "error",
     "traceback": [
      "\u001b[0;31m---------------------------------------------------------------------------\u001b[0m",
      "\u001b[0;31mTypeError\u001b[0m                                 Traceback (most recent call last)",
      "Cell \u001b[0;32mIn[10], line 9\u001b[0m\n\u001b[1;32m      7\u001b[0m     \u001b[38;5;28;01mdef\u001b[39;00m \u001b[38;5;21mdisplay\u001b[39m(\u001b[38;5;28mself\u001b[39m):\n\u001b[1;32m      8\u001b[0m         \u001b[38;5;28mprint\u001b[39m(\u001b[38;5;28mself\u001b[39m\u001b[38;5;241m.\u001b[39maccNo,\u001b[38;5;28mself\u001b[39m\u001b[38;5;241m.\u001b[39maccName,\u001b[38;5;28mself\u001b[39m\u001b[38;5;241m.\u001b[39mifsccode,\u001b[38;5;28mself\u001b[39m,balance)\n\u001b[0;32m----> 9\u001b[0m object1 \u001b[38;5;241m=\u001b[39m \u001b[43mBankAccount\u001b[49m\u001b[43m(\u001b[49m\u001b[43m)\u001b[49m\n",
      "\u001b[0;31mTypeError\u001b[0m: BankAccount.__init__() missing 4 required positional arguments: 'accNo', 'accName', 'ifsccode', and 'balance'"
     ]
    }
   ],
   "source": [
    "class BankAccount:\n",
    "    def __init__(self,accNo,accName,ifsccode,balance):\n",
    "        self.accNo = accNo\n",
    "        self.accName = accName\n",
    "        self.ifsccode = ifsccode\n",
    "        self.balance = balance\n",
    "    def display(self):\n",
    "        print(self.accNo,self.accName,self.ifsccode,self,balance)\n",
    "object1 = BankAccount()"
   ]
  },
  {
   "cell_type": "code",
   "execution_count": null,
   "metadata": {},
   "outputs": [],
   "source": [
    "\"\"\"\n",
    "The above code throwed an error \n",
    "when ever we call the class init method is called\n",
    "from the above code at last line we didn't given the arguments in the Bankaccount, that's the reason we got\n",
    "above error\n",
    "just like function arguments\n",
    "\"\"\""
   ]
  },
  {
   "cell_type": "code",
   "execution_count": 14,
   "metadata": {},
   "outputs": [
    {
     "name": "stdout",
     "output_type": "stream",
     "text": [
      "123456789 dhoni SBIN1234 10000\n",
      "None\n"
     ]
    }
   ],
   "source": [
    " class BankAccount:\n",
    "    def __init__(self,accNo,accName,ifsccode,balance):\n",
    "        self.accNo = accNo\n",
    "        self.accName = accName\n",
    "        self.ifsccode = ifsccode\n",
    "        self.balance = balance\n",
    "    def display(self):\n",
    "        print(self.accNo,self.accName,self.ifsccode,self.balance)\n",
    "object1 = BankAccount(123456789,'dhoni','SBIN1234',10000)\n",
    "print(object1.display())\n",
    "# here we need to call method as the method ends with ()"
   ]
  },
  {
   "cell_type": "code",
   "execution_count": null,
   "metadata": {},
   "outputs": [],
   "source": []
  },
  {
   "cell_type": "code",
   "execution_count": null,
   "metadata": {},
   "outputs": [],
   "source": []
  },
  {
   "cell_type": "code",
   "execution_count": null,
   "metadata": {},
   "outputs": [],
   "source": []
  }
 ],
 "metadata": {
  "kernelspec": {
   "display_name": "Python 3",
   "language": "python",
   "name": "python3"
  },
  "language_info": {
   "codemirror_mode": {
    "name": "ipython",
    "version": 3
   },
   "file_extension": ".py",
   "mimetype": "text/x-python",
   "name": "python",
   "nbconvert_exporter": "python",
   "pygments_lexer": "ipython3",
   "version": "3.10.12"
  }
 },
 "nbformat": 4,
 "nbformat_minor": 2
}
