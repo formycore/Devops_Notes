{
 "cells": [
  {
   "cell_type": "markdown",
   "metadata": {},
   "source": [
    "# Declare data or method alteast with 2 leading underscore & atmost 1 trailing underscore\n",
    "# then it will replace to _classNameName by the interpreter\n",
    "__data_\n",
    "leading_underscore other underscore is called trailing\n",
    "\n",
    "__className Name\n",
    "class name of data or method"
   ]
  },
  {
   "cell_type": "code",
   "execution_count": 1,
   "metadata": {},
   "outputs": [
    {
     "name": "stdout",
     "output_type": "stream",
     "text": [
      "['_A_____d', '_A____c', '_A___b', '_A___h_', '_A__a', '_A__e_', '___j___', '__class__', '__delattr__', '__dict__', '__dir__', '__doc__', '__eq__', '__f__', '__format__', '__g___', '__ge__', '__getattribute__', '__gt__', '__hash__', '__init__', '__init_subclass__', '__le__', '__lt__', '__module__', '__ne__', '__new__', '__reduce__', '__reduce_ex__', '__repr__', '__setattr__', '__sizeof__', '__str__', '__subclasshook__', '__weakref__', '_i_']\n"
     ]
    }
   ],
   "source": [
    "class A:\n",
    "    __a = 10 #two underscrore\n",
    "    ___b = 20 # three underscrore\n",
    "    ____c =30 # four underscrore\n",
    "    _____d = 40 # five underscrore\n",
    "    __e_ = 50 # double and single underscrore\n",
    "    __f__ = 60 # double and double underscrore\n",
    "    __g___= 70 # double & three underscrore\n",
    "    ___h_ = 80 # three & single underscrore\n",
    "    _i_ = 90 # single & single underscrore\n",
    "    ___j___ = 100 # three & three underscrore\n",
    "\n",
    "# to find the name mangling for the variable\n",
    "print(dir(A))"
   ]
  },
  {
   "cell_type": "code",
   "execution_count": 2,
   "metadata": {},
   "outputs": [
    {
     "name": "stdout",
     "output_type": "stream",
     "text": [
      "_A_____d\n",
      "_A____c\n",
      "_A___b\n",
      "_A___h_\n",
      "_A__a\n",
      "_A__e_\n",
      "___j___\n",
      "__class__\n",
      "__delattr__\n",
      "__dict__\n",
      "__dir__\n",
      "__doc__\n",
      "__eq__\n",
      "__f__\n",
      "__format__\n",
      "__g___\n",
      "__ge__\n",
      "__getattribute__\n",
      "__gt__\n",
      "__hash__\n",
      "__init__\n",
      "__init_subclass__\n",
      "__le__\n",
      "__lt__\n",
      "__module__\n",
      "__ne__\n",
      "__new__\n",
      "__reduce__\n",
      "__reduce_ex__\n",
      "__repr__\n",
      "__setattr__\n",
      "__sizeof__\n",
      "__str__\n",
      "__subclasshook__\n",
      "__weakref__\n",
      "_i_\n"
     ]
    }
   ],
   "source": [
    "class A:\n",
    "    __a = 10 #two underscrore\n",
    "    ___b = 20 # three underscrore\n",
    "    ____c =30 # four underscrore\n",
    "    _____d = 40 # five underscrore\n",
    "    __e_ = 50 # double and single underscrore\n",
    "    __f__ = 60 # double and double underscrore\n",
    "    __g___= 70 # double & three underscrore\n",
    "    ___h_ = 80 # three & single underscrore\n",
    "    _i_ = 90 # single & single underscrore\n",
    "    ___j___ = 100 # three & three underscrore\n",
    "\n",
    "# to find the name mangling for the variable\n",
    "for i in dir(A):\n",
    "    print(i)"
   ]
  },
  {
   "cell_type": "code",
   "execution_count": null,
   "metadata": {},
   "outputs": [],
   "source": [
    "\"\"\"\n",
    "_ _ _ _ _d = _A_____d  five underscore of d become as _A_____d\n",
    "_ _ _ _ c = _A____c four underscore of c become _A____c\n",
    "\n",
    "_ _ a      # it has two leading underscore\n",
    "_ _ _ b    # it has two leading underscore\n",
    "_ _ _ _ c  # it has two leading underscore\n",
    "_ _ _ _ _ d # it has two leading underscore\n",
    "_ _ e _\n",
    "_ _ _ h _ \n",
    "\n",
    "\n",
    "before the name atleast 2 or more than underscore \n",
    "after the name 1 underscore trailing \n",
    "\n",
    "\n",
    "\n",
    "in python if we declare data as private member then it is accessabl only that class or not with objects\n",
    "\n",
    "\"\"\"`"
   ]
  },
  {
   "cell_type": "code",
   "execution_count": 3,
   "metadata": {},
   "outputs": [
    {
     "name": "stdout",
     "output_type": "stream",
     "text": [
      "10\n"
     ]
    }
   ],
   "source": [
    "class A:\n",
    "    __a = 10 #two underscrore\n",
    "    ___b = 20 # three underscrore\n",
    "    ____c =30 # four underscrore\n",
    "    _____d = 40 # five underscrore\n",
    "    __e_ = 50 # double and single underscrore\n",
    "    __f__ = 60 # double and double underscrore\n",
    "    __g___= 70 # double & three underscrore\n",
    "    ___h_ = 80 # three & single underscrore\n",
    "    _i_ = 90 # single & single underscrore\n",
    "    ___j___ = 100 # three & three underscrore\n",
    "    def getPrivateData(self):\n",
    "        print(self.__a)\n",
    "\n",
    "obj1 = A ()\n",
    "obj1.getPrivateData()"
   ]
  },
  {
   "cell_type": "code",
   "execution_count": 6,
   "metadata": {},
   "outputs": [
    {
     "ename": "AttributeError",
     "evalue": "'B' object has no attribute '_B__a'",
     "output_type": "error",
     "traceback": [
      "\u001b[0;31m---------------------------------------------------------------------------\u001b[0m",
      "\u001b[0;31mAttributeError\u001b[0m                            Traceback (most recent call last)",
      "Cell \u001b[0;32mIn[6], line 24\u001b[0m\n\u001b[1;32m     20\u001b[0m         \u001b[38;5;28mprint\u001b[39m(\u001b[38;5;28mself\u001b[39m\u001b[38;5;241m.\u001b[39m__a)\n\u001b[1;32m     23\u001b[0m obj2 \u001b[38;5;241m=\u001b[39m B()\n\u001b[0;32m---> 24\u001b[0m \u001b[43mobj2\u001b[49m\u001b[38;5;241;43m.\u001b[39;49m\u001b[43mgetPrivateMember\u001b[49m\u001b[43m(\u001b[49m\u001b[43m)\u001b[49m\n",
      "Cell \u001b[0;32mIn[6], line 20\u001b[0m, in \u001b[0;36mB.getPrivateMember\u001b[0;34m(self)\u001b[0m\n\u001b[1;32m     19\u001b[0m \u001b[38;5;28;01mdef\u001b[39;00m \u001b[38;5;21mgetPrivateMember\u001b[39m(\u001b[38;5;28mself\u001b[39m):\n\u001b[0;32m---> 20\u001b[0m     \u001b[38;5;28mprint\u001b[39m(\u001b[38;5;28;43mself\u001b[39;49m\u001b[38;5;241;43m.\u001b[39;49m\u001b[43m__a\u001b[49m)\n",
      "\u001b[0;31mAttributeError\u001b[0m: 'B' object has no attribute '_B__a'"
     ]
    }
   ],
   "source": [
    "\"\"\"\n",
    "we will get the error for this we cannot acces the private member with object \n",
    "\n",
    "\"\"\"\n",
    "class A:\n",
    "    __a = 10 #two underscrore\n",
    "    ___b = 20 # three underscrore\n",
    "    ____c =30 # four underscrore\n",
    "    _____d = 40 # five underscrore\n",
    "    __e_ = 50 # double and single underscrore\n",
    "    __f__ = 60 # double and double underscrore\n",
    "    __g___= 70 # double & three underscrore\n",
    "    ___h_ = 80 # three & single underscrore\n",
    "    _i_ = 90 # single & single underscrore\n",
    "    ___j___ = 100 # three & three underscrore\n",
    "    def getPrivateData(self):\n",
    "        print(self.__a)\n",
    "class B(A):\n",
    "    def getPrivateMember(self):\n",
    "        print(self.__a)\n",
    "\n",
    "\n",
    "obj2 = B()\n",
    "obj2.getPrivateMember()"
   ]
  },
  {
   "cell_type": "code",
   "execution_count": 4,
   "metadata": {},
   "outputs": [
    {
     "ename": "AttributeError",
     "evalue": "'A' object has no attribute '__a'",
     "output_type": "error",
     "traceback": [
      "\u001b[0;31m---------------------------------------------------------------------------\u001b[0m",
      "\u001b[0;31mAttributeError\u001b[0m                            Traceback (most recent call last)",
      "Cell \u001b[0;32mIn[4], line 22\u001b[0m\n\u001b[1;32m     20\u001b[0m         \u001b[38;5;28mprint\u001b[39m(\u001b[38;5;28mself\u001b[39m\u001b[38;5;241m.\u001b[39m__a)\n\u001b[1;32m     21\u001b[0m obj1 \u001b[38;5;241m=\u001b[39m A()\n\u001b[0;32m---> 22\u001b[0m \u001b[38;5;28mprint\u001b[39m(\u001b[43mobj1\u001b[49m\u001b[38;5;241;43m.\u001b[39;49m\u001b[43m__a\u001b[49m)\n",
      "\u001b[0;31mAttributeError\u001b[0m: 'A' object has no attribute '__a'"
     ]
    }
   ],
   "source": [
    "\"\"\"\n",
    "we will get we cannot access the private varible with object\n",
    "\n",
    "\"\"\"\n",
    "class A:\n",
    "    __a = 10 #two underscrore\n",
    "    ___b = 20 # three underscrore\n",
    "    ____c =30 # four underscrore\n",
    "    _____d = 40 # five underscrore\n",
    "    __e_ = 50 # double and single underscrore\n",
    "    __f__ = 60 # double and double underscrore\n",
    "    __g___= 70 # double & three underscrore\n",
    "    ___h_ = 80 # three & single underscrore\n",
    "    _i_ = 90 # single & single underscrore\n",
    "    ___j___ = 100 # three & three underscrore\n",
    "    def getPrivateData(self):\n",
    "        print(self.__a)\n",
    "class B(A):\n",
    "    def getPrivateMember(self):\n",
    "        print(self.__a)\n",
    "obj1 = A()\n",
    "print(obj1.__a)"
   ]
  },
  {
   "cell_type": "code",
   "execution_count": 7,
   "metadata": {},
   "outputs": [
    {
     "name": "stdout",
     "output_type": "stream",
     "text": [
      "10\n"
     ]
    }
   ],
   "source": [
    "# now with name mangling we can access the private variable with subclass & object \n",
    "class A:\n",
    "    __a = 10 #two underscrore\n",
    "    ___b = 20 # three underscrore\n",
    "    ____c =30 # four underscrore\n",
    "    _____d = 40 # five underscrore\n",
    "    __e_ = 50 # double and single underscrore\n",
    "    __f__ = 60 # double and double underscrore\n",
    "    __g___= 70 # double & three underscrore\n",
    "    ___h_ = 80 # three & single underscrore\n",
    "    _i_ = 90 # single & single underscrore\n",
    "    ___j___ = 100 # three & three underscrore\n",
    "    def getPrivateData(self):\n",
    "        print(self.__a)\n",
    "class B(A):\n",
    "    def getPrivateMember(self):\n",
    "        print(self.__a)\n",
    "obj1 = A()\n",
    "print(obj1._A__a)"
   ]
  },
  {
   "cell_type": "code",
   "execution_count": 11,
   "metadata": {},
   "outputs": [
    {
     "name": "stdout",
     "output_type": "stream",
     "text": [
      "10\n",
      "10\n",
      "10\n"
     ]
    }
   ],
   "source": [
    "class A:\n",
    "    __a = 10 #two underscrore\n",
    "    ___b = 20 # three underscrore\n",
    "    ____c =30 # four underscrore\n",
    "    _____d = 40 # five underscrore\n",
    "    __e_ = 50 # double and single underscrore\n",
    "    __f__ = 60 # double and double underscrore\n",
    "    __g___= 70 # double & three underscrore\n",
    "    ___h_ = 80 # three & single underscrore\n",
    "    _i_ = 90 # single & single underscrore\n",
    "    ___j___ = 100 # three & three underscrore\n",
    "    def getPrivateData(self):\n",
    "        print(self.__a)\n",
    "class B(A):\n",
    "    def getPrivateMember(self):\n",
    "        print(self._A__a)\n",
    "obj1 = A()\n",
    "print(obj1._A__a)\n",
    "obj2 = B()\n",
    "obj2.getPrivateMember()\n",
    "print(obj2._A__a)"
   ]
  },
  {
   "cell_type": "code",
   "execution_count": null,
   "metadata": {},
   "outputs": [],
   "source": []
  },
  {
   "cell_type": "code",
   "execution_count": null,
   "metadata": {},
   "outputs": [],
   "source": []
  },
  {
   "cell_type": "code",
   "execution_count": null,
   "metadata": {},
   "outputs": [],
   "source": []
  },
  {
   "cell_type": "code",
   "execution_count": null,
   "metadata": {},
   "outputs": [],
   "source": []
  },
  {
   "cell_type": "code",
   "execution_count": null,
   "metadata": {},
   "outputs": [],
   "source": []
  }
 ],
 "metadata": {
  "kernelspec": {
   "display_name": "Python 3",
   "language": "python",
   "name": "python3"
  },
  "language_info": {
   "codemirror_mode": {
    "name": "ipython",
    "version": 3
   },
   "file_extension": ".py",
   "mimetype": "text/x-python",
   "name": "python",
   "nbconvert_exporter": "python",
   "pygments_lexer": "ipython3",
   "version": "3.10.12"
  }
 },
 "nbformat": 4,
 "nbformat_minor": 2
}
