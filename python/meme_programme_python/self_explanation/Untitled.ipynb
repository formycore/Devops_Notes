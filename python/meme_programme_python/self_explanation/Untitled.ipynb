{
 "cells": [
  {
   "cell_type": "code",
   "execution_count": 1,
   "metadata": {},
   "outputs": [
    {
     "name": "stdout",
     "output_type": "stream",
     "text": [
      "Toyota\n"
     ]
    }
   ],
   "source": [
    "class Car:\n",
    "    def __init__(self, brand, model):\n",
    "        self.brand = brand\n",
    "        self.model = model\n",
    "my_car = Car('Toyota', 'camry')\n",
    "print(my_car.brand) # Accessing the instance variable using self"
   ]
  },
  {
   "cell_type": "code",
   "execution_count": 2,
   "id": "a7b4880d",
   "metadata": {},
   "outputs": [
    {
     "name": "stdout",
     "output_type": "stream",
     "text": [
      "1\n"
     ]
    }
   ],
   "source": [
    "class Counter:\n",
    "    def __init__(self):\n",
    "        self.count = 0\n",
    "\n",
    "    def increment(self):\n",
    "        self.count +=1\n",
    "\n",
    "counter = Counter()\n",
    "counter.increment()\n",
    "print(counter.count)"
   ]
  },
  {
   "cell_type": "code",
   "execution_count": 3,
   "id": "9ab9c409",
   "metadata": {},
   "outputs": [
    {
     "ename": "AttributeError",
     "evalue": "'Calculator' object has no attribute 'result'",
     "output_type": "error",
     "traceback": [
      "\u001b[0;31m---------------------------------------------------------------------------\u001b[0m",
      "\u001b[0;31mAttributeError\u001b[0m                            Traceback (most recent call last)",
      "Cell \u001b[0;32mIn[3], line 10\u001b[0m\n\u001b[1;32m      7\u001b[0m         \u001b[38;5;28mself\u001b[39m\u001b[38;5;241m.\u001b[39mresult \u001b[38;5;241m+\u001b[39m\u001b[38;5;241m=\u001b[39m x\n\u001b[1;32m      9\u001b[0m calc \u001b[38;5;241m=\u001b[39m Calculator(\u001b[38;5;241m5\u001b[39m)\n\u001b[0;32m---> 10\u001b[0m \u001b[43mcalc\u001b[49m\u001b[38;5;241;43m.\u001b[39;49m\u001b[43madd\u001b[49m\u001b[43m(\u001b[49m\u001b[38;5;241;43m10\u001b[39;49m\u001b[43m)\u001b[49m\n\u001b[1;32m     11\u001b[0m calc\u001b[38;5;241m.\u001b[39mmultiply(\u001b[38;5;241m2\u001b[39m)\n\u001b[1;32m     12\u001b[0m \u001b[38;5;28mprint\u001b[39m(calc\u001b[38;5;241m.\u001b[39mresult)\n",
      "Cell \u001b[0;32mIn[3], line 5\u001b[0m, in \u001b[0;36mCalculator.add\u001b[0;34m(self, x)\u001b[0m\n\u001b[1;32m      4\u001b[0m \u001b[38;5;28;01mdef\u001b[39;00m \u001b[38;5;21madd\u001b[39m(\u001b[38;5;28mself\u001b[39m,x):\n\u001b[0;32m----> 5\u001b[0m     \u001b[38;5;28mself\u001b[39m\u001b[38;5;241m.\u001b[39mresult \u001b[38;5;241m+\u001b[39m\u001b[38;5;241m=\u001b[39m x\n",
      "\u001b[0;31mAttributeError\u001b[0m: 'Calculator' object has no attribute 'result'"
     ]
    }
   ],
   "source": [
    "class Calculator:\n",
    "    def __init__(self,value):\n",
    "        self.value = value # here not the value but result\n",
    "    def add(self,x):\n",
    "        self.result += x\n",
    "    def multiply(self,x):\n",
    "        self.result += x\n",
    "\n",
    "calc = Calculator(5)\n",
    "calc.add(10)\n",
    "calc.multiply(2)\n",
    "print(calc.result)"
   ]
  },
  {
   "cell_type": "code",
   "execution_count": 8,
   "id": "2253a92c",
   "metadata": {},
   "outputs": [
    {
     "name": "stdout",
     "output_type": "stream",
     "text": [
      "30\n"
     ]
    }
   ],
   "source": [
    "class Calculator:\n",
    "    def __init__(self,value):\n",
    "        self.result = value\n",
    "    def add(self,x):\n",
    "        self.result += x\n",
    "    def multiply(self,x):\n",
    "        self.result *= x\n",
    "\n",
    "calc = Calculator(5)\n",
    "calc.add(10) # here value of self is 5, now added 10 5+10 =15\n",
    "calc.multiply(2) # now the value of self is 15, now multiply with 2 = 15*2 = 30\n",
    "print(calc.result)"
   ]
  },
  {
   "cell_type": "code",
   "execution_count": null,
   "id": "4e1f727a",
   "metadata": {},
   "outputs": [],
   "source": []
  },
  {
   "cell_type": "code",
   "execution_count": null,
   "id": "aae95d55",
   "metadata": {},
   "outputs": [],
   "source": []
  }
 ],
 "metadata": {
  "kernelspec": {
   "display_name": "Python 3",
   "language": "python",
   "name": "python3"
  },
  "language_info": {
   "codemirror_mode": {
    "name": "ipython",
    "version": 3
   },
   "file_extension": ".py",
   "mimetype": "text/x-python",
   "name": "python",
   "nbconvert_exporter": "python",
   "pygments_lexer": "ipython3",
   "version": "3.10.12"
  }
 },
 "nbformat": 4,
 "nbformat_minor": 5
}
