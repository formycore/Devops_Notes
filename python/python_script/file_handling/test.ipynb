{
 "cells": [
  {
   "cell_type": "code",
   "execution_count": 12,
   "id": "34dca928-a64f-49f3-97a0-49e4a9abcfc5",
   "metadata": {
    "tags": []
   },
   "outputs": [
    {
     "name": "stdout",
     "output_type": "stream",
     "text": [
      "before modification\n",
      "All is well\n",
      "the current cursor position 11\n",
      "Data after modification\n",
      "All is well\u0000\u0000\u0000\u0000\u0000\u0000Gems\n"
     ]
    }
   ],
   "source": [
    "f = open('abc.txt', 'w')\n",
    "f.write(\"All is well\")\n",
    "with open('abc.txt','r+') as f:\n",
    "    text=f.read()\n",
    "    print(\"before modification\")\n",
    "    print(text)\n",
    "    print(\"the current cursor position\",f.tell())\n",
    "    f.seek(17)\n",
    "    f.write(\"Gems\")\n",
    "    f.seek(0)\n",
    "    print(\"Data after modification\")\n",
    "    text = f.read()\n",
    "    print(text)"
   ]
  },
  {
   "cell_type": "code",
   "execution_count": null,
   "id": "ada68085-f740-49d9-867d-ab696bcc904d",
   "metadata": {},
   "outputs": [],
   "source": []
  },
  {
   "cell_type": "code",
   "execution_count": null,
   "id": "8d58fd0b-45c5-4fb7-bd0c-28c216fa244a",
   "metadata": {},
   "outputs": [],
   "source": []
  },
  {
   "cell_type": "code",
   "execution_count": null,
   "id": "31879709-a0c3-40f6-b003-e4d3472a7209",
   "metadata": {},
   "outputs": [],
   "source": []
  },
  {
   "cell_type": "code",
   "execution_count": null,
   "id": "680a4769-b92d-4b87-9ec2-d9240c224f24",
   "metadata": {},
   "outputs": [],
   "source": []
  }
 ],
 "metadata": {
  "kernelspec": {
   "display_name": "Python 3 (ipykernel)",
   "language": "python",
   "name": "python3"
  },
  "language_info": {
   "codemirror_mode": {
    "name": "ipython",
    "version": 3
   },
   "file_extension": ".py",
   "mimetype": "text/x-python",
   "name": "python",
   "nbconvert_exporter": "python",
   "pygments_lexer": "ipython3",
   "version": "3.10.12"
  }
 },
 "nbformat": 4,
 "nbformat_minor": 5
}
