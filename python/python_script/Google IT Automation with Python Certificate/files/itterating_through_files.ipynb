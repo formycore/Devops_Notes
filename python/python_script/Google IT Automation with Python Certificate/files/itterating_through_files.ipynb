{
 "cells": [
  {
   "cell_type": "markdown",
   "id": "d7cfff0e-b955-48b2-943a-944ed0ae8160",
   "metadata": {},
   "source": [
    "# Making all the upper case from the test file"
   ]
  },
  {
   "cell_type": "code",
   "execution_count": 3,
   "id": "886fd17d-4871-4a0a-bf76-c3a71e580f06",
   "metadata": {
    "tags": []
   },
   "outputs": [
    {
     "name": "stdout",
     "output_type": "stream",
     "text": [
      "THIS IS FOR TESTING\n",
      "\n",
      "THIS IS ANOTHER LINE FOR TESTING\n",
      "\n",
      "THIS IS THIRD LINE\n",
      "\n",
      "THIS IS FOURTH LINE\n",
      "\n"
     ]
    }
   ],
   "source": [
    "with open(\"test.txt\") as f:\n",
    "    for line in f: # here using the line not file for itterartion\n",
    "        print(line.upper())"
   ]
  },
  {
   "cell_type": "code",
   "execution_count": null,
   "id": "b4674f52-68a8-42a8-acc8-6ae59b0c8e27",
   "metadata": {},
   "outputs": [],
   "source": [
    "# gaps inside the lines, file has new line character at the end of the each line\n",
    "# we asked python to print line, print function adds new line character at the end\n",
    "# this creates the new line"
   ]
  },
  {
   "cell_type": "code",
   "execution_count": null,
   "id": "11adc18b-ae55-4389-a775-76a8f11db2ad",
   "metadata": {},
   "outputs": [],
   "source": [
    "# strip to remove the empty lines"
   ]
  },
  {
   "cell_type": "code",
   "execution_count": 4,
   "id": "86bd3a8b-170f-4325-b079-4920fcc5351e",
   "metadata": {
    "tags": []
   },
   "outputs": [
    {
     "name": "stdout",
     "output_type": "stream",
     "text": [
      "THIS IS FOR TESTING\n",
      "THIS IS ANOTHER LINE FOR TESTING\n",
      "THIS IS THIRD LINE\n",
      "THIS IS FOURTH LINE\n"
     ]
    }
   ],
   "source": [
    "with open(\"test.txt\") as file:\n",
    "    for line in file:\n",
    "        print(line.strip().upper())"
   ]
  },
  {
   "cell_type": "code",
   "execution_count": null,
   "id": "6c875d68-8b1d-4516-8e7c-82286f0ee71a",
   "metadata": {},
   "outputs": [],
   "source": []
  }
 ],
 "metadata": {
  "kernelspec": {
   "display_name": "Python 3 (ipykernel)",
   "language": "python",
   "name": "python3"
  },
  "language_info": {
   "codemirror_mode": {
    "name": "ipython",
    "version": 3
   },
   "file_extension": ".py",
   "mimetype": "text/x-python",
   "name": "python",
   "nbconvert_exporter": "python",
   "pygments_lexer": "ipython3",
   "version": "3.10.12"
  }
 },
 "nbformat": 4,
 "nbformat_minor": 5
}
