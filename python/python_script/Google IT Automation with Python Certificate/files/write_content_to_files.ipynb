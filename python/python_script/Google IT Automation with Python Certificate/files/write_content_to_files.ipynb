{
 "cells": [
  {
   "cell_type": "code",
   "execution_count": null,
   "id": "d36cfcc4-65c9-4409-a8d6-aca6bcc6e6db",
   "metadata": {},
   "outputs": [],
   "source": [
    "# modes r,r+,w,a"
   ]
  },
  {
   "cell_type": "code",
   "execution_count": 2,
   "id": "6244d112-1d60-4334-8359-92fa4c821686",
   "metadata": {
    "tags": []
   },
   "outputs": [],
   "source": [
    "with open(\"novel.txt\", \"w\") as file:\n",
    "    file.write(\"this is harry potter story in other multiverse\")"
   ]
  },
  {
   "cell_type": "code",
   "execution_count": null,
   "id": "2e3d3f33-26c6-4a20-806c-ff865b7e1af7",
   "metadata": {},
   "outputs": [],
   "source": [
    "# before to this there was no novel.txt file, \n",
    "# w is used to write the content if the file is not there it will create\n",
    "# if the file is already there it will overwrite it\n"
   ]
  },
  {
   "cell_type": "code",
   "execution_count": 3,
   "id": "ee41476a-ec9f-4495-878d-4cf62794260e",
   "metadata": {
    "tags": []
   },
   "outputs": [],
   "source": [
    "with open(\"novel.txt\", \"w\") as file:\n",
    "    file.write(\"this is third time changing\")\n",
    "    "
   ]
  },
  {
   "cell_type": "code",
   "execution_count": null,
   "id": "7198499e-b126-443d-8ae8-e573b6361a91",
   "metadata": {},
   "outputs": [],
   "source": []
  },
  {
   "cell_type": "code",
   "execution_count": null,
   "id": "50b8340c-2ea9-45ce-b502-1796fbbcbd17",
   "metadata": {},
   "outputs": [],
   "source": []
  },
  {
   "cell_type": "code",
   "execution_count": null,
   "id": "c990a973-395c-44f5-9e4e-af392817dc05",
   "metadata": {},
   "outputs": [],
   "source": []
  }
 ],
 "metadata": {
  "kernelspec": {
   "display_name": "Python 3 (ipykernel)",
   "language": "python",
   "name": "python3"
  },
  "language_info": {
   "codemirror_mode": {
    "name": "ipython",
    "version": 3
   },
   "file_extension": ".py",
   "mimetype": "text/x-python",
   "name": "python",
   "nbconvert_exporter": "python",
   "pygments_lexer": "ipython3",
   "version": "3.10.12"
  }
 },
 "nbformat": 4,
 "nbformat_minor": 5
}
