{
 "cells": [
  {
   "cell_type": "markdown",
   "id": "12831ec4-87e5-4224-b036-cb488ba58413",
   "metadata": {},
   "source": [
    "# Readlines"
   ]
  },
  {
   "cell_type": "code",
   "execution_count": 4,
   "id": "88033833-16b5-49fe-b433-9e058cee601a",
   "metadata": {
    "tags": []
   },
   "outputs": [
    {
     "name": "stdout",
     "output_type": "stream",
     "text": [
      "['this is another line for testing\\n', 'this is for testing\\n', 'this is fourth line\\n', 'this is third line\\n']\n"
     ]
    }
   ],
   "source": [
    "file = open(\"test.txt\")\n",
    "lines = file.readlines()\n",
    "file.close()\n",
    "lines.sort()\n",
    "print(lines)"
   ]
  },
  {
   "cell_type": "code",
   "execution_count": null,
   "id": "56c76849-a6f8-466e-be5e-58152f9b4922",
   "metadata": {},
   "outputs": [],
   "source": [
    "# Recap\n",
    "# learned open files with python, read those files with read and readlines\n",
    "# itterate through file with line by line with for loops\n"
   ]
  },
  {
   "cell_type": "code",
   "execution_count": null,
   "id": "cde1bbff-1da9-4fe2-a31b-f6ff42de9202",
   "metadata": {},
   "outputs": [],
   "source": []
  },
  {
   "cell_type": "code",
   "execution_count": null,
   "id": "0f89443f-8203-478d-8413-38b7fec502ac",
   "metadata": {},
   "outputs": [],
   "source": []
  }
 ],
 "metadata": {
  "kernelspec": {
   "display_name": "Python 3 (ipykernel)",
   "language": "python",
   "name": "python3"
  },
  "language_info": {
   "codemirror_mode": {
    "name": "ipython",
    "version": 3
   },
   "file_extension": ".py",
   "mimetype": "text/x-python",
   "name": "python",
   "nbconvert_exporter": "python",
   "pygments_lexer": "ipython3",
   "version": "3.10.12"
  }
 },
 "nbformat": 4,
 "nbformat_minor": 5
}
