{
 "cells": [
  {
   "cell_type": "markdown",
   "id": "5b6e17a4-ea9b-46e8-b42b-fec66f92e7cb",
   "metadata": {},
   "source": [
    "# Parsing \n"
   ]
  },
  {
   "cell_type": "code",
   "execution_count": null,
   "id": "0574028c-ac36-4b1c-b91e-4d9b5e4aa2d1",
   "metadata": {},
   "outputs": [],
   "source": [
    "# Analysing a file's content to correctly sturcture the data\n"
   ]
  },
  {
   "cell_type": "code",
   "execution_count": null,
   "id": "00fb2846-af97-4c17-b988-4ee0e95f52bd",
   "metadata": {},
   "outputs": [],
   "source": [
    "# Reading csv files"
   ]
  },
  {
   "cell_type": "code",
   "execution_count": 2,
   "id": "b8df04e4-c108-4b93-a46a-4256995302a0",
   "metadata": {
    "tags": []
   },
   "outputs": [
    {
     "name": "stdout",
     "output_type": "stream",
     "text": [
      "Name: Sabrina Gree,Phone:  123-567, Role:  System adminstrator\n",
      "Name: Eli Jones,Phone:  234-567, Role:  IT specalist\n",
      "Name: Michel ,Phone:  345-567, Role:  Programmer\n",
      "Name: John,Phone:  456-789, Role:  Manager\n"
     ]
    },
    {
     "ename": "TypeError",
     "evalue": "TextIOWrapper.close() takes no arguments (1 given)",
     "output_type": "error",
     "traceback": [
      "\u001b[0;31m---------------------------------------------------------------------------\u001b[0m",
      "\u001b[0;31mTypeError\u001b[0m                                 Traceback (most recent call last)",
      "Cell \u001b[0;32mIn[2], line 7\u001b[0m\n\u001b[1;32m      5\u001b[0m     name, phone, role \u001b[38;5;241m=\u001b[39m row \u001b[38;5;66;03m# unpack the values using the variables refer here\u001b[39;00m\n\u001b[1;32m      6\u001b[0m     \u001b[38;5;28mprint\u001b[39m(\u001b[38;5;124m\"\u001b[39m\u001b[38;5;124mName: \u001b[39m\u001b[38;5;132;01m{}\u001b[39;00m\u001b[38;5;124m,Phone: \u001b[39m\u001b[38;5;132;01m{}\u001b[39;00m\u001b[38;5;124m, Role: \u001b[39m\u001b[38;5;132;01m{}\u001b[39;00m\u001b[38;5;124m\"\u001b[39m\u001b[38;5;241m.\u001b[39mformat(name,phone,role))\n\u001b[0;32m----> 7\u001b[0m \u001b[43mf\u001b[49m\u001b[38;5;241;43m.\u001b[39;49m\u001b[43mclose\u001b[49m\u001b[43m(\u001b[49m\u001b[38;5;124;43m\"\u001b[39;49m\u001b[38;5;124;43mcsv_file.txt\u001b[39;49m\u001b[38;5;124;43m\"\u001b[39;49m\u001b[43m)\u001b[49m\n",
      "\u001b[0;31mTypeError\u001b[0m: TextIOWrapper.close() takes no arguments (1 given)"
     ]
    }
   ],
   "source": [
    "import csv\n",
    "f = open(\"csv_file.txt\")\n",
    "csv_f = csv.reader(f)\n",
    "for row in csv_f:\n",
    "    name, phone, role = row # unpack the values using the variables refer here\n",
    "    print(\"Name: {},Phone: {}, Role: {}\".format(name,phone,role))\n",
    "f.close()"
   ]
  },
  {
   "cell_type": "code",
   "execution_count": null,
   "id": "4cbf0fb4-0e3f-429f-8a0e-c62639bb406b",
   "metadata": {},
   "outputs": [],
   "source": []
  },
  {
   "cell_type": "code",
   "execution_count": null,
   "id": "98709621-e673-46fb-b1b4-4e9374515535",
   "metadata": {},
   "outputs": [],
   "source": []
  },
  {
   "cell_type": "code",
   "execution_count": null,
   "id": "b5422e79-16d5-49a7-a434-8215400377d4",
   "metadata": {},
   "outputs": [],
   "source": []
  },
  {
   "cell_type": "code",
   "execution_count": null,
   "id": "1c34fe86-8fdd-4977-9549-0519198ee344",
   "metadata": {},
   "outputs": [],
   "source": []
  },
  {
   "cell_type": "code",
   "execution_count": null,
   "id": "9c81d7c6-d327-49d2-b7b1-378733605178",
   "metadata": {},
   "outputs": [],
   "source": []
  },
  {
   "cell_type": "code",
   "execution_count": null,
   "id": "898a61f4-9282-4b5d-8ef7-62c08e08eb6d",
   "metadata": {},
   "outputs": [],
   "source": []
  },
  {
   "cell_type": "code",
   "execution_count": null,
   "id": "4ed12058-2217-4cba-8ae2-42a4fe753f1c",
   "metadata": {},
   "outputs": [],
   "source": []
  },
  {
   "cell_type": "code",
   "execution_count": null,
   "id": "8e36f8db-254e-4a10-85c4-aa07f4095d7c",
   "metadata": {},
   "outputs": [],
   "source": []
  },
  {
   "cell_type": "code",
   "execution_count": null,
   "id": "71a5b3de-6159-4e2d-884b-3847698f172a",
   "metadata": {},
   "outputs": [],
   "source": []
  }
 ],
 "metadata": {
  "kernelspec": {
   "display_name": "Python 3 (ipykernel)",
   "language": "python",
   "name": "python3"
  },
  "language_info": {
   "codemirror_mode": {
    "name": "ipython",
    "version": 3
   },
   "file_extension": ".py",
   "mimetype": "text/x-python",
   "name": "python",
   "nbconvert_exporter": "python",
   "pygments_lexer": "ipython3",
   "version": "3.10.12"
  }
 },
 "nbformat": 4,
 "nbformat_minor": 5
}
