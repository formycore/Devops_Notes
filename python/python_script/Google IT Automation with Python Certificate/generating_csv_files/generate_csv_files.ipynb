{
 "cells": [
  {
   "cell_type": "code",
   "execution_count": null,
   "id": "b3c188dc-40d8-4727-ab2e-f34868d79d93",
   "metadata": {},
   "outputs": [],
   "source": [
    "# previosly we used reader function to read the csv files"
   ]
  },
  {
   "cell_type": "code",
   "execution_count": null,
   "id": "61225b2a-4dc7-48ac-92fd-5bb3f7f96a9e",
   "metadata": {},
   "outputs": [],
   "source": []
  },
  {
   "cell_type": "markdown",
   "id": "c9274898-5330-4962-9872-dfd35de32d10",
   "metadata": {},
   "source": [
    "# Writer \n",
    "# to generate the csv files"
   ]
  },
  {
   "cell_type": "code",
   "execution_count": 2,
   "id": "c4059af1-22cb-43af-a6b9-d1930dfc90d5",
   "metadata": {
    "tags": []
   },
   "outputs": [],
   "source": [
    "import csv\n",
    "hosts = [[\"local\", \"192.168.1.1\"], [\"cloud\", \"127.0.0.1\"]]\n",
    "with open(\"hosts.csv\", \"w\") as file:\n",
    "    writer = csv.writer(file)\n",
    "    writer.writerows(hosts)\n",
    "    "
   ]
  },
  {
   "cell_type": "code",
   "execution_count": null,
   "id": "d4d646c2-d127-4621-ac53-c012a4ff2207",
   "metadata": {},
   "outputs": [],
   "source": []
  },
  {
   "cell_type": "code",
   "execution_count": null,
   "id": "d40aaabe-ea3c-4488-8fa7-d6672ed9dced",
   "metadata": {},
   "outputs": [],
   "source": []
  },
  {
   "cell_type": "code",
   "execution_count": null,
   "id": "2d1e4825-3e09-41c0-a529-7f164369a522",
   "metadata": {},
   "outputs": [],
   "source": []
  },
  {
   "cell_type": "code",
   "execution_count": null,
   "id": "712fb744-55c0-4dcd-81e3-bcade80547b8",
   "metadata": {},
   "outputs": [],
   "source": []
  },
  {
   "cell_type": "code",
   "execution_count": null,
   "id": "77c98fa9-bc79-40c4-9540-a02b43b3a550",
   "metadata": {},
   "outputs": [],
   "source": []
  },
  {
   "cell_type": "code",
   "execution_count": null,
   "id": "e94c4bee-e049-421b-be43-5e2ee87aa91c",
   "metadata": {},
   "outputs": [],
   "source": []
  },
  {
   "cell_type": "code",
   "execution_count": null,
   "id": "808487ee-eb47-476c-9982-c9ac5a1815c1",
   "metadata": {},
   "outputs": [],
   "source": []
  },
  {
   "cell_type": "code",
   "execution_count": null,
   "id": "2b6dd04e-42b0-426f-8fc8-190530407efe",
   "metadata": {},
   "outputs": [],
   "source": []
  },
  {
   "cell_type": "code",
   "execution_count": null,
   "id": "25906971-e7e3-4ea6-83d4-c4e2acda209d",
   "metadata": {},
   "outputs": [],
   "source": []
  },
  {
   "cell_type": "code",
   "execution_count": null,
   "id": "e4d5d9a9-ab60-443f-959b-6ceb2dfe2fe4",
   "metadata": {},
   "outputs": [],
   "source": []
  }
 ],
 "metadata": {
  "kernelspec": {
   "display_name": "Python 3 (ipykernel)",
   "language": "python",
   "name": "python3"
  },
  "language_info": {
   "codemirror_mode": {
    "name": "ipython",
    "version": 3
   },
   "file_extension": ".py",
   "mimetype": "text/x-python",
   "name": "python",
   "nbconvert_exporter": "python",
   "pygments_lexer": "ipython3",
   "version": "3.10.12"
  }
 },
 "nbformat": 4,
 "nbformat_minor": 5
}
