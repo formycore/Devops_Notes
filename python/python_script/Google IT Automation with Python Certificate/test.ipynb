{
 "cells": [
  {
   "cell_type": "code",
   "execution_count": null,
   "metadata": {},
   "outputs": [],
   "source": [
    "# Readonly \n",
    "# opens the file in read-only mode, cursor placed at the beginning of the file.\n",
    "# if the file does not exist, it will throw an error FileNotFoundError"
   ]
  }
 ],
 "metadata": {
  "kernelspec": {
   "display_name": "Python 3",
   "language": "python",
   "name": "python3"
  },
  "language_info": {
   "name": "python",
   "version": "3.10.12"
  },
  "orig_nbformat": 4
 },
 "nbformat": 4,
 "nbformat_minor": 2
}
