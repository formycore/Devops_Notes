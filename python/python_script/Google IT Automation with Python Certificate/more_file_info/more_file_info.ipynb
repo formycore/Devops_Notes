{
 "cells": [
  {
   "cell_type": "markdown",
   "id": "e3c179cb-dc69-4091-b40e-714b8833c759",
   "metadata": {},
   "source": [
    "# Recap \n",
    "# os.rename, os.remove, os.path.exists"
   ]
  },
  {
   "cell_type": "markdown",
   "id": "e8929d39-96c5-4337-bfe4-cf6dcc03b495",
   "metadata": {},
   "source": [
    "#os.path module"
   ]
  },
  {
   "cell_type": "code",
   "execution_count": 2,
   "id": "30b4500d-b760-4578-9e39-8eace54790fe",
   "metadata": {
    "tags": []
   },
   "outputs": [
    {
     "data": {
      "text/plain": [
       "'/home/maanya/Downloads/Devops_Notes/python/python_script/Google IT Automation with Python Certificate/more_file_info/novel.txt'"
      ]
     },
     "execution_count": 2,
     "metadata": {},
     "output_type": "execute_result"
    }
   ],
   "source": [
    "# copying the novel.txt from files to here \n",
    "import shutil\n",
    "import os\n",
    "dest = os.getcwd()\n",
    "source = \"../files/novel.txt\"\n",
    "shutil.copy(source, dest)"
   ]
  },
  {
   "cell_type": "code",
   "execution_count": 3,
   "id": "315bac9b-96d3-4d85-87f4-ae4440bcbcab",
   "metadata": {
    "tags": []
   },
   "outputs": [
    {
     "data": {
      "text/plain": [
       "27"
      ]
     },
     "execution_count": 3,
     "metadata": {},
     "output_type": "execute_result"
    }
   ],
   "source": [
    "os.path.getsize(\"novel.txt\")"
   ]
  },
  {
   "cell_type": "code",
   "execution_count": 4,
   "id": "13a76506-25fc-4491-a83c-4cf63815fcf9",
   "metadata": {
    "tags": []
   },
   "outputs": [
    {
     "data": {
      "text/plain": [
       "1695663742.6793153"
      ]
     },
     "execution_count": 4,
     "metadata": {},
     "output_type": "execute_result"
    }
   ],
   "source": [
    "os.path.getmtime(\"novel.txt\")"
   ]
  },
  {
   "cell_type": "code",
   "execution_count": null,
   "id": "d26989b4-519a-4aab-aa37-6525a76c2d73",
   "metadata": {},
   "outputs": [],
   "source": [
    "# this is in unix date stamp, to avoid this use datetime stamp\n"
   ]
  },
  {
   "cell_type": "code",
   "execution_count": 6,
   "id": "0eadb1bf-02e3-4149-a5a7-06ead7f02e67",
   "metadata": {
    "tags": []
   },
   "outputs": [
    {
     "name": "stdout",
     "output_type": "stream",
     "text": [
      "2023-09-25 23:12:22.679315\n"
     ]
    }
   ],
   "source": [
    "import datetime\n",
    "timestamp = os.path.getmtime(\"novel.txt\")\n",
    "print(datetime.datetime.fromtimestamp(timestamp))\n"
   ]
  },
  {
   "cell_type": "code",
   "execution_count": null,
   "id": "817442ef-9edd-43b4-ab31-2a1a5308049c",
   "metadata": {},
   "outputs": [],
   "source": []
  },
  {
   "cell_type": "markdown",
   "id": "7a958e48-6471-4cdc-b89c-bb807c915c02",
   "metadata": {},
   "source": [
    "# absolute path"
   ]
  },
  {
   "cell_type": "code",
   "execution_count": 7,
   "id": "c83903e4-2fca-4461-a2cf-d9b3a17375f2",
   "metadata": {
    "tags": []
   },
   "outputs": [
    {
     "data": {
      "text/plain": [
       "'/home/maanya/Downloads/Devops_Notes/python/python_script/Google IT Automation with Python Certificate/more_file_info/novel.txt'"
      ]
     },
     "execution_count": 7,
     "metadata": {},
     "output_type": "execute_result"
    }
   ],
   "source": [
    "os.path.abspath(\"novel.txt\")"
   ]
  },
  {
   "cell_type": "code",
   "execution_count": null,
   "id": "dbcd699f-dc8e-4296-8532-e7f9961fd1a4",
   "metadata": {},
   "outputs": [],
   "source": []
  },
  {
   "cell_type": "markdown",
   "id": "4cfa8730-5148-4b2e-a3a5-a1228a8686a9",
   "metadata": {},
   "source": [
    "# mkdir , rmdir "
   ]
  },
  {
   "cell_type": "code",
   "execution_count": 8,
   "id": "256f7f2d-b591-4274-840e-b4b6502fb347",
   "metadata": {
    "tags": []
   },
   "outputs": [],
   "source": [
    "os.mkdir(\"new_dir\")"
   ]
  },
  {
   "cell_type": "code",
   "execution_count": 9,
   "id": "e3a7fa19-2364-4568-9e85-7843781ff355",
   "metadata": {
    "tags": []
   },
   "outputs": [],
   "source": [
    "os.chdir(\"new_dir\")"
   ]
  },
  {
   "cell_type": "code",
   "execution_count": 10,
   "id": "f0fdce56-6665-41f4-8321-b3dbcf43a915",
   "metadata": {
    "tags": []
   },
   "outputs": [
    {
     "data": {
      "text/plain": [
       "'/home/maanya/Downloads/Devops_Notes/python/python_script/Google IT Automation with Python Certificate/more_file_info/new_dir'"
      ]
     },
     "execution_count": 10,
     "metadata": {},
     "output_type": "execute_result"
    }
   ],
   "source": [
    "os.getcwd()"
   ]
  },
  {
   "cell_type": "code",
   "execution_count": 18,
   "id": "f296ce63-4509-416a-9385-7667e22a01f1",
   "metadata": {
    "tags": []
   },
   "outputs": [
    {
     "data": {
      "text/plain": [
       "['file5',\n",
       " 'test2',\n",
       " 'file2',\n",
       " 'test4',\n",
       " 'test1',\n",
       " 'file1',\n",
       " 'test5',\n",
       " 'test3',\n",
       " 'file3',\n",
       " 'file4']"
      ]
     },
     "execution_count": 18,
     "metadata": {},
     "output_type": "execute_result"
    }
   ],
   "source": [
    "os.listdir()"
   ]
  },
  {
   "cell_type": "code",
   "execution_count": 19,
   "id": "2bfd67e7-f5a2-4864-9bcd-4a8beca37abd",
   "metadata": {
    "tags": []
   },
   "outputs": [
    {
     "name": "stdout",
     "output_type": "stream",
     "text": [
      "this is file file1\n",
      "this is file file2\n",
      "this is file file3\n",
      "this is file file4\n",
      "this is file file5\n",
      " This is directory:  test1\n",
      " This is directory:  test2\n",
      " This is directory:  test3\n",
      " This is directory:  test4\n",
      " This is directory:  test5\n"
     ]
    }
   ],
   "source": [
    "import os\n",
    "path = sorted(os.listdir())\n",
    "#print(path)\n",
    "for i in path:\n",
    "    if os.path.isdir(i):\n",
    "        print(\" This is directory: \", i)\n",
    "    if os.path.isfile(i):\n",
    "        print(\"this is file\", i)"
   ]
  },
  {
   "cell_type": "code",
   "execution_count": null,
   "id": "81197c9e-1097-47c6-a343-a822c142954b",
   "metadata": {},
   "outputs": [],
   "source": [
    "# to check this is file or a directory\n"
   ]
  },
  {
   "cell_type": "markdown",
   "id": "a248cf30-ee30-4c23-8f46-e626765e23fd",
   "metadata": {},
   "source": [
    "# os.path.join() to create the full path"
   ]
  },
  {
   "cell_type": "code",
   "execution_count": 30,
   "id": "862c00ce-f82d-46e3-bcb8-10c832661ede",
   "metadata": {
    "tags": []
   },
   "outputs": [
    {
     "data": {
      "text/plain": [
       "['file5',\n",
       " 'test2',\n",
       " 'file2',\n",
       " 'test4',\n",
       " 'test1',\n",
       " 'file1',\n",
       " 'test5',\n",
       " 'test3',\n",
       " 'file3',\n",
       " 'file4']"
      ]
     },
     "execution_count": 30,
     "metadata": {},
     "output_type": "execute_result"
    }
   ],
   "source": [
    "import os\n",
    "os.listdir(\"new_dir/\")\n",
    "\n",
    "\n",
    "\n"
   ]
  },
  {
   "cell_type": "code",
   "execution_count": 31,
   "id": "547d22a1-27b2-4368-a09d-511a1856c445",
   "metadata": {
    "tags": []
   },
   "outputs": [
    {
     "name": "stdout",
     "output_type": "stream",
     "text": [
      "file5\n",
      "test2\n",
      "file2\n",
      "test4\n",
      "test1\n",
      "file1\n",
      "test5\n",
      "test3\n",
      "file3\n",
      "file4\n"
     ]
    }
   ],
   "source": [
    "dir = \"new_dir\"\n",
    "for name in os.listdir(dir):\n",
    "    print(name)"
   ]
  },
  {
   "cell_type": "code",
   "execution_count": 32,
   "id": "769d1ea0-a9db-42c0-9e46-3c0210605430",
   "metadata": {
    "tags": []
   },
   "outputs": [
    {
     "name": "stdout",
     "output_type": "stream",
     "text": [
      "new_dir/file5\n",
      "new_dir/test2\n",
      "new_dir/file2\n",
      "new_dir/test4\n",
      "new_dir/test1\n",
      "new_dir/file1\n",
      "new_dir/test5\n",
      "new_dir/test3\n",
      "new_dir/file3\n",
      "new_dir/file4\n"
     ]
    }
   ],
   "source": [
    "dir = \"new_dir\"\n",
    "for name in os.listdir(dir):\n",
    "    full_name = os.path.join(dir, name)\n",
    "    print(full_name)"
   ]
  },
  {
   "cell_type": "code",
   "execution_count": 36,
   "id": "0f16a21a-1a52-4aef-a500-17c1fea92d73",
   "metadata": {
    "tags": []
   },
   "outputs": [
    {
     "name": "stdout",
     "output_type": "stream",
     "text": [
      "new_dir/file5 is a file\n",
      "new_dir/test2 is a directory\n",
      "new_dir/file2 is a file\n",
      "new_dir/test4 is a directory\n",
      "new_dir/test1 is a directory\n",
      "new_dir/file1 is a file\n",
      "new_dir/test5 is a directory\n",
      "new_dir/test3 is a directory\n",
      "new_dir/file3 is a file\n",
      "new_dir/file4 is a file\n"
     ]
    }
   ],
   "source": [
    "dir = \"new_dir/\"\n",
    "for name in os.listdir(dir):\n",
    "    full_name = os.path.join(dir, name)\n",
    "    if os.path.isdir(full_name):\n",
    "        print(\"{} is a directory\".format(full_name))\n",
    "    if os.path.isfile(full_name):\n",
    "        print(\"{} is a file\".format(full_name))"
   ]
  },
  {
   "cell_type": "code",
   "execution_count": null,
   "id": "b86aac01-28bf-4aa0-b90f-070fc3889474",
   "metadata": {},
   "outputs": [],
   "source": []
  }
 ],
 "metadata": {
  "kernelspec": {
   "display_name": "Python 3 (ipykernel)",
   "language": "python",
   "name": "python3"
  },
  "language_info": {
   "codemirror_mode": {
    "name": "ipython",
    "version": 3
   },
   "file_extension": ".py",
   "mimetype": "text/x-python",
   "name": "python",
   "nbconvert_exporter": "python",
   "pygments_lexer": "ipython3",
   "version": "3.10.12"
  }
 },
 "nbformat": 4,
 "nbformat_minor": 5
}
