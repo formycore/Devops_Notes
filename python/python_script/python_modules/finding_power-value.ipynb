{
 "cells": [
  {
   "cell_type": "code",
   "execution_count": 3,
   "id": "e619b1c7",
   "metadata": {},
   "outputs": [
    {
     "name": "stdout",
     "output_type": "stream",
     "text": [
      "Enter the x value: 3\n",
      "Enter the y value: 4\n",
      "81\n",
      "The result of 3 power 4 is 81\n"
     ]
    }
   ],
   "source": [
    "# python programme to for finding the power, user enter the values\n",
    "import math\n",
    "x = int(input(\"Enter the x value: \"))\n",
    "y = int(input(\"Enter the y value: \"))\n",
    "result = pow (x,y)\n",
    "print(result)\n",
    "print(f\"The result of {x} power {y} is {result}\")"
   ]
  },
  {
   "cell_type": "code",
   "execution_count": null,
   "id": "d2239491",
   "metadata": {},
   "outputs": [],
   "source": []
  }
 ],
 "metadata": {
  "kernelspec": {
   "display_name": "Python 3 (ipykernel)",
   "language": "python",
   "name": "python3"
  },
  "language_info": {
   "codemirror_mode": {
    "name": "ipython",
    "version": 3
   },
   "file_extension": ".py",
   "mimetype": "text/x-python",
   "name": "python",
   "nbconvert_exporter": "python",
   "pygments_lexer": "ipython3",
   "version": "3.10.6"
  }
 },
 "nbformat": 4,
 "nbformat_minor": 5
}
