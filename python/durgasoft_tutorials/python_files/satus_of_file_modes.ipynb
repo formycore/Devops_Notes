{
 "cells": [
  {
   "cell_type": "code",
   "execution_count": 1,
   "id": "b28d746d-383b-4089-9696-0cd6947d08c1",
   "metadata": {
    "tags": []
   },
   "outputs": [
    {
     "name": "stdin",
     "output_type": "stream",
     "text": [
      "Enter the first name:  test\n",
      "Enter the second name:  test1\n"
     ]
    },
    {
     "name": "stdout",
     "output_type": "stream",
     "text": [
      "['test', 'test1']\n"
     ]
    }
   ],
   "source": [
    "l = []\n",
    "s1 = input('Enter the first name: ')\n",
    "s2 = input('Enter the second name: ')\n",
    "l.append(s1)\n",
    "l.append(s2)\n",
    "print(l)"
   ]
  },
  {
   "cell_type": "code",
   "execution_count": 2,
   "id": "f8d9d02b-5992-4d52-995a-cd62d2ed1c87",
   "metadata": {},
   "outputs": [
    {
     "name": "stdout",
     "output_type": "stream",
     "text": [
      "what is the name of the file  abc.txt\n",
      "what is the mode of the file r\n",
      "is the file readable True\n",
      "is the file writable False\n",
      "is the file closed ? True\n"
     ]
    }
   ],
   "source": [
    "f = open('abc.txt', 'r')\n",
    "print(\"what is the name of the file \", f.name)\n",
    "print('what is the mode of the file', f.mode)\n",
    "print('is the file readable', f.readable())\n",
    "print('is the file writable', f.writable())\n",
    "f.close()\n",
    "print('is the file closed ?', f.closed)"
   ]
  },
  {
   "cell_type": "code",
   "execution_count": 2,
   "id": "3c2af8d4-8e7b-4618-a3bc-de18f3faaf30",
   "metadata": {},
   "outputs": [
    {
     "name": "stdout",
     "output_type": "stream",
     "text": [
      "what is the name of the file  abc.txt\n",
      "what is the mode of the file r\n",
      "is the file readable True\n",
      "is the file writable False\n",
      "is the file closed ? True\n",
      "--------------------------------\n",
      "what is the name of the file  abc.txt\n",
      "what is the mode of the file w\n",
      "is the file readable False\n",
      "is the file writable True\n",
      "is the file closed ? True\n",
      "--------------------------------\n",
      "what is the name of the file  abc.txt\n",
      "what is the mode of the file a\n",
      "is the file readable False\n",
      "is the file writable True\n",
      "is the file closed ? True\n",
      "--------------------------------\n",
      "what is the name of the file  abc.txt\n",
      "what is the mode of the file r+\n",
      "is the file readable True\n",
      "is the file writable True\n",
      "is the file closed ? True\n",
      "--------------------------------\n",
      "what is the name of the file  abc.txt\n",
      "what is the mode of the file w+\n",
      "is the file readable True\n",
      "is the file writable True\n",
      "is the file closed ? True\n",
      "--------------------------------\n",
      "what is the name of the file  abc.txt\n",
      "what is the mode of the file a+\n",
      "is the file readable True\n",
      "is the file writable True\n",
      "is the file closed ? True\n",
      "--------------------------------\n"
     ]
    },
    {
     "ename": "FileExistsError",
     "evalue": "[Errno 17] File exists: 'abc.txt'",
     "output_type": "error",
     "traceback": [
      "\u001b[0;31m---------------------------------------------------------------------------\u001b[0m",
      "\u001b[0;31mFileExistsError\u001b[0m                           Traceback (most recent call last)",
      "Cell \u001b[0;32mIn[2], line 16\u001b[0m\n\u001b[1;32m     11\u001b[0m file_modes \u001b[38;5;241m=\u001b[39m \u001b[38;5;124m\"\"\"\u001b[39m\n\u001b[1;32m     12\u001b[0m \u001b[38;5;124mr w a r+ w+ a+ x\u001b[39m\n\u001b[1;32m     13\u001b[0m \u001b[38;5;124m\"\"\"\u001b[39m\n\u001b[1;32m     15\u001b[0m \u001b[38;5;28;01mfor\u001b[39;00m mode \u001b[38;5;129;01min\u001b[39;00m file_modes\u001b[38;5;241m.\u001b[39msplit():\n\u001b[0;32m---> 16\u001b[0m     \u001b[43mstatus_of_file\u001b[49m\u001b[43m(\u001b[49m\u001b[43mmode\u001b[49m\u001b[43m)\u001b[49m\n",
      "Cell \u001b[0;32mIn[2], line 3\u001b[0m, in \u001b[0;36mstatus_of_file\u001b[0;34m(mode)\u001b[0m\n\u001b[1;32m      2\u001b[0m \u001b[38;5;28;01mdef\u001b[39;00m \u001b[38;5;21mstatus_of_file\u001b[39m(mode):\n\u001b[0;32m----> 3\u001b[0m     f \u001b[38;5;241m=\u001b[39m \u001b[38;5;28;43mopen\u001b[39;49m\u001b[43m(\u001b[49m\u001b[38;5;124;43m'\u001b[39;49m\u001b[38;5;124;43mabc.txt\u001b[39;49m\u001b[38;5;124;43m'\u001b[39;49m\u001b[43m,\u001b[49m\u001b[43m \u001b[49m\u001b[43mmode\u001b[49m\u001b[43m)\u001b[49m\n\u001b[1;32m      4\u001b[0m     \u001b[38;5;28mprint\u001b[39m(\u001b[38;5;124m\"\u001b[39m\u001b[38;5;124mwhat is the name of the file \u001b[39m\u001b[38;5;124m\"\u001b[39m, f\u001b[38;5;241m.\u001b[39mname)\n\u001b[1;32m      5\u001b[0m     \u001b[38;5;28mprint\u001b[39m(\u001b[38;5;124m'\u001b[39m\u001b[38;5;124mwhat is the mode of the file\u001b[39m\u001b[38;5;124m'\u001b[39m, f\u001b[38;5;241m.\u001b[39mmode)\n",
      "File \u001b[0;32m~/.local/lib/python3.10/site-packages/IPython/core/interactiveshell.py:282\u001b[0m, in \u001b[0;36m_modified_open\u001b[0;34m(file, *args, **kwargs)\u001b[0m\n\u001b[1;32m    275\u001b[0m \u001b[38;5;28;01mif\u001b[39;00m file \u001b[38;5;129;01min\u001b[39;00m {\u001b[38;5;241m0\u001b[39m, \u001b[38;5;241m1\u001b[39m, \u001b[38;5;241m2\u001b[39m}:\n\u001b[1;32m    276\u001b[0m     \u001b[38;5;28;01mraise\u001b[39;00m \u001b[38;5;167;01mValueError\u001b[39;00m(\n\u001b[1;32m    277\u001b[0m         \u001b[38;5;124mf\u001b[39m\u001b[38;5;124m\"\u001b[39m\u001b[38;5;124mIPython won\u001b[39m\u001b[38;5;124m'\u001b[39m\u001b[38;5;124mt let you open fd=\u001b[39m\u001b[38;5;132;01m{\u001b[39;00mfile\u001b[38;5;132;01m}\u001b[39;00m\u001b[38;5;124m by default \u001b[39m\u001b[38;5;124m\"\u001b[39m\n\u001b[1;32m    278\u001b[0m         \u001b[38;5;124m\"\u001b[39m\u001b[38;5;124mas it is likely to crash IPython. If you know what you are doing, \u001b[39m\u001b[38;5;124m\"\u001b[39m\n\u001b[1;32m    279\u001b[0m         \u001b[38;5;124m\"\u001b[39m\u001b[38;5;124myou can use builtins\u001b[39m\u001b[38;5;124m'\u001b[39m\u001b[38;5;124m open.\u001b[39m\u001b[38;5;124m\"\u001b[39m\n\u001b[1;32m    280\u001b[0m     )\n\u001b[0;32m--> 282\u001b[0m \u001b[38;5;28;01mreturn\u001b[39;00m \u001b[43mio_open\u001b[49m\u001b[43m(\u001b[49m\u001b[43mfile\u001b[49m\u001b[43m,\u001b[49m\u001b[43m \u001b[49m\u001b[38;5;241;43m*\u001b[39;49m\u001b[43margs\u001b[49m\u001b[43m,\u001b[49m\u001b[43m \u001b[49m\u001b[38;5;241;43m*\u001b[39;49m\u001b[38;5;241;43m*\u001b[39;49m\u001b[43mkwargs\u001b[49m\u001b[43m)\u001b[49m\n",
      "\u001b[0;31mFileExistsError\u001b[0m: [Errno 17] File exists: 'abc.txt'"
     ]
    }
   ],
   "source": [
    "# check all the states\n",
    "# we have used the x mode it will through error\n",
    "def status_of_file(mode):\n",
    "    f = open('abc.txt', mode)\n",
    "    print(\"what is the name of the file \", f.name)\n",
    "    print('what is the mode of the file', f.mode)\n",
    "    print('is the file readable', f.readable())\n",
    "    print('is the file writable', f.writable())\n",
    "    f.close()\n",
    "    print('is the file closed ?', f.closed)\n",
    "    print('--------------------------------')\n",
    "file_modes = \"\"\"\n",
    "r w a r+ w+ a+ x\n",
    "\"\"\"\n",
    "\n",
    "for mode in file_modes.split():\n",
    "    status_of_file(mode)\n",
    "\n",
    "    "
   ]
  },
  {
   "cell_type": "code",
   "execution_count": 1,
   "id": "3c8355e4-02ae-4587-85f8-a7b4f87f53f9",
   "metadata": {
    "tags": []
   },
   "outputs": [
    {
     "name": "stdout",
     "output_type": "stream",
     "text": [
      "['r', 'w', 'a', 'r+', 'w+', 'a+', 'x']\n"
     ]
    }
   ],
   "source": [
    "file_modes = \"\"\"\n",
    "r w a r+ w+ a+ x\n",
    "\"\"\"\n",
    "print(file_modes.split())"
   ]
  },
  {
   "cell_type": "code",
   "execution_count": 3,
   "id": "7e79e8a0-2fa5-437b-adcd-9018ff3f628a",
   "metadata": {
    "tags": []
   },
   "outputs": [
    {
     "name": "stdout",
     "output_type": "stream",
     "text": [
      "what is the name of the file  abc.txt\n",
      "what is the mode of the file r\n",
      "is the file readable True\n",
      "is the file writable False\n",
      "is the file closed ? True\n",
      "--------------------------------\n",
      "what is the name of the file  abc.txt\n",
      "what is the mode of the file w\n",
      "is the file readable False\n",
      "is the file writable True\n",
      "is the file closed ? True\n",
      "--------------------------------\n",
      "what is the name of the file  abc.txt\n",
      "what is the mode of the file a\n",
      "is the file readable False\n",
      "is the file writable True\n",
      "is the file closed ? True\n",
      "--------------------------------\n",
      "what is the name of the file  abc.txt\n",
      "what is the mode of the file r+\n",
      "is the file readable True\n",
      "is the file writable True\n",
      "is the file closed ? True\n",
      "--------------------------------\n",
      "what is the name of the file  abc.txt\n",
      "what is the mode of the file w+\n",
      "is the file readable True\n",
      "is the file writable True\n",
      "is the file closed ? True\n",
      "--------------------------------\n",
      "what is the name of the file  abc.txt\n",
      "what is the mode of the file a+\n",
      "is the file readable True\n",
      "is the file writable True\n",
      "is the file closed ? True\n",
      "--------------------------------\n"
     ]
    }
   ],
   "source": [
    "# check all the states\n",
    "def status_of_file(mode):\n",
    "    f = open('abc.txt', mode)\n",
    "    print(\"what is the name of the file \", f.name)\n",
    "    print('what is the mode of the file', f.mode)\n",
    "    print('is the file readable', f.readable())\n",
    "    print('is the file writable', f.writable())\n",
    "    f.close()\n",
    "    print('is the file closed ?', f.closed)\n",
    "    print('--------------------------------')\n",
    "file_modes = \"\"\"\n",
    "r w a r+ w+ a+ \n",
    "\"\"\"\n",
    "\n",
    "for mode in file_modes.split():\n",
    "    status_of_file(mode)\n",
    "\n",
    "    "
   ]
  },
  {
   "cell_type": "code",
   "execution_count": 4,
   "id": "b3617eab-29b5-4ed2-a5c7-4f7159497d3b",
   "metadata": {
    "tags": []
   },
   "outputs": [
    {
     "name": "stdout",
     "output_type": "stream",
     "text": [
      "what is the name of the file  abcd.txt\n",
      "what is the mode of the file x\n",
      "is the file readable False\n",
      "is the file writable True\n",
      "is the file closed ? True\n",
      "--------------------------------\n"
     ]
    }
   ],
   "source": [
    "# check all the states\n",
    "# only with X mode \n",
    "# create a new file\n",
    "def status_of_file(mode):\n",
    "    f = open('abcd.txt', mode)\n",
    "    print(\"what is the name of the file \", f.name)\n",
    "    print('what is the mode of the file', f.mode)\n",
    "    print('is the file readable', f.readable())\n",
    "    print('is the file writable', f.writable())\n",
    "    f.close()\n",
    "    print('is the file closed ?', f.closed)\n",
    "    print('--------------------------------')\n",
    "file_modes = \"\"\"\n",
    "x\n",
    "\"\"\"\n",
    "\n",
    "for mode in file_modes.split():\n",
    "    status_of_file(mode)\n"
   ]
  },
  {
   "cell_type": "code",
   "execution_count": 17,
   "id": "7f5db774-627f-4e9e-93f0-42604ed3be0f",
   "metadata": {
    "tags": []
   },
   "outputs": [
    {
     "name": "stdout",
     "output_type": "stream",
     "text": [
      "is the path exists True\n",
      "/home/maanya/Downloads/Devops_Notes/python/durgasoft_tutorials/python_files/abcde.txt\n",
      "what is the name of the file:  abcde.txt\n",
      "what is the mode of the file:  w\n",
      "removing the path:  None\n",
      "-----------------------\n",
      "is the path exists True\n",
      "/home/maanya/Downloads/Devops_Notes/python/durgasoft_tutorials/python_files/abcde.txt\n",
      "what is the name of the file:  abcde.txt\n",
      "what is the mode of the file:  w+\n",
      "removing the path:  None\n",
      "-----------------------\n",
      "is the path exists True\n",
      "/home/maanya/Downloads/Devops_Notes/python/durgasoft_tutorials/python_files/abcde.txt\n",
      "what is the name of the file:  abcde.txt\n",
      "what is the mode of the file:  a\n",
      "removing the path:  None\n",
      "-----------------------\n",
      "is the path exists True\n",
      "/home/maanya/Downloads/Devops_Notes/python/durgasoft_tutorials/python_files/abcde.txt\n",
      "what is the name of the file:  abcde.txt\n",
      "what is the mode of the file:  a+\n",
      "removing the path:  None\n",
      "-----------------------\n",
      "is the path exists True\n",
      "/home/maanya/Downloads/Devops_Notes/python/durgasoft_tutorials/python_files/abcde.txt\n",
      "what is the name of the file:  abcde.txt\n",
      "what is the mode of the file:  x\n",
      "removing the path:  None\n",
      "-----------------------\n"
     ]
    }
   ],
   "source": [
    "# check only with r+,w+,w\n",
    "import os\n",
    "def status_of_file(mode):\n",
    "    f = open('abcde.txt', mode)\n",
    "    path = \"/home/maanya/Downloads/Devops_Notes/python/durgasoft_tutorials/python_files/abcde.txt\"\n",
    "    isExistspath= os.path.exists(path)\n",
    "    print('is the path exists', isExistspath)\n",
    "    print(path)\n",
    "    print('what is the name of the file: ', f.name)\n",
    "    print('what is the mode of the file: ', f.mode)\n",
    "    print('removing the path: ', os.remove(path))\n",
    "    print('-----------------------')\n",
    "file_modes = \"\"\"\n",
    "w w+ a a+ x\n",
    "\"\"\"\n",
    "for mode in file_modes.split():\n",
    "    status_of_file(mode)"
   ]
  },
  {
   "cell_type": "code",
   "execution_count": 18,
   "id": "bcf3ca49-aed3-4fe5-8313-e091058f7dc0",
   "metadata": {
    "tags": []
   },
   "outputs": [
    {
     "name": "stdout",
     "output_type": "stream",
     "text": [
      "['_CHUNK_SIZE', '__class__', '__del__', '__delattr__', '__dict__', '__dir__', '__doc__', '__enter__', '__eq__', '__exit__', '__format__', '__ge__', '__getattribute__', '__gt__', '__hash__', '__init__', '__init_subclass__', '__iter__', '__le__', '__lt__', '__ne__', '__new__', '__next__', '__reduce__', '__reduce_ex__', '__repr__', '__setattr__', '__sizeof__', '__str__', '__subclasshook__', '_checkClosed', '_checkReadable', '_checkSeekable', '_checkWritable', '_finalizing', 'buffer', 'close', 'closed', 'detach', 'encoding', 'errors', 'fileno', 'flush', 'isatty', 'line_buffering', 'mode', 'name', 'newlines', 'read', 'readable', 'readline', 'readlines', 'reconfigure', 'seek', 'seekable', 'tell', 'truncate', 'writable', 'write', 'write_through', 'writelines']\n"
     ]
    }
   ],
   "source": [
    "f = open('abc.txt')\n",
    "print(dir(f))"
   ]
  },
  {
   "cell_type": "code",
   "execution_count": null,
   "id": "db734a81-c760-4775-beb3-6e9a7be8d482",
   "metadata": {},
   "outputs": [],
   "source": []
  }
 ],
 "metadata": {
  "kernelspec": {
   "display_name": "Python 3 (ipykernel)",
   "language": "python",
   "name": "python3"
  },
  "language_info": {
   "codemirror_mode": {
    "name": "ipython",
    "version": 3
   },
   "file_extension": ".py",
   "mimetype": "text/x-python",
   "name": "python",
   "nbconvert_exporter": "python",
   "pygments_lexer": "ipython3",
   "version": "3.10.12"
  }
 },
 "nbformat": 4,
 "nbformat_minor": 5
}
