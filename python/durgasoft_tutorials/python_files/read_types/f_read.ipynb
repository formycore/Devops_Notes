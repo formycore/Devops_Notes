{
 "cells": [
  {
   "cell_type": "code",
   "execution_count": 1,
   "id": "f6605f38-a502-4110-931a-220ce36460a9",
   "metadata": {
    "tags": []
   },
   "outputs": [
    {
     "name": "stdout",
     "output_type": "stream",
     "text": [
      "apple\n",
      "banana\n",
      "orange\n",
      "this is for testing\n",
      "\n"
     ]
    }
   ],
   "source": [
    "f = open('abc.txt')\n",
    "data = f.read()\n",
    "print(data)\n",
    "f.close()"
   ]
  },
  {
   "cell_type": "code",
   "execution_count": 6,
   "id": "d22fbe5a-317a-4f44-89a3-8ed0149720a9",
   "metadata": {
    "tags": []
   },
   "outputs": [
    {
     "name": "stdout",
     "output_type": "stream",
     "text": [
      "12345\n"
     ]
    }
   ],
   "source": [
    "f = open('numbers.txt')\n",
    "data = f.read(5)\n",
    "print(data)"
   ]
  },
  {
   "cell_type": "code",
   "execution_count": 7,
   "id": "a6da9002-5144-4632-8530-e3b9c57ca92e",
   "metadata": {
    "tags": []
   },
   "outputs": [],
   "source": [
    "f = open('numbers.txt', 'w')\n",
    "f.write('123456\\n')\n",
    "f.write('789')\n",
    "f.close()"
   ]
  },
  {
   "cell_type": "code",
   "execution_count": 9,
   "id": "39e6d749-4f8c-428e-b079-5544138b2764",
   "metadata": {
    "tags": []
   },
   "outputs": [
    {
     "name": "stdout",
     "output_type": "stream",
     "text": [
      "123456\n",
      "\n"
     ]
    }
   ],
   "source": [
    "f = open('numbers.txt')\n",
    "data = f.read(7)\n",
    "print(data)\n",
    "f.close()"
   ]
  },
  {
   "cell_type": "code",
   "execution_count": 10,
   "id": "4eff9973-dac1-4b40-b2d3-0f98c7557c62",
   "metadata": {
    "tags": []
   },
   "outputs": [
    {
     "name": "stdout",
     "output_type": "stream",
     "text": [
      "durga\n",
      "soft\n"
     ]
    }
   ],
   "source": [
    "f = open('test')\n",
    "data = f.read(10)\n",
    "print(data)\n",
    "f.close()"
   ]
  },
  {
   "cell_type": "code",
   "execution_count": 12,
   "id": "13c65156-c01c-4662-8d35-87a4a798ca71",
   "metadata": {
    "tags": []
   },
   "outputs": [
    {
     "name": "stdout",
     "output_type": "stream",
     "text": [
      "apple\n",
      "b\n"
     ]
    }
   ],
   "source": [
    "f = open('abc.txt')\n",
    "data = f.read(7)\n",
    "print(data)\n",
    "f.close()"
   ]
  },
  {
   "cell_type": "code",
   "execution_count": 14,
   "id": "8efb5c07-d773-4edc-867a-fa3fcde627fd",
   "metadata": {
    "tags": []
   },
   "outputs": [
    {
     "name": "stdout",
     "output_type": "stream",
     "text": [
      "109\n"
     ]
    }
   ],
   "source": [
    "# find the characters of the file if it is in the single line no new lines\n",
    "# if there is new line then \\n will be counted as a character also\n",
    "\n",
    "f = open('no_char.txt')\n",
    "file_content = f.read()\n",
    "#print(file_content)\n",
    "print(len(file_content))\n",
    "f.close()"
   ]
  },
  {
   "cell_type": "code",
   "execution_count": null,
   "id": "51b23cca-76a6-4d27-8616-b6432c55b4c4",
   "metadata": {},
   "outputs": [],
   "source": []
  }
 ],
 "metadata": {
  "kernelspec": {
   "display_name": "Python 3 (ipykernel)",
   "language": "python",
   "name": "python3"
  },
  "language_info": {
   "codemirror_mode": {
    "name": "ipython",
    "version": 3
   },
   "file_extension": ".py",
   "mimetype": "text/x-python",
   "name": "python",
   "nbconvert_exporter": "python",
   "pygments_lexer": "ipython3",
   "version": "3.10.12"
  }
 },
 "nbformat": 4,
 "nbformat_minor": 5
}
