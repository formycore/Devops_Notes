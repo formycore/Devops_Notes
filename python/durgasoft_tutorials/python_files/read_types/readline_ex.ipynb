{
 "cells": [
  {
   "cell_type": "code",
   "execution_count": 1,
   "id": "87185199-9367-40b2-8563-95407b40b045",
   "metadata": {
    "tags": []
   },
   "outputs": [
    {
     "name": "stdout",
     "output_type": "stream",
     "text": [
      "First line 11111\n"
     ]
    }
   ],
   "source": [
    "# end = '' is used to avoid the new line \n",
    "f = open('mobile_ex.txt')\n",
    "line1 = f.readline()\n",
    "print(\"First line\", line1, end='')\n",
    "f.close()"
   ]
  },
  {
   "cell_type": "code",
   "execution_count": 2,
   "id": "391dccc3-fe47-4dea-9bdf-b7195326bbee",
   "metadata": {
    "tags": []
   },
   "outputs": [
    {
     "name": "stdout",
     "output_type": "stream",
     "text": [
      "First line 11111\n",
      "\n"
     ]
    }
   ],
   "source": [
    "# from the above cell new line is there in the output \n",
    "# we didn't used the end = ''\n",
    "f = open('mobile_ex.txt')\n",
    "line1 = f.readline()\n",
    "print(\"First line\", line1)\n",
    "f.close()"
   ]
  },
  {
   "cell_type": "code",
   "execution_count": 3,
   "id": "d5d02308-b142-4315-b6cc-0614c3f12bca",
   "metadata": {
    "tags": []
   },
   "outputs": [
    {
     "name": "stdout",
     "output_type": "stream",
     "text": [
      "First line 11111\n",
      "Second line  22222\n"
     ]
    }
   ],
   "source": [
    "f = open('mobile_ex.txt')\n",
    "line1 = f.readline()\n",
    "print(\"First line\", line1, end = '')\n",
    "line2 = f.readline()\n",
    "print(\"Second line \", line2, end = '')\n",
    "\n",
    "\n",
    "f.close()"
   ]
  },
  {
   "cell_type": "code",
   "execution_count": null,
   "id": "685dc694-9b14-4b09-9655-436002140e9a",
   "metadata": {},
   "outputs": [],
   "source": []
  }
 ],
 "metadata": {
  "kernelspec": {
   "display_name": "Python 3 (ipykernel)",
   "language": "python",
   "name": "python3"
  },
  "language_info": {
   "codemirror_mode": {
    "name": "ipython",
    "version": 3
   },
   "file_extension": ".py",
   "mimetype": "text/x-python",
   "name": "python",
   "nbconvert_exporter": "python",
   "pygments_lexer": "ipython3",
   "version": "3.10.12"
  }
 },
 "nbformat": 4,
 "nbformat_minor": 5
}
