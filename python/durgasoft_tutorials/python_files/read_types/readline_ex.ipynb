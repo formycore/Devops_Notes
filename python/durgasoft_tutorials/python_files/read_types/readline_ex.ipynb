{
 "cells": [
  {
   "cell_type": "code",
   "execution_count": 1,
   "id": "87185199-9367-40b2-8563-95407b40b045",
   "metadata": {
    "tags": []
   },
   "outputs": [
    {
     "name": "stdout",
     "output_type": "stream",
     "text": [
      "First line 11111\n"
     ]
    }
   ],
   "source": [
    "# end = '' is used to avoid the new line \n",
    "f = open('mobile_ex.txt')\n",
    "line1 = f.readline()\n",
    "print(\"First line\", line1, end='')\n",
    "f.close()"
   ]
  },
  {
   "cell_type": "code",
   "execution_count": 2,
   "id": "391dccc3-fe47-4dea-9bdf-b7195326bbee",
   "metadata": {
    "tags": []
   },
   "outputs": [
    {
     "name": "stdout",
     "output_type": "stream",
     "text": [
      "First line 11111\n",
      "\n"
     ]
    }
   ],
   "source": [
    "# from the above cell new line is there in the output \n",
    "# we didn't used the end = ''\n",
    "f = open('mobile_ex.txt')\n",
    "line1 = f.readline()\n",
    "print(\"First line\", line1)\n",
    "f.close()"
   ]
  },
  {
   "cell_type": "code",
   "execution_count": 3,
   "id": "d5d02308-b142-4315-b6cc-0614c3f12bca",
   "metadata": {
    "tags": []
   },
   "outputs": [
    {
     "name": "stdout",
     "output_type": "stream",
     "text": [
      "First line 11111\n",
      "Second line  22222\n"
     ]
    }
   ],
   "source": [
    "f = open('mobile_ex.txt')\n",
    "line1 = f.readline()\n",
    "print(\"First line\", line1, end = '')\n",
    "line2 = f.readline()\n",
    "print(\"Second line \", line2, end = '')\n",
    "\n",
    "\n",
    "f.close()"
   ]
  },
  {
   "cell_type": "code",
   "execution_count": 1,
   "id": "685dc694-9b14-4b09-9655-436002140e9a",
   "metadata": {},
   "outputs": [
    {
     "name": "stdout",
     "output_type": "stream",
     "text": [
      "1\n"
     ]
    }
   ],
   "source": [
    "f = open('mobile_ex.txt')\n",
    "line1 = f.readline(1)\n",
    "print(line1)\n",
    "f.close()"
   ]
  },
  {
   "cell_type": "code",
   "execution_count": 7,
   "id": "8ab2eddf-eed7-4790-9ebc-be85d79bb22d",
   "metadata": {
    "tags": []
   },
   "outputs": [
    {
     "name": "stdout",
     "output_type": "stream",
     "text": [
      "11111\n",
      "22222\n",
      "33333\n",
      "44444\n",
      "55555\n",
      "66666\n",
      "77777\n",
      "88888\n",
      "99999\n",
      "\n"
     ]
    }
   ],
   "source": [
    "f = open ('mobile_ex.txt')\n",
    "line = f.readline()\n",
    "while line !='':\n",
    "    print(line,end = '')\n",
    "    line = f.readline()\n",
    "f.close()"
   ]
  },
  {
   "cell_type": "code",
   "execution_count": 9,
   "id": "25b892e1-54df-4cf2-94a0-2a333de3c5e9",
   "metadata": {
    "tags": []
   },
   "outputs": [
    {
     "name": "stdout",
     "output_type": "stream",
     "text": [
      "['11111\\n', '22222\\n', '33333\\n', '44444\\n', '55555\\n', '66666\\n', '77777\\n', '88888\\n', '99999\\n', '\\n']\n"
     ]
    }
   ],
   "source": [
    "f = open('mobile_ex.txt')\n",
    "l = f.readlines()\n",
    "print(l)\n",
    "f.close()"
   ]
  },
  {
   "cell_type": "code",
   "execution_count": 10,
   "id": "bbbdb893-ef54-4d5c-ae2e-2e001fe39f16",
   "metadata": {
    "tags": []
   },
   "outputs": [
    {
     "name": "stdout",
     "output_type": "stream",
     "text": [
      "['11111\\n', '22222\\n', '33333\\n', '44444\\n', '55555\\n', '66666\\n', '77777\\n', '88888\\n', '99999\\n', '\\n']\n"
     ]
    }
   ],
   "source": [
    "with open('mobile_ex.txt') as f:\n",
    "    l = f.readlines()\n",
    "print(l)\n"
   ]
  },
  {
   "cell_type": "code",
   "execution_count": 11,
   "id": "42b85f36-aa8f-4433-9378-17d8405dc703",
   "metadata": {
    "tags": []
   },
   "outputs": [
    {
     "name": "stdout",
     "output_type": "stream",
     "text": [
      "11111\n",
      "22222\n",
      "33333\n",
      "44444\n",
      "55555\n",
      "66666\n",
      "77777\n",
      "88888\n",
      "99999\n",
      "\n"
     ]
    }
   ],
   "source": [
    "with open('mobile_ex.txt') as f:\n",
    "    l = f.readlines()\n",
    "for line in l:\n",
    "    print(line,end = '')"
   ]
  },
  {
   "cell_type": "code",
   "execution_count": 18,
   "id": "923e791b-3819-4f57-86c7-5c3e733831ee",
   "metadata": {
    "tags": []
   },
   "outputs": [
    {
     "name": "stdout",
     "output_type": "stream",
     "text": [
      "Dur\n",
      "ga\n",
      "\n",
      "soft\n",
      "Remaining Data:\n",
      "ware\n",
      "solutions\n",
      "hyderabad\n",
      "\n",
      "\n"
     ]
    }
   ],
   "source": [
    "# with out using the end\n",
    "with open('durga') as f:\n",
    "    print(f.read(3))\n",
    "    print(f.readline())\n",
    "    print(f.read(4))\n",
    "    print('Remaining Data:')\n",
    "    print(f.read())"
   ]
  },
  {
   "cell_type": "code",
   "execution_count": 19,
   "id": "1a20d49b-14c9-45b3-a80a-364c73e6a189",
   "metadata": {
    "tags": []
   },
   "outputs": [
    {
     "name": "stdout",
     "output_type": "stream",
     "text": [
      "Dur\n",
      "ga\n",
      "soft\n",
      "Remaining Data:\n",
      "ware\n",
      "solutions\n",
      "hyderabad\n",
      "\n",
      "\n"
     ]
    }
   ],
   "source": [
    "# with using end\n",
    "with open('durga') as f:\n",
    "    print(f.read(3))\n",
    "    print(f.readline(),end = '')\n",
    "    print(f.read(4))\n",
    "    print('Remaining Data:')\n",
    "    print(f.read())"
   ]
  },
  {
   "cell_type": "code",
   "execution_count": null,
   "id": "2fbd3cbe-d702-480c-9344-06fb98531aca",
   "metadata": {},
   "outputs": [],
   "source": []
  }
 ],
 "metadata": {
  "kernelspec": {
   "display_name": "Python 3 (ipykernel)",
   "language": "python",
   "name": "python3"
  },
  "language_info": {
   "codemirror_mode": {
    "name": "ipython",
    "version": 3
   },
   "file_extension": ".py",
   "mimetype": "text/x-python",
   "name": "python",
   "nbconvert_exporter": "python",
   "pygments_lexer": "ipython3",
   "version": "3.10.12"
  }
 },
 "nbformat": 4,
 "nbformat_minor": 5
}
