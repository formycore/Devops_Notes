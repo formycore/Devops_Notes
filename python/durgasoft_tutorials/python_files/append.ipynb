{
 "cells": [
  {
   "cell_type": "code",
   "execution_count": 5,
   "id": "736bc1ff-f3b5-4aea-bca3-3b9039e8d62d",
   "metadata": {
    "tags": []
   },
   "outputs": [],
   "source": [
    "f = open('abc.txt','a')\n",
    "f.write('samantha\\n')\n",
    "f.write('kiara\\n')\n",
    "f.write('deepika\\n')\n",
    "f.write('----------------\\n')\n",
    "f.close()"
   ]
  },
  {
   "cell_type": "code",
   "execution_count": null,
   "id": "4a951e62-a451-4c38-b46c-285c04e1afaa",
   "metadata": {},
   "outputs": [],
   "source": []
  },
  {
   "cell_type": "code",
   "execution_count": null,
   "id": "360f570e-7187-48f9-bd1b-af948350cfc6",
   "metadata": {},
   "outputs": [],
   "source": []
  }
 ],
 "metadata": {
  "kernelspec": {
   "display_name": "Python 3 (ipykernel)",
   "language": "python",
   "name": "python3"
  },
  "language_info": {
   "codemirror_mode": {
    "name": "ipython",
    "version": 3
   },
   "file_extension": ".py",
   "mimetype": "text/x-python",
   "name": "python",
   "nbconvert_exporter": "python",
   "pygments_lexer": "ipython3",
   "version": "3.10.12"
  }
 },
 "nbformat": 4,
 "nbformat_minor": 5
}
