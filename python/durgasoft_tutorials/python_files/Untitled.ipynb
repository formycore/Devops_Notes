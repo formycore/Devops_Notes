{
 "cells": [
  {
   "cell_type": "code",
   "execution_count": 1,
   "id": "8d116629-2eae-4f8d-8cdb-ec4f72d160ed",
   "metadata": {
    "tags": []
   },
   "outputs": [],
   "source": [
    "# we get all in one line\n",
    "f = open('abcde.txt', 'w')\n",
    "f.write('samantha')\n",
    "f.write('kiara')\n",
    "f.write('alia')\n",
    "f.close()"
   ]
  },
  {
   "cell_type": "code",
   "execution_count": 2,
   "id": "b65fa3a5-33ef-4b35-8840-fa18c6512d18",
   "metadata": {
    "tags": []
   },
   "outputs": [
    {
     "data": {
      "text/plain": [
       "'samanthakiaraalia'"
      ]
     },
     "execution_count": 2,
     "metadata": {},
     "output_type": "execute_result"
    }
   ],
   "source": [
    "f = open('abcde.txt')\n",
    "f.read()"
   ]
  },
  {
   "cell_type": "code",
   "execution_count": 6,
   "id": "3138bbec-81d7-45d5-94b1-12b416854cc6",
   "metadata": {
    "tags": []
   },
   "outputs": [],
   "source": [
    "# here we get in the new lines\n",
    "f = open('abcde.txt', 'w+')\n",
    "f.write('samantha\\n')\n",
    "f.write('kiara\\n')\n",
    "f.write('alia\\n')\n",
    "f.close()"
   ]
  },
  {
   "cell_type": "code",
   "execution_count": 5,
   "id": "eb48adb4-bafc-43f1-baab-8209aef7cd0e",
   "metadata": {
    "tags": []
   },
   "outputs": [
    {
     "data": {
      "text/plain": [
       "'samantha\\nkiara\\nalia\\n'"
      ]
     },
     "execution_count": 5,
     "metadata": {},
     "output_type": "execute_result"
    }
   ],
   "source": [
    "# as it is showing in this but check in the file\n",
    "# we have new lines only\n",
    "f = open('abcde.txt')\n",
    "f.read()"
   ]
  },
  {
   "cell_type": "code",
   "execution_count": null,
   "id": "3f7f9426-0084-4e91-a80d-8360d656cd23",
   "metadata": {},
   "outputs": [],
   "source": []
  }
 ],
 "metadata": {
  "kernelspec": {
   "display_name": "Python 3 (ipykernel)",
   "language": "python",
   "name": "python3"
  },
  "language_info": {
   "codemirror_mode": {
    "name": "ipython",
    "version": 3
   },
   "file_extension": ".py",
   "mimetype": "text/x-python",
   "name": "python",
   "nbconvert_exporter": "python",
   "pygments_lexer": "ipython3",
   "version": "3.10.12"
  }
 },
 "nbformat": 4,
 "nbformat_minor": 5
}
