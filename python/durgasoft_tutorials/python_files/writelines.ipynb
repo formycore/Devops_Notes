{
 "cells": [
  {
   "cell_type": "code",
   "execution_count": 7,
   "id": "dd9d511e-438f-415b-99bf-b54dc6726e84",
   "metadata": {
    "tags": []
   },
   "outputs": [],
   "source": [
    "f = open('writelines_ex.txt', 'w')\n",
    "l = ['samantha\\n', 'alia\\n', 'deepika\\n', 'kiara\\n']\n",
    "#print(l.split())\n",
    "f.writelines(l)\n",
    "f.close()"
   ]
  },
  {
   "cell_type": "code",
   "execution_count": 9,
   "id": "1e872f45-8a16-4de0-a5fe-4e98fde5b3fb",
   "metadata": {
    "tags": []
   },
   "outputs": [],
   "source": [
    "f = open('writelines_ex.txt', 'w')\n",
    "d = {'samantha': 100, 'alia': 200}\n",
    "f.writelines(d)\n",
    "f.close()"
   ]
  },
  {
   "cell_type": "code",
   "execution_count": 10,
   "id": "ccc12b93-62ef-48ca-94b1-2d3d1d7c6405",
   "metadata": {
    "tags": []
   },
   "outputs": [],
   "source": [
    "f = open('writelines_ex.txt', 'w')\n",
    "d = {'samantha\\n': 100, 'alia\\n': 200}\n",
    "f.writelines(d)\n",
    "f.close()"
   ]
  },
  {
   "cell_type": "code",
   "execution_count": 17,
   "id": "cb12c5b6-e180-401c-be63-d8533be9c230",
   "metadata": {
    "tags": []
   },
   "outputs": [
    {
     "ename": "TypeError",
     "evalue": "write() argument must be str, not tuple",
     "output_type": "error",
     "traceback": [
      "\u001b[0;31m---------------------------------------------------------------------------\u001b[0m",
      "\u001b[0;31mTypeError\u001b[0m                                 Traceback (most recent call last)",
      "Cell \u001b[0;32mIn[17], line 4\u001b[0m\n\u001b[1;32m      2\u001b[0m f \u001b[38;5;241m=\u001b[39m \u001b[38;5;28mopen\u001b[39m(\u001b[38;5;124m'\u001b[39m\u001b[38;5;124mwritelines_ex.txt\u001b[39m\u001b[38;5;124m'\u001b[39m, \u001b[38;5;124m'\u001b[39m\u001b[38;5;124mw\u001b[39m\u001b[38;5;124m'\u001b[39m)\n\u001b[1;32m      3\u001b[0m d \u001b[38;5;241m=\u001b[39m {\u001b[38;5;124m'\u001b[39m\u001b[38;5;124mDurga\u001b[39m\u001b[38;5;130;01m\\n\u001b[39;00m\u001b[38;5;124m'\u001b[39m: \u001b[38;5;241m100\u001b[39m, \u001b[38;5;124m'\u001b[39m\u001b[38;5;124mRavi\u001b[39m\u001b[38;5;130;01m\\n\u001b[39;00m\u001b[38;5;124m'\u001b[39m: \u001b[38;5;241m200\u001b[39m}\n\u001b[0;32m----> 4\u001b[0m \u001b[43mf\u001b[49m\u001b[38;5;241;43m.\u001b[39;49m\u001b[43mwritelines\u001b[49m\u001b[43m(\u001b[49m\u001b[43md\u001b[49m\u001b[38;5;241;43m.\u001b[39;49m\u001b[43mitems\u001b[49m\u001b[43m(\u001b[49m\u001b[43m)\u001b[49m\u001b[43m)\u001b[49m\n\u001b[1;32m      5\u001b[0m f\u001b[38;5;241m.\u001b[39mclose()\n",
      "\u001b[0;31mTypeError\u001b[0m: write() argument must be str, not tuple"
     ]
    }
   ],
   "source": [
    "# to get the values\n",
    "f = open('writelines_ex.txt', 'w')\n",
    "d = {'Durga\\n': 100, 'Ravi\\n': 200}\n",
    "f.writelines(d.values())\n",
    "f.close()"
   ]
  },
  {
   "cell_type": "code",
   "execution_count": 20,
   "id": "35227899-8ec0-410f-bc55-f7b72ed76547",
   "metadata": {
    "tags": []
   },
   "outputs": [
    {
     "ename": "SyntaxError",
     "evalue": "invalid syntax (227979633.py, line 1)",
     "output_type": "error",
     "traceback": [
      "\u001b[0;36m  Cell \u001b[0;32mIn[20], line 1\u001b[0;36m\u001b[0m\n\u001b[0;31m    to get the values\u001b[0m\n\u001b[0m       ^\u001b[0m\n\u001b[0;31mSyntaxError\u001b[0m\u001b[0;31m:\u001b[0m invalid syntax\n"
     ]
    }
   ],
   "source": [
    " to get the values\n",
    "f = open('writelines_ex.txt', 'w')\n",
    "d = {100:'Durga', 200:'Ravi'}\n",
    "f.writelines(d.values())\n",
    "f.close()"
   ]
  },
  {
   "cell_type": "code",
   "execution_count": 10,
   "id": "03e5dc4f-fdf5-4b76-be52-ed90100f03aa",
   "metadata": {},
   "outputs": [
    {
     "name": "stdout",
     "output_type": "stream",
     "text": [
      "['this ', 'is ', 'for ', 'the ', 'testing ', 'sentence ', 'is ', 'working ', 'or ', 'not ', 'in ', 'the ', 'writelines ']\n"
     ]
    }
   ],
   "source": [
    "# write multiple lines \n",
    "f = open('writelines_ex.txt', 'w')\n",
    "sentence = \"\"\"\n",
    "this is for the testing sentence is working or not in the writelines\n",
    "\"\"\"\n",
    "list_of_words = []\n",
    "for sen in sentence.split():\n",
    "    list_of_words.append(sen + \" \")\n",
    "print(list_of_words)\n",
    "    \n",
    "f.writelines(list_of_words)\n",
    "f.close()"
   ]
  },
  {
   "cell_type": "code",
   "execution_count": null,
   "id": "07780de8-26a1-404e-95df-e3bfeae873a4",
   "metadata": {},
   "outputs": [],
   "source": []
  },
  {
   "cell_type": "code",
   "execution_count": null,
   "id": "43bc8409-426d-430b-9eab-af75500b2067",
   "metadata": {},
   "outputs": [],
   "source": []
  }
 ],
 "metadata": {
  "kernelspec": {
   "display_name": "Python 3 (ipykernel)",
   "language": "python",
   "name": "python3"
  },
  "language_info": {
   "codemirror_mode": {
    "name": "ipython",
    "version": 3
   },
   "file_extension": ".py",
   "mimetype": "text/x-python",
   "name": "python",
   "nbconvert_exporter": "python",
   "pygments_lexer": "ipython3",
   "version": "3.10.12"
  }
 },
 "nbformat": 4,
 "nbformat_minor": 5
}
