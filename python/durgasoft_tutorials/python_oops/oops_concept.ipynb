{
 "cells": [
  {
   "cell_type": "code",
   "execution_count": null,
   "id": "f28efd11-44b2-4156-b2e7-427c1b524764",
   "metadata": {},
   "outputs": [],
   "source": [
    "```\n",
    "Python oops\n",
    "\n",
    "Before oops there was a pop\n",
    "Pop is call procedure Oriental programming or function or enter programming\n",
    "Here we need to mainly focus on three aspects\n",
    "That is class , object , a reference variable\n",
    "To understand clearly what is class means we need to go with an example \n",
    "\n",
    "Example one building plan\n",
    "First we need to contact the architecture he will provide the plan now with that plan we will go to contact the builder builder will fill the building\n",
    "\n",
    "With same plan we can Bangalore Chennai Hyderabad\n",
    "\n",
    "Here we have only one plan and there are three buildings\n",
    "\n",
    "Here in the example we can take plan as a class\n",
    "\n",
    "We can also take class as a die and object as an output\n",
    "\n",
    "\n",
    "\n",
    "Physical existence of any class is called object\n",
    "\n",
    "Class acts as blueprint/plan/model/design for the objects hearing the example class is a plan\n",
    "\n",
    "\n",
    "Object  a physical existence of an class here in the example buildings are objects\n",
    "\n",
    "\n",
    "How to define a classs\n",
    "class name_of_the_class:\n",
    "  ''' documentation string'''\n",
    "  properties (variables)\n",
    "  methods (functions/actions)\n",
    "###################################################################\n",
    "class Student:\n",
    "    '''This is a student class with required data'''\n",
    "    # variables or properties (like name, age, marks, etc)\n",
    "    # methods or actions (like study, play, etc)\n",
    "    print(student.__doc__)\n",
    "    help(student)\n",
    "###################################################################\n",
    "- we can use this doc string for documentation purpose\n",
    "- every object will have properties and actions/behaviours\n",
    "- properties are represented/specified by variables\n",
    "- actions/behaviours are represented/specified by methods\n",
    "###################################################################\n",
    "\n",
    "3 types of variables in python class\n",
    "------------------------------------\n",
    "1. Instance variables (object level variables)\n",
    "2. Static variables (class level variables)\n",
    "3. Local variables (method level variables)\n",
    "\n",
    "3 types of methods in python class\n",
    "----------------------------------\n",
    "1. Instance methods (object level methods)\n",
    "2. Static methods (class level methods)\n",
    "3. Class methods (class level methods)\n",
    "\n",
    "*****************************************************\n",
    "**Reference variable**\n",
    "----------------------\n",
    "- for a tv remote is required to operate the tv\n",
    "- here tv is an object and remote is a reference variable\n",
    "- reference variables can be used to refer the objects by using the reference variable we can access the properties and methods of the object\n",
    "- we can invoke functionality for single object there can be multiple reference\n",
    "- if we use functions inside the call it is called method\n",
    "- HOW TO CREATE AN OBJECT IN PYTHON\n",
    "- we can create an object by using the following syntax\n",
    "class_name() # this will create an object\n",
    "- we can create multiple objects for the same class\n",
    "- each object is has different id\n",
    "        print(id(s))\n",
    "        print(id(s1))\n",
    "######################################################\n",
    "class Student:\n",
    "  def__init__(self):\n",
    "    print(\"constructor execution\")\n",
    "    slef.name=\"sunny\"\n",
    "    self.age=23\n",
    "    self.marks=80\n",
    "    def talk(self):\n",
    "        print(\"Hello my self:\",self.name)\n",
    "        print(\"my age is:\",self.age)\n",
    "        print(\"my marks are:\",self.marks)\n",
    "s = Student()\n",
    "s1 = Student()\n",
    "print(s.name)\n",
    "print(s.age)\n",
    "print(s.marks)\n",
    "s.talk()\n",
    "\n",
    "print(id(s))\n",
    "print(id(s1))\n",
    "- here s is a reference variable and Student() is an object\n",
    "######################################################\n",
    "def __init__(self): # this is the constructor\n",
    "- whenever we are creating an object constructor will be executed automatically\n",
    "- constructor is responsible to declare and initialize the variables\n",
    "- without constructor can we create an object?\n",
    "- yes we can create an object without constructor\n",
    "- if we are not providing any constructor then python will provide default constructor\n",
    "- what is the purpose of constructor?\n",
    "- the main purpose of constructor is to declare and initialize the variables\n",
    "- constructor will execute only once per object\n",
    "- constructor name should be always __init__(self)\n",
    "- self is the default variable which is always pointing to current object\n",
    "\n",
    "\n",
    "\n",
    "data should be changed from object to object then we should go for instance variables\n",
    "\n",
    "\n",
    "\n",
    "\n",
    "\n",
    "\n",
    "```"
   ]
  },
  {
   "cell_type": "code",
   "execution_count": 2,
   "id": "800a27e1-577f-46e1-9316-865af7e10a32",
   "metadata": {
    "tags": []
   },
   "outputs": [
    {
     "name": "stdout",
     "output_type": "stream",
     "text": [
      "now executing the talk method\n",
      "Hello I am : maya\n",
      "My roll no is:  101\n",
      "My marks are: 90\n",
      "now running the next object for next student\n",
      "Hello I am : sam\n",
      "My roll no is:  102\n",
      "My marks are: 80\n"
     ]
    }
   ],
   "source": [
    "class Student:\n",
    "    def __init__(self,name,rollno,marks):\n",
    "        self.name = name\n",
    "        self.rollno = rollno\n",
    "        self.marks = marks\n",
    "    def talk(self):\n",
    "        print(\"Hello I am :\", self.name)\n",
    "        print(\"My roll no is: \", self.rollno)\n",
    "        print(\"My marks are:\", self.marks)\n",
    "s1 = Student(\"maya\",101,90)\n",
    "s2 = Student(\"sam\",102,80)\n",
    "print(\"now executing the talk method\")\n",
    "s1.talk()\n",
    "print(\"now running the next object for next student\")\n",
    "s2.talk()\n",
    "    "
   ]
  },
  {
   "cell_type": "code",
   "execution_count": 6,
   "id": "2753fd8d-bf2f-46be-b25b-d1d9bedf24e1",
   "metadata": {},
   "outputs": [
    {
     "name": "stdout",
     "output_type": "stream",
     "text": [
      "Address pointing to self 140706685937184\n",
      "Address poiniting to t is :  140706685937184\n"
     ]
    }
   ],
   "source": [
    "# checking if the self (constructor) and t (object reference) are pointing to same object are not\n",
    "class Student:\n",
    "    def __init__(self):\n",
    "        print(\"Address pointing to self\", id(self))\n",
    "t = Student()\n",
    "print('Address poiniting to t is : ', id(t))"
   ]
  },
  {
   "cell_type": "code",
   "execution_count": null,
   "id": "5d07d522-9a17-4bf9-9e0b-5f564f3b2253",
   "metadata": {},
   "outputs": [],
   "source": []
  },
  {
   "cell_type": "code",
   "execution_count": null,
   "id": "5451fa21-eec4-45a8-8528-801a7054fa27",
   "metadata": {},
   "outputs": [],
   "source": [
    "# first argument to a constructor and instance method is always self\n",
    "# methods inside the class are a) instance method b) static method c) class method"
   ]
  },
  {
   "cell_type": "code",
   "execution_count": 3,
   "id": "74c244ae-4f7a-416e-b970-9739d1afe055",
   "metadata": {
    "tags": []
   },
   "outputs": [
    {
     "name": "stdout",
     "output_type": "stream",
     "text": [
      "Constructor\n",
      "x value is : 10\n"
     ]
    }
   ],
   "source": [
    "class Test:\n",
    "    def __init__(self):\n",
    "        print(\"Constructor\")\n",
    "    def m1(self,x):\n",
    "        print(\"x value is :\" , x)\n",
    "t = Test() # here we are not giving the value for self, python itself will give the value for self\n",
    "t.m1(10) # for this method we are supposed to give 2 values, but for self python provides the value and we are just \n",
    "         # giving it to the value of x\n",
    "    "
   ]
  },
  {
   "cell_type": "code",
   "execution_count": null,
   "id": "86ec64f5-29c5-4437-a010-ba9943220cca",
   "metadata": {},
   "outputs": [],
   "source": []
  },
  {
   "cell_type": "code",
   "execution_count": 5,
   "id": "2c7c0945-c23c-4802-b85e-f518b8794c2c",
   "metadata": {
    "tags": []
   },
   "outputs": [
    {
     "name": "stdout",
     "output_type": "stream",
     "text": [
      "Hello my name is :  Samantha\n",
      "My rno is :  100\n",
      "My marks are :  90\n"
     ]
    }
   ],
   "source": [
    "class Student:\n",
    "    def __init__(self,name,rno,marks):\n",
    "        self.name = name\n",
    "        self.rno = rno\n",
    "        self.marks = marks\n",
    "    def talk(self):\n",
    "        print(\"Hello my name is : \", self.name )\n",
    "        print(\"My rno is : \", self.rno)\n",
    "        print(\"My marks are : \", self.marks)\n",
    "s1 = Student(\"Samantha\", 100, 90)\n",
    "s1.talk()\n",
    "        "
   ]
  },
  {
   "cell_type": "code",
   "execution_count": 3,
   "id": "999cffe2-3b60-45bb-9af0-fd0ee0d435e4",
   "metadata": {},
   "outputs": [
    {
     "name": "stdout",
     "output_type": "stream",
     "text": [
      "Hello my name is :  Sunny\n",
      "My roll no is :  101\n",
      "My marks are :  90\n"
     ]
    }
   ],
   "source": [
    "# SELF Postmartem\n",
    "class Student:\n",
    "    def __init__(delf,name,rollno,marks):\n",
    "        delf.name = name\n",
    "        delf.rollno = rollno\n",
    "        delf.marks = marks\n",
    "    def talk(kelf):\n",
    "        print(\"Hello my name is : \", kelf.name)\n",
    "        print(\"My roll no is : \", kelf.rollno)\n",
    "        print(\"My marks are : \", kelf.marks)\n",
    "s1 = Student(\"Sunny\", 101, 90)\n",
    "s1.talk()"
   ]
  },
  {
   "cell_type": "code",
   "execution_count": 4,
   "id": "228af818-e367-413a-877c-01831ff306d6",
   "metadata": {
    "tags": []
   },
   "outputs": [
    {
     "name": "stdout",
     "output_type": "stream",
     "text": [
      "Creating instance variable and performing initilization\n",
      "sunny 101 90\n",
      "Creating instance variable and performing initilization\n",
      "Bunny 102 95\n"
     ]
    }
   ],
   "source": [
    "class Student:\n",
    "    def __init__(self,name,rno,marks):\n",
    "        print(\"Creating instance variable and performing initilization\")\n",
    "        self.name = name\n",
    "        self.rno = rno\n",
    "        self.marks = marks\n",
    "s1 = Student(\"sunny\",101,90)\n",
    "print(s1.name,s1.rno,s1.marks)\n",
    "\n",
    "s2 = Student(\"Bunny\",102,95)\n",
    "print(s2.name,s2.rno,s2.marks)\n",
    "\n"
   ]
  },
  {
   "cell_type": "code",
   "execution_count": 5,
   "id": "79133895-e2fb-4fc1-beda-ff0a3f544cc6",
   "metadata": {
    "tags": []
   },
   "outputs": [
    {
     "name": "stdout",
     "output_type": "stream",
     "text": [
      "something is printing\n"
     ]
    }
   ],
   "source": [
    "class Test:\n",
    "    def m1(self):\n",
    "        print(\"Method execution ...\")\n",
    "t = Test()\n",
    "t.m1()"
   ]
  },
  {
   "cell_type": "code",
   "execution_count": 9,
   "id": "2b1fae55-be1a-4e0d-99e1-20b0921e578e",
   "metadata": {
    "tags": []
   },
   "outputs": [
    {
     "name": "stdout",
     "output_type": "stream",
     "text": [
      "Constructer execution\n",
      "Constructer execution\n",
      "94646277174240\n",
      "Constructer execution\n",
      "94646277174240\n"
     ]
    }
   ],
   "source": [
    "class Test:\n",
    "    def __init__(self):\n",
    "        print(\"Constructer execution\")\n",
    "t = Test()\n",
    "#t.__init__()\n",
    "print(id(t.__init__()))\n",
    "print(id(t.__init__()))"
   ]
  },
  {
   "cell_type": "code",
   "execution_count": null,
   "id": "a1e7a487-e5e2-4a41-9b48-e9545107f33a",
   "metadata": {},
   "outputs": [],
   "source": []
  },
  {
   "cell_type": "code",
   "execution_count": 10,
   "id": "641c6e38-a76c-456b-948d-395a1433413e",
   "metadata": {
    "tags": []
   },
   "outputs": [
    {
     "ename": "TypeError",
     "evalue": "Test.__init__() missing 1 required positional argument: 'x'",
     "output_type": "error",
     "traceback": [
      "\u001b[0;31m---------------------------------------------------------------------------\u001b[0m",
      "\u001b[0;31mTypeError\u001b[0m                                 Traceback (most recent call last)",
      "Cell \u001b[0;32mIn[10], line 6\u001b[0m\n\u001b[1;32m      4\u001b[0m     \u001b[38;5;28;01mdef\u001b[39;00m \u001b[38;5;21m__init__\u001b[39m(\u001b[38;5;28mself\u001b[39m,x):\n\u001b[1;32m      5\u001b[0m         \u001b[38;5;28mprint\u001b[39m(\u001b[38;5;124m\"\u001b[39m\u001b[38;5;124mone argument constructor\u001b[39m\u001b[38;5;124m\"\u001b[39m)\n\u001b[0;32m----> 6\u001b[0m t \u001b[38;5;241m=\u001b[39m \u001b[43mTest\u001b[49m\u001b[43m(\u001b[49m\u001b[43m)\u001b[49m\n\u001b[1;32m      7\u001b[0m t2 \u001b[38;5;241m=\u001b[39m Test(\u001b[38;5;241m10\u001b[39m)\n",
      "\u001b[0;31mTypeError\u001b[0m: Test.__init__() missing 1 required positional argument: 'x'"
     ]
    }
   ],
   "source": [
    "class Test:\n",
    "    def __init__(self):\n",
    "        print(\"no argument constructors\")\n",
    "    def __init__(self,x):\n",
    "        print(\"one argument constructor\")\n",
    "t = Test() # this is invalid as it is taking only the recent constructors only for recent only it is expecting the value of x\n",
    "t2 = Test(10)"
   ]
  },
  {
   "cell_type": "code",
   "execution_count": 11,
   "id": "be0a9198-8cdb-4c32-8578-fa44c60c051c",
   "metadata": {
    "tags": []
   },
   "outputs": [
    {
     "name": "stdout",
     "output_type": "stream",
     "text": [
      "one argument constructor\n"
     ]
    }
   ],
   "source": [
    "class Test:\n",
    "    def __init__(self):\n",
    "        print(\"no argument constructors\")\n",
    "    def __init__(self,x):\n",
    "        print(\"one argument constructor\")\n",
    "#t = Test()\n",
    "t2 = Test(10)"
   ]
  },
  {
   "cell_type": "code",
   "execution_count": 13,
   "id": "6317dd59-b200-438b-a579-81bb6d9a3e32",
   "metadata": {
    "tags": []
   },
   "outputs": [
    {
     "name": "stdin",
     "output_type": "stream",
     "text": [
      "yes/no no\n"
     ]
    },
    {
     "name": "stdout",
     "output_type": "stream",
     "text": [
      "no\n"
     ]
    }
   ],
   "source": [
    "option = input(\"yes/no\")\n",
    "print(option)"
   ]
  },
  {
   "cell_type": "code",
   "execution_count": null,
   "id": "2b774a40-09b5-4ad6-aac8-0de89a6d85f3",
   "metadata": {},
   "outputs": [],
   "source": [
    "'''\n",
    "class Movie:\n",
    "\tdef __init__(self,title,hero,heroine):\n",
    "\t\tself.title = title\n",
    "\t\tself.hero = hero\n",
    "\t\tself.heroine = heroine\n",
    "\tdef info(self):\n",
    "\t\tprint(\"Movie Name is:\", self.title)\n",
    "\t\tprint(\"Hero Name is:\", self.hero)\n",
    "\t\tprint(\"Heroine Name is:\", self.heroine)\n",
    "\n",
    "list_of_movies = []\n",
    "while True:\n",
    "\ttitle = input(\"Enter the Movie title: \")\n",
    "\thero = input(\"Enter the Hero Name: \")\n",
    "\theroine = input(\"Enter the Heroine Name: \")\n",
    "\tm = Movie(title,hero,heroine)\n",
    "\tlist_of_movies.append(m)\n",
    "\tprint(\"Movies added successfully..\")\n",
    "\toption = input(\"Do you want to add more movies[yes/no] \")\n",
    "\tif option.lower() == 'no':\n",
    "\t\tbreak\n",
    "\n",
    "print(\"All movies added\")\n",
    "for x in list_of_movies:\n",
    "\tx.info()\n",
    "\tprint()\n",
    "'''"
   ]
  }
 ],
 "metadata": {
  "kernelspec": {
   "display_name": "Python 3 (ipykernel)",
   "language": "python",
   "name": "python3"
  },
  "language_info": {
   "codemirror_mode": {
    "name": "ipython",
    "version": 3
   },
   "file_extension": ".py",
   "mimetype": "text/x-python",
   "name": "python",
   "nbconvert_exporter": "python",
   "pygments_lexer": "ipython3",
   "version": "3.10.12"
  }
 },
 "nbformat": 4,
 "nbformat_minor": 5
}
