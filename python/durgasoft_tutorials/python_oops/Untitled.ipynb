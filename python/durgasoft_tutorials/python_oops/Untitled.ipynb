{
 "cells": [
  {
   "cell_type": "code",
   "execution_count": null,
   "id": "649df039-b691-4071-b7e8-cd5cc5968791",
   "metadata": {},
   "outputs": [],
   "source": [
    "class Movie:\n",
    "\tdef __init__(self,title,hero,heroine):\n",
    "\t\tself.title = title\n",
    "\t\tself.hero = hero\n",
    "\t\tself.heroine = heroine\n",
    "\tdef info(self):\n",
    "\t\tprint(\"Movie Name is:\", self.title)\n",
    "\t\tprint(\"Hero Name is:\", self.hero)\n",
    "\t\tprint(\"Heroine Name is:\", self.heroine)\n",
    "\n",
    "list_of_movies = []\n",
    "while True:\n",
    "\ttitle = input(\"Enter the Movie title: \")\n",
    "\thero = input(\"Enter the Hero Name: \")\n",
    "\theroine = input(\"Enter the Heroine Name: \")\n",
    "\tm = Movie(title,hero,heroine)\n",
    "\tlist_of_movies.append(m)\n",
    "\tprint(\"Movies added successfully..\")\n",
    "\toption = input(\"Do you want to add more movies[yes/no] \")\n",
    "\tif option.lower() == 'no':\n",
    "\t\tbreak\n",
    "\n",
    "print(\"All movies added\")\n",
    "for x in list_of_movies:\n",
    "\tx.info()\n",
    "\tprint()"
   ]
  }
 ],
 "metadata": {
  "kernelspec": {
   "display_name": "Python 3 (ipykernel)",
   "language": "python",
   "name": "python3"
  },
  "language_info": {
   "codemirror_mode": {
    "name": "ipython",
    "version": 3
   },
   "file_extension": ".py",
   "mimetype": "text/x-python",
   "name": "python",
   "nbconvert_exporter": "python",
   "pygments_lexer": "ipython3",
   "version": "3.10.12"
  }
 },
 "nbformat": 4,
 "nbformat_minor": 5
}
