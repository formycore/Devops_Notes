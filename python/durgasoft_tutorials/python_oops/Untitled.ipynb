{
 "cells": [
  {
   "cell_type": "code",
   "execution_count": 2,
   "id": "800a27e1-577f-46e1-9316-865af7e10a32",
   "metadata": {
    "tags": []
   },
   "outputs": [
    {
     "name": "stdout",
     "output_type": "stream",
     "text": [
      "now executing the talk method\n",
      "Hello I am : maya\n",
      "My roll no is:  101\n",
      "My marks are: 90\n",
      "now running the next object for next student\n",
      "Hello I am : sam\n",
      "My roll no is:  102\n",
      "My marks are: 80\n"
     ]
    }
   ],
   "source": [
    "class Student:\n",
    "    def __init__(self,name,rollno,marks):\n",
    "        self.name = name\n",
    "        self.rollno = rollno\n",
    "        self.marks = marks\n",
    "    def talk(self):\n",
    "        print(\"Hello I am :\", self.name)\n",
    "        print(\"My roll no is: \", self.rollno)\n",
    "        print(\"My marks are:\", self.marks)\n",
    "s1 = Student(\"maya\",101,90)\n",
    "s2 = Student(\"sam\",102,80)\n",
    "print(\"now executing the talk method\")\n",
    "s1.talk()\n",
    "print(\"now running the next object for next student\")\n",
    "s2.talk()\n",
    "    "
   ]
  },
  {
   "cell_type": "code",
   "execution_count": null,
   "id": "2753fd8d-bf2f-46be-b25b-d1d9bedf24e1",
   "metadata": {},
   "outputs": [],
   "source": []
  }
 ],
 "metadata": {
  "kernelspec": {
   "display_name": "Python 3 (ipykernel)",
   "language": "python",
   "name": "python3"
  },
  "language_info": {
   "codemirror_mode": {
    "name": "ipython",
    "version": 3
   },
   "file_extension": ".py",
   "mimetype": "text/x-python",
   "name": "python",
   "nbconvert_exporter": "python",
   "pygments_lexer": "ipython3",
   "version": "3.10.12"
  }
 },
 "nbformat": 4,
 "nbformat_minor": 5
}
