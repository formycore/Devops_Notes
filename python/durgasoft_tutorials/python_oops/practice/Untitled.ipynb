{
 "cells": [
  {
   "cell_type": "code",
   "execution_count": 4,
   "id": "c70f3e89-f755-445f-b737-9dfdd922af86",
   "metadata": {
    "tags": []
   },
   "outputs": [
    {
     "ename": "AttributeError",
     "evalue": "type object 'Student' has no attribute 'name'",
     "output_type": "error",
     "traceback": [
      "\u001b[0;31m---------------------------------------------------------------------------\u001b[0m",
      "\u001b[0;31mAttributeError\u001b[0m                            Traceback (most recent call last)",
      "Cell \u001b[0;32mIn[4], line 11\u001b[0m\n\u001b[1;32m      9\u001b[0m s \u001b[38;5;241m=\u001b[39m Student\n\u001b[1;32m     10\u001b[0m s1 \u001b[38;5;241m=\u001b[39m Student\n\u001b[0;32m---> 11\u001b[0m \u001b[38;5;28mprint\u001b[39m(\u001b[43ms\u001b[49m\u001b[38;5;241;43m.\u001b[39;49m\u001b[43mname\u001b[49m, \u001b[38;5;28mid\u001b[39m(s))\n",
      "\u001b[0;31mAttributeError\u001b[0m: type object 'Student' has no attribute 'name'"
     ]
    }
   ],
   "source": [
    "class Student:\n",
    "    def __init__(self):\n",
    "        self.name = \"samantha\"\n",
    "        self.rollno = 1\n",
    "        self.marks = 10\n",
    "    def talk(self):\n",
    "        print(\"Hello i am \", self.name)\n",
    "        \n",
    "s = Student\n",
    "s1 = Student\n",
    "print(s.name, id(s))"
   ]
  },
  {
   "cell_type": "code",
   "execution_count": 7,
   "id": "7d35b7e7-30a1-4036-b7ed-87fd13c792a1",
   "metadata": {
    "tags": []
   },
   "outputs": [
    {
     "name": "stdout",
     "output_type": "stream",
     "text": [
      "Now executing the talk method\n",
      "Hello i am : sunny\n",
      "Roll no is : 1\n",
      "Marks are: 100\n",
      "Hello i am : Maya\n",
      "Roll no is : 2\n",
      "Marks are: 100\n",
      "Hello i am : len\n",
      "Roll no is : 3\n",
      "Marks are: 100\n"
     ]
    }
   ],
   "source": [
    "class Student:\n",
    "    def __init__(self,name,rollno,marks):\n",
    "        self.name = name\n",
    "        self.rollno = rollno\n",
    "        self.marks = marks\n",
    "    def talk(self):\n",
    "        print(\"Hello i am :\", self.name)\n",
    "        print(\"Roll no is :\", self.rollno)\n",
    "        print(\"Marks are:\", self.marks)\n",
    "s1 = Student('sunny', '1', '100')\n",
    "s2 = Student('Maya', '2', '100')\n",
    "s3 = Student('len', '3', '100')\n",
    "print(\"Now executing the talk method\")\n",
    "for i in s1,s2,s3:\n",
    "    i.talk()"
   ]
  },
  {
   "cell_type": "code",
   "execution_count": null,
   "id": "19cb9630-082b-4f0a-9c83-4c6de028866a",
   "metadata": {},
   "outputs": [],
   "source": []
  }
 ],
 "metadata": {
  "kernelspec": {
   "display_name": "Python 3 (ipykernel)",
   "language": "python",
   "name": "python3"
  },
  "language_info": {
   "codemirror_mode": {
    "name": "ipython",
    "version": 3
   },
   "file_extension": ".py",
   "mimetype": "text/x-python",
   "name": "python",
   "nbconvert_exporter": "python",
   "pygments_lexer": "ipython3",
   "version": "3.10.12"
  }
 },
 "nbformat": 4,
 "nbformat_minor": 5
}
