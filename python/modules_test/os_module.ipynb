{
 "cells": [
  {
   "cell_type": "code",
   "execution_count": null,
   "id": "71405da1-2191-45e5-a44b-34c3557739f2",
   "metadata": {},
   "outputs": [],
   "source": [
    "#python programme to explain the os.getcwd() method"
   ]
  },
  {
   "cell_type": "code",
   "execution_count": 1,
   "id": "36c2ac08-b897-4f3b-aa16-1f4d0dbea3e1",
   "metadata": {
    "tags": []
   },
   "outputs": [
    {
     "name": "stdout",
     "output_type": "stream",
     "text": [
      "Current working directory:  /home/maanya/Downloads/Devops_Notes/python/modules_test\n"
     ]
    }
   ],
   "source": [
    "import os\n",
    "cwd = os.getcwd()\n",
    "print(\"Current working directory: \", cwd)"
   ]
  },
  {
   "cell_type": "code",
   "execution_count": null,
   "id": "16fc7034-7bd9-42f5-9ae8-936c141cfd7e",
   "metadata": {},
   "outputs": [],
   "source": [
    "# changing the current working directory\n"
   ]
  },
  {
   "cell_type": "code",
   "execution_count": 2,
   "id": "484b163a-1cf5-4e9d-9e6a-f4aa84506c05",
   "metadata": {
    "tags": []
   },
   "outputs": [
    {
     "name": "stdout",
     "output_type": "stream",
     "text": [
      "Present working directory /home/maanya/Downloads/Devops_Notes/python/modules_test\n",
      "Present working directory /home/maanya/Downloads/Devops_Notes/python\n"
     ]
    }
   ],
   "source": [
    "import os\n",
    "#functiont to get the current working directory\n",
    "def current_path():\n",
    "    cwd = os.getcwd()\n",
    "    print(\"Present working directory\", cwd)\n",
    "    \n",
    "current_path()\n",
    "# changing the CWD\n",
    "os.chdir('../')\n",
    "\n",
    "current_path()"
   ]
  },
  {
   "cell_type": "code",
   "execution_count": null,
   "id": "905a396a-97a0-4b12-8700-c440fd460436",
   "metadata": {},
   "outputs": [],
   "source": [
    "# list the directories"
   ]
  },
  {
   "cell_type": "code",
   "execution_count": 3,
   "id": "7bd7e1a2-8ff7-4bbf-89f1-fc13d4e2abea",
   "metadata": {
    "tags": []
   },
   "outputs": [
    {
     "name": "stdout",
     "output_type": "stream",
     "text": [
      "/home/maanya/Downloads/Devops_Notes/python\n"
     ]
    }
   ],
   "source": [
    "import os\n",
    "print(os.getcwd())"
   ]
  },
  {
   "cell_type": "code",
   "execution_count": 8,
   "id": "815b2fc8-469a-41bf-b18a-9761f76abdcf",
   "metadata": {
    "tags": []
   },
   "outputs": [
    {
     "name": "stdout",
     "output_type": "stream",
     "text": [
      "/home/maanya/Downloads/Devops_Notes\n",
      "['phpadmin_example', 'ANSIBLE', 'realtime_problems', 'Devops_20_projects', 'projects_urls', 'lamp_amazon_linux', 'terraform', 'maven_installation', 'tomcat_install', 'LINUX', 'test_copy', 'GOoGle_cloud', 'Notes', 'gitrun.sh', 'AWS', 'Devops_project_site', 'cicd', 'JENKINS', 'check', 'chk.txt', 'valaxy_project', 'ProJeCTs', 'Installations', 'Monitoring', 'gitlab_update', 'errors', 'rsync_commands', 'lwp_labs', 'valaxy_project_1', 'gitlab', 'ONLY_DEVOPS', 'DOCKER', 'python', 'Quality_Thoughts', 'AZURE', 'GIT', 'linux', 'devops certification path', 'jenkins_proj', 'VISUALPATH', 'Hello-Sandeep-master', 'logitech', 'KUBERNETES', 'pluralSight_labs', 'valaxy_practice', 'full_stack_devops_project', 'aws_eks', 'Inteview_questions', 'java_update', 'jenkins_shared_library', 'Trie-Tree-Technologies', 'Decoding_devops', 'proj_ideas', '.git', 'misc_commands', 'shell_script', 'Udemy', 'valaxy_project_udemy', 'Java_install_linux', 'php_ip_address', 'IBM_DEV_DockeR', 'Valaxy_git', 'Check', 'test_manjunath', 'valaxy', 'praveen_sigampallI_k8s', 'docker_practice', 'test']\n"
     ]
    }
   ],
   "source": [
    "# change the directory\n",
    "import os\n",
    "os.chdir('/home/maanya/Downloads/Devops_Notes')\n",
    "print(os.getcwd())\n",
    "print(os.listdir())"
   ]
  },
  {
   "cell_type": "code",
   "execution_count": null,
   "id": "17e44975-cd83-4179-8f7b-0c5bdcda03c5",
   "metadata": {},
   "outputs": [],
   "source": [
    "# Make Directories"
   ]
  },
  {
   "cell_type": "code",
   "execution_count": 23,
   "id": "b5f6bafc-cefe-4555-85ac-62894f1ce2e9",
   "metadata": {
    "tags": []
   },
   "outputs": [
    {
     "ename": "FileExistsError",
     "evalue": "[Errno 17] File exists: '/home/maanya/Downloads/Devops_Notes/python/python_script/python_modules/testing'",
     "output_type": "error",
     "traceback": [
      "\u001b[0;31m---------------------------------------------------------------------------\u001b[0m",
      "\u001b[0;31mFileExistsError\u001b[0m                           Traceback (most recent call last)",
      "Cell \u001b[0;32mIn[23], line 10\u001b[0m\n\u001b[1;32m      8\u001b[0m parent_directory \u001b[38;5;241m=\u001b[39m \u001b[38;5;124m\"\u001b[39m\u001b[38;5;124m/home/maanya/Downloads/Devops_Notes/python/python_script/python_modules\u001b[39m\u001b[38;5;124m\"\u001b[39m\n\u001b[1;32m      9\u001b[0m path \u001b[38;5;241m=\u001b[39m os\u001b[38;5;241m.\u001b[39mpath\u001b[38;5;241m.\u001b[39mjoin(parent_directory, directory)\n\u001b[0;32m---> 10\u001b[0m \u001b[43mos\u001b[49m\u001b[38;5;241;43m.\u001b[39;49m\u001b[43mmkdir\u001b[49m\u001b[43m(\u001b[49m\u001b[43mpath\u001b[49m\u001b[43m)\u001b[49m\n\u001b[1;32m     11\u001b[0m \u001b[38;5;28mprint\u001b[39m(\u001b[38;5;124m\"\u001b[39m\u001b[38;5;124mDirectory created \u001b[39m\u001b[38;5;132;01m%s\u001b[39;00m\u001b[38;5;124m: \u001b[39m\u001b[38;5;124m\"\u001b[39m, directory)\n",
      "\u001b[0;31mFileExistsError\u001b[0m: [Errno 17] File exists: '/home/maanya/Downloads/Devops_Notes/python/python_script/python_modules/testing'"
     ]
    }
   ],
   "source": [
    "import os\n",
    "#print(os.getcwd())\n",
    "#print(os.listdir())\n",
    "#os.chdir('/home/maanya/Downloads/Devops_Notes/python_script/')\n",
    "os.chdir('/home/maanya/Downloads/Devops_Notes/python/python_script/python_modules')\n",
    "#print(os.listdir())\n",
    "directory = \"testing\"\n",
    "parent_directory = \"/home/maanya/Downloads/Devops_Notes/python/python_script/python_modules\"\n",
    "path = os.path.join(parent_directory, directory)\n",
    "os.mkdir(path)\n",
    "print(\"Directory created %s: \", directory)\n",
    "\n"
   ]
  },
  {
   "cell_type": "code",
   "execution_count": null,
   "id": "1040124c-80bc-4698-a2e7-92476d1b02ae",
   "metadata": {},
   "outputs": [],
   "source": []
  },
  {
   "cell_type": "code",
   "execution_count": null,
   "id": "448cfc40-916e-480e-b624-560af861b9b9",
   "metadata": {},
   "outputs": [],
   "source": []
  },
  {
   "cell_type": "code",
   "execution_count": null,
   "id": "489a6f70-c73b-4eed-aa41-551b5f0c9631",
   "metadata": {},
   "outputs": [],
   "source": []
  }
 ],
 "metadata": {
  "kernelspec": {
   "display_name": "Python 3 (ipykernel)",
   "language": "python",
   "name": "python3"
  },
  "language_info": {
   "codemirror_mode": {
    "name": "ipython",
    "version": 3
   },
   "file_extension": ".py",
   "mimetype": "text/x-python",
   "name": "python",
   "nbconvert_exporter": "python",
   "pygments_lexer": "ipython3",
   "version": "3.10.12"
  }
 },
 "nbformat": 4,
 "nbformat_minor": 5
}
