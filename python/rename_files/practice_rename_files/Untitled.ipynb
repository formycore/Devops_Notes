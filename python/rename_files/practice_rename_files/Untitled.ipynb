{
 "cells": [
  {
   "cell_type": "code",
   "execution_count": 3,
   "id": "c2a254dd-1d81-423c-9ce9-22a2bf01158e",
   "metadata": {
    "tags": []
   },
   "outputs": [],
   "source": [
    "import os\n",
    "folders = \"test testa testb\"\n",
    "for i in folders.split():\n",
    "    os.mkdir(i)"
   ]
  },
  {
   "cell_type": "code",
   "execution_count": 4,
   "id": "2d3e7c5c-f68b-43c8-80e4-5716ee749e0c",
   "metadata": {
    "tags": []
   },
   "outputs": [
    {
     "name": "stdout",
     "output_type": "stream",
     "text": [
      "['Untitled.ipynb']\n",
      "[]\n",
      "['Untitled-checkpoint.ipynb']\n",
      "[]\n",
      "[]\n"
     ]
    }
   ],
   "source": [
    "import os\n",
    "for root,dir,files in os.walk(os.getcwd()):\n",
    "    print(files)"
   ]
  },
  {
   "cell_type": "code",
   "execution_count": 5,
   "id": "07b27730-f69b-4d99-996c-f10dd8877541",
   "metadata": {
    "tags": []
   },
   "outputs": [
    {
     "name": "stdout",
     "output_type": "stream",
     "text": [
      "[['testa', '.ipynb_checkpoints', 'testb', 'test'], [], [], [], []]\n"
     ]
    }
   ],
   "source": [
    "import os\n",
    "dirs = []\n",
    "for root,dir,files in os.walk(os.getcwd()):\n",
    "    dirs.append(dir)\n",
    "print(dirs)"
   ]
  },
  {
   "cell_type": "code",
   "execution_count": 11,
   "id": "59d9b691-cda7-428f-8f2e-901d23ac0a37",
   "metadata": {
    "tags": []
   },
   "outputs": [
    {
     "name": "stdout",
     "output_type": "stream",
     "text": [
      "[['testa', '.ipynb_checkpoints', 'testb', 'test'], [], [], [], []]\n"
     ]
    }
   ],
   "source": [
    "import os\n",
    "dirs = []\n",
    "for root,dir,files in os.walk(os.getcwd()):\n",
    "    dirs.append(dir)\n",
    "for directories in dir:\n",
    "    print(director)"
   ]
  },
  {
   "cell_type": "code",
   "execution_count": null,
   "id": "82c423d6-0682-48b6-adbd-61830f66de9d",
   "metadata": {},
   "outputs": [],
   "source": []
  }
 ],
 "metadata": {
  "kernelspec": {
   "display_name": "Python 3 (ipykernel)",
   "language": "python",
   "name": "python3"
  },
  "language_info": {
   "codemirror_mode": {
    "name": "ipython",
    "version": 3
   },
   "file_extension": ".py",
   "mimetype": "text/x-python",
   "name": "python",
   "nbconvert_exporter": "python",
   "pygments_lexer": "ipython3",
   "version": "3.10.12"
  }
 },
 "nbformat": 4,
 "nbformat_minor": 5
}
