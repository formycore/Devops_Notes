{
 "cells": [
  {
   "cell_type": "code",
   "execution_count": 8,
   "id": "c3b49d6c",
   "metadata": {
    "tags": []
   },
   "outputs": [
    {
     "name": "stdout",
     "output_type": "stream",
     "text": [
      "pandas 1.0.4 pypi\n",
      "numpy 1.19.5 pypi\n",
      "red\n",
      "\n"
     ]
    }
   ],
   "source": [
    "with open('interview.txt','r') as f:\n",
    "    print(f.read())\n"
   ]
  },
  {
   "cell_type": "code",
   "execution_count": 23,
   "id": "ce662104-ea02-4b40-a75d-948a365a8106",
   "metadata": {
    "tags": []
   },
   "outputs": [
    {
     "name": "stdout",
     "output_type": "stream",
     "text": [
      "pandas 1.0.4 pypi\n",
      "\n",
      "numpy 1.19.5 pypi\n",
      "\n"
     ]
    }
   ],
   "source": [
    "with open('interview.txt', 'r') as f:\n",
    "    content=f.readlines()\n",
    "for line in content:\n",
    "    if 'pypi' in line:\n",
    "        print(line)\n"
   ]
  },
  {
   "cell_type": "code",
   "execution_count": 24,
   "id": "7509fd73-4ff3-406e-b6d1-685b63883c66",
   "metadata": {
    "tags": []
   },
   "outputs": [
    {
     "name": "stdout",
     "output_type": "stream",
     "text": [
      "pandas 1.0.4 pypi\n",
      "numpy 1.19.5 pypi\n"
     ]
    }
   ],
   "source": [
    "with open('interview.txt', 'r') as f:\n",
    "    content=f.readlines()\n",
    "for line in content:\n",
    "    if 'pypi' in line:\n",
    "        print(line.strip())\n",
    "with open('output', 'w') as output:\n",
    "    output.write(line.strip())\n"
   ]
  },
  {
   "cell_type": "code",
   "execution_count": null,
   "id": "6d5f8b32-ce25-441f-b56b-3932f27e8e02",
   "metadata": {},
   "outputs": [],
   "source": []
  },
  {
   "cell_type": "code",
   "execution_count": null,
   "id": "5789e627-f071-4299-b04a-bd84657ca1b4",
   "metadata": {},
   "outputs": [],
   "source": []
  }
 ],
 "metadata": {
  "kernelspec": {
   "display_name": "Python 3 (ipykernel)",
   "language": "python",
   "name": "python3"
  },
  "language_info": {
   "codemirror_mode": {
    "name": "ipython",
    "version": 3
   },
   "file_extension": ".py",
   "mimetype": "text/x-python",
   "name": "python",
   "nbconvert_exporter": "python",
   "pygments_lexer": "ipython3",
   "version": "3.10.12"
  }
 },
 "nbformat": 4,
 "nbformat_minor": 5
}
