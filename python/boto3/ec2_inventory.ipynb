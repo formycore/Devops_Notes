{
 "cells": [
  {
   "cell_type": "code",
   "execution_count": 1,
   "id": "f9d3359c-3556-4cde-ad1c-d61ba6ba57f7",
   "metadata": {
    "tags": []
   },
   "outputs": [],
   "source": [
    "# check for the describe regions method\n",
    "# https://boto3.amazonaws.com/v1/documentation/api/latest/reference/services/ec2/client/describe_regions.html\n"
   ]
  },
  {
   "cell_type": "code",
   "execution_count": 2,
   "id": "1bae6fe8-857e-47a8-a61f-cc915a40f6a1",
   "metadata": {
    "tags": []
   },
   "outputs": [
    {
     "name": "stdout",
     "output_type": "stream",
     "text": [
      "{'Regions': [{'Endpoint': 'ec2.ap-south-1.amazonaws.com', 'RegionName': 'ap-south-1', 'OptInStatus': 'opt-in-not-required'}, {'Endpoint': 'ec2.eu-north-1.amazonaws.com', 'RegionName': 'eu-north-1', 'OptInStatus': 'opt-in-not-required'}, {'Endpoint': 'ec2.eu-west-3.amazonaws.com', 'RegionName': 'eu-west-3', 'OptInStatus': 'opt-in-not-required'}, {'Endpoint': 'ec2.eu-west-2.amazonaws.com', 'RegionName': 'eu-west-2', 'OptInStatus': 'opt-in-not-required'}, {'Endpoint': 'ec2.eu-west-1.amazonaws.com', 'RegionName': 'eu-west-1', 'OptInStatus': 'opt-in-not-required'}, {'Endpoint': 'ec2.ap-northeast-3.amazonaws.com', 'RegionName': 'ap-northeast-3', 'OptInStatus': 'opt-in-not-required'}, {'Endpoint': 'ec2.ap-northeast-2.amazonaws.com', 'RegionName': 'ap-northeast-2', 'OptInStatus': 'opt-in-not-required'}, {'Endpoint': 'ec2.ap-northeast-1.amazonaws.com', 'RegionName': 'ap-northeast-1', 'OptInStatus': 'opt-in-not-required'}, {'Endpoint': 'ec2.ca-central-1.amazonaws.com', 'RegionName': 'ca-central-1', 'OptInStatus': 'opt-in-not-required'}, {'Endpoint': 'ec2.sa-east-1.amazonaws.com', 'RegionName': 'sa-east-1', 'OptInStatus': 'opt-in-not-required'}, {'Endpoint': 'ec2.ap-southeast-1.amazonaws.com', 'RegionName': 'ap-southeast-1', 'OptInStatus': 'opt-in-not-required'}, {'Endpoint': 'ec2.ap-southeast-2.amazonaws.com', 'RegionName': 'ap-southeast-2', 'OptInStatus': 'opt-in-not-required'}, {'Endpoint': 'ec2.eu-central-1.amazonaws.com', 'RegionName': 'eu-central-1', 'OptInStatus': 'opt-in-not-required'}, {'Endpoint': 'ec2.us-east-1.amazonaws.com', 'RegionName': 'us-east-1', 'OptInStatus': 'opt-in-not-required'}, {'Endpoint': 'ec2.us-east-2.amazonaws.com', 'RegionName': 'us-east-2', 'OptInStatus': 'opt-in-not-required'}, {'Endpoint': 'ec2.us-west-1.amazonaws.com', 'RegionName': 'us-west-1', 'OptInStatus': 'opt-in-not-required'}, {'Endpoint': 'ec2.us-west-2.amazonaws.com', 'RegionName': 'us-west-2', 'OptInStatus': 'opt-in-not-required'}], 'ResponseMetadata': {'RequestId': '1e1ea870-40b6-419e-a2e9-8f1015fd14b2', 'HTTPStatusCode': 200, 'HTTPHeaders': {'x-amzn-requestid': '1e1ea870-40b6-419e-a2e9-8f1015fd14b2', 'cache-control': 'no-cache, no-store', 'strict-transport-security': 'max-age=31536000; includeSubDomains', 'vary': 'accept-encoding', 'content-type': 'text/xml;charset=UTF-8', 'content-length': '3875', 'date': 'Tue, 05 Dec 2023 08:55:12 GMT', 'server': 'AmazonEC2'}, 'RetryAttempts': 0}}\n"
     ]
    }
   ],
   "source": [
    "import boto3\n",
    "ec2_cli = boto3.client('ec2')\n",
    "print(ec2_cli.describe_regions())"
   ]
  },
  {
   "cell_type": "code",
   "execution_count": 3,
   "id": "cd32c416-a90b-4e9b-a388-bce9bc4d065b",
   "metadata": {
    "tags": []
   },
   "outputs": [
    {
     "name": "stdout",
     "output_type": "stream",
     "text": [
      "[{'Endpoint': 'ec2.ap-south-1.amazonaws.com', 'RegionName': 'ap-south-1', 'OptInStatus': 'opt-in-not-required'}, {'Endpoint': 'ec2.eu-north-1.amazonaws.com', 'RegionName': 'eu-north-1', 'OptInStatus': 'opt-in-not-required'}, {'Endpoint': 'ec2.eu-west-3.amazonaws.com', 'RegionName': 'eu-west-3', 'OptInStatus': 'opt-in-not-required'}, {'Endpoint': 'ec2.eu-west-2.amazonaws.com', 'RegionName': 'eu-west-2', 'OptInStatus': 'opt-in-not-required'}, {'Endpoint': 'ec2.eu-west-1.amazonaws.com', 'RegionName': 'eu-west-1', 'OptInStatus': 'opt-in-not-required'}, {'Endpoint': 'ec2.ap-northeast-3.amazonaws.com', 'RegionName': 'ap-northeast-3', 'OptInStatus': 'opt-in-not-required'}, {'Endpoint': 'ec2.ap-northeast-2.amazonaws.com', 'RegionName': 'ap-northeast-2', 'OptInStatus': 'opt-in-not-required'}, {'Endpoint': 'ec2.ap-northeast-1.amazonaws.com', 'RegionName': 'ap-northeast-1', 'OptInStatus': 'opt-in-not-required'}, {'Endpoint': 'ec2.ca-central-1.amazonaws.com', 'RegionName': 'ca-central-1', 'OptInStatus': 'opt-in-not-required'}, {'Endpoint': 'ec2.sa-east-1.amazonaws.com', 'RegionName': 'sa-east-1', 'OptInStatus': 'opt-in-not-required'}, {'Endpoint': 'ec2.ap-southeast-1.amazonaws.com', 'RegionName': 'ap-southeast-1', 'OptInStatus': 'opt-in-not-required'}, {'Endpoint': 'ec2.ap-southeast-2.amazonaws.com', 'RegionName': 'ap-southeast-2', 'OptInStatus': 'opt-in-not-required'}, {'Endpoint': 'ec2.eu-central-1.amazonaws.com', 'RegionName': 'eu-central-1', 'OptInStatus': 'opt-in-not-required'}, {'Endpoint': 'ec2.us-east-1.amazonaws.com', 'RegionName': 'us-east-1', 'OptInStatus': 'opt-in-not-required'}, {'Endpoint': 'ec2.us-east-2.amazonaws.com', 'RegionName': 'us-east-2', 'OptInStatus': 'opt-in-not-required'}, {'Endpoint': 'ec2.us-west-1.amazonaws.com', 'RegionName': 'us-west-1', 'OptInStatus': 'opt-in-not-required'}, {'Endpoint': 'ec2.us-west-2.amazonaws.com', 'RegionName': 'us-west-2', 'OptInStatus': 'opt-in-not-required'}]\n"
     ]
    }
   ],
   "source": [
    "# from the above call regions key as it is dictionary it has key & value\n",
    "import boto3\n",
    "ec2_cli = boto3.client('ec2')\n",
    "print(ec2_cli.describe_regions()['Regions'])"
   ]
  },
  {
   "cell_type": "code",
   "execution_count": 6,
   "id": "a7d94096-0afe-4c84-80d7-393787cd17f7",
   "metadata": {
    "tags": []
   },
   "outputs": [
    {
     "name": "stdout",
     "output_type": "stream",
     "text": [
      "{'Endpoint': 'ec2.ap-south-1.amazonaws.com', 'RegionName': 'ap-south-1', 'OptInStatus': 'opt-in-not-required'}\n",
      "{'Endpoint': 'ec2.eu-north-1.amazonaws.com', 'RegionName': 'eu-north-1', 'OptInStatus': 'opt-in-not-required'}\n",
      "{'Endpoint': 'ec2.eu-west-3.amazonaws.com', 'RegionName': 'eu-west-3', 'OptInStatus': 'opt-in-not-required'}\n",
      "{'Endpoint': 'ec2.eu-west-2.amazonaws.com', 'RegionName': 'eu-west-2', 'OptInStatus': 'opt-in-not-required'}\n",
      "{'Endpoint': 'ec2.eu-west-1.amazonaws.com', 'RegionName': 'eu-west-1', 'OptInStatus': 'opt-in-not-required'}\n",
      "{'Endpoint': 'ec2.ap-northeast-3.amazonaws.com', 'RegionName': 'ap-northeast-3', 'OptInStatus': 'opt-in-not-required'}\n",
      "{'Endpoint': 'ec2.ap-northeast-2.amazonaws.com', 'RegionName': 'ap-northeast-2', 'OptInStatus': 'opt-in-not-required'}\n",
      "{'Endpoint': 'ec2.ap-northeast-1.amazonaws.com', 'RegionName': 'ap-northeast-1', 'OptInStatus': 'opt-in-not-required'}\n",
      "{'Endpoint': 'ec2.ca-central-1.amazonaws.com', 'RegionName': 'ca-central-1', 'OptInStatus': 'opt-in-not-required'}\n",
      "{'Endpoint': 'ec2.sa-east-1.amazonaws.com', 'RegionName': 'sa-east-1', 'OptInStatus': 'opt-in-not-required'}\n",
      "{'Endpoint': 'ec2.ap-southeast-1.amazonaws.com', 'RegionName': 'ap-southeast-1', 'OptInStatus': 'opt-in-not-required'}\n",
      "{'Endpoint': 'ec2.ap-southeast-2.amazonaws.com', 'RegionName': 'ap-southeast-2', 'OptInStatus': 'opt-in-not-required'}\n",
      "{'Endpoint': 'ec2.eu-central-1.amazonaws.com', 'RegionName': 'eu-central-1', 'OptInStatus': 'opt-in-not-required'}\n",
      "{'Endpoint': 'ec2.us-east-1.amazonaws.com', 'RegionName': 'us-east-1', 'OptInStatus': 'opt-in-not-required'}\n",
      "{'Endpoint': 'ec2.us-east-2.amazonaws.com', 'RegionName': 'us-east-2', 'OptInStatus': 'opt-in-not-required'}\n",
      "{'Endpoint': 'ec2.us-west-1.amazonaws.com', 'RegionName': 'us-west-1', 'OptInStatus': 'opt-in-not-required'}\n",
      "{'Endpoint': 'ec2.us-west-2.amazonaws.com', 'RegionName': 'us-west-2', 'OptInStatus': 'opt-in-not-required'}\n"
     ]
    }
   ],
   "source": [
    "import boto3\n",
    "ec2_cli = boto3.client('ec2')\n",
    "for each_region in ec2_cli.describe_regions()['Regions']:\n",
    "    print(each_region)"
   ]
  },
  {
   "cell_type": "code",
   "execution_count": 7,
   "id": "37c32a11-eafc-4891-bd18-2467adcf8ea6",
   "metadata": {
    "tags": []
   },
   "outputs": [
    {
     "name": "stdout",
     "output_type": "stream",
     "text": [
      "ap-south-1\n",
      "eu-north-1\n",
      "eu-west-3\n",
      "eu-west-2\n",
      "eu-west-1\n",
      "ap-northeast-3\n",
      "ap-northeast-2\n",
      "ap-northeast-1\n",
      "ca-central-1\n",
      "sa-east-1\n",
      "ap-southeast-1\n",
      "ap-southeast-2\n",
      "eu-central-1\n",
      "us-east-1\n",
      "us-east-2\n",
      "us-west-1\n",
      "us-west-2\n"
     ]
    }
   ],
   "source": [
    "import boto3\n",
    "ec2_cli = boto3.client('ec2')\n",
    "for each_region in ec2_cli.describe_regions()['Regions']:\n",
    "    print(each_region['RegionName'])"
   ]
  },
  {
   "cell_type": "code",
   "execution_count": 8,
   "id": "b5ea95b7-0d07-4c57-8d60-51a5bb2250f9",
   "metadata": {
    "tags": []
   },
   "outputs": [
    {
     "name": "stdout",
     "output_type": "stream",
     "text": [
      "['ap-south-1', 'eu-north-1', 'eu-west-3', 'eu-west-2', 'eu-west-1', 'ap-northeast-3', 'ap-northeast-2', 'ap-northeast-1', 'ca-central-1', 'sa-east-1', 'ap-southeast-1', 'ap-southeast-2', 'eu-central-1', 'us-east-1', 'us-east-2', 'us-west-1', 'us-west-2']\n"
     ]
    }
   ],
   "source": [
    "# now create a empty list & add all the regions to that list\n",
    "import boto3\n",
    "ec2_cli = boto3.client('ec2')\n",
    "collections_of_regions = []\n",
    "for each_region in ec2_cli.describe_regions()['Regions']:\n",
    "    #print(each_region['RegionName'])\n",
    "    collections_of_regions.append(each_region['RegionName']) # here we add the above each_region with RegionName\n",
    "print(collections_of_regions)"
   ]
  },
  {
   "cell_type": "code",
   "execution_count": 10,
   "id": "458e57c0-f52a-45aa-bc02-50e988d7839a",
   "metadata": {
    "tags": []
   },
   "outputs": [
    {
     "name": "stdout",
     "output_type": "stream",
     "text": [
      "['ap-south-1', 'eu-north-1', 'eu-west-3', 'eu-west-2', 'eu-west-1', 'ap-northeast-3', 'ap-northeast-2', 'ap-northeast-1', 'ca-central-1', 'sa-east-1', 'ap-southeast-1', 'ap-southeast-2', 'eu-central-1', 'us-east-1', 'us-east-2', 'us-west-1', 'us-west-2']\n",
      "ec2.Instance(id='i-010c868943eb9fcd9')\n",
      "ec2.Instance(id='i-08df3fb5a12827c80')\n",
      "ec2.Instance(id='i-0f3ebec0d98a4779c')\n",
      "ec2.Instance(id='i-0d9493fd600e9673c')\n",
      "ec2.Instance(id='i-0377a1c7b349bd9e8')\n"
     ]
    }
   ],
   "source": [
    "# now create a empty list & add all the regions to that list\n",
    "import boto3\n",
    "ec2_cli = boto3.client('ec2')\n",
    "collections_of_regions = []\n",
    "for each_region in ec2_cli.describe_regions()['Regions']:\n",
    "    #print(each_region['RegionName'])\n",
    "    collections_of_regions.append(each_region['RegionName']) # here we add the above each_region with RegionName\n",
    "print(collections_of_regions)\n",
    "\n",
    "\n",
    "for each_region in collections_of_regions:\n",
    "    ec2_re = boto3.resource('ec2',each_region)\n",
    "    for each_in_reg in ec2_re.instances.all():\n",
    "        print(each_in_reg)"
   ]
  },
  {
   "cell_type": "code",
   "execution_count": 14,
   "id": "22b17c22-0b1f-434a-9a3f-2a8820c28fc9",
   "metadata": {
    "tags": []
   },
   "outputs": [
    {
     "name": "stdout",
     "output_type": "stream",
     "text": [
      "['ap-south-1', 'eu-north-1', 'eu-west-3', 'eu-west-2', 'eu-west-1', 'ap-northeast-3', 'ap-northeast-2', 'ap-northeast-1', 'ca-central-1', 'sa-east-1', 'ap-southeast-1', 'ap-southeast-2', 'eu-central-1', 'us-east-1', 'us-east-2', 'us-west-1', 'us-west-2']\n",
      "['__class__', '__delattr__', '__dict__', '__dir__', '__doc__', '__eq__', '__format__', '__ge__', '__getattribute__', '__gt__', '__hash__', '__init__', '__init_subclass__', '__le__', '__lt__', '__module__', '__ne__', '__new__', '__reduce__', '__reduce_ex__', '__repr__', '__setattr__', '__sizeof__', '__str__', '__subclasshook__', '__weakref__', '_id', 'ami_launch_index', 'architecture', 'attach_classic_link_vpc', 'attach_volume', 'block_device_mappings', 'boot_mode', 'capacity_reservation_id', 'capacity_reservation_specification', 'classic_address', 'client_token', 'console_output', 'cpu_options', 'create_image', 'create_tags', 'current_instance_boot_mode', 'delete_tags', 'describe_attribute', 'detach_classic_link_vpc', 'detach_volume', 'ebs_optimized', 'elastic_gpu_associations', 'elastic_inference_accelerator_associations', 'ena_support', 'enclave_options', 'get_available_subresources', 'hibernation_options', 'hypervisor', 'iam_instance_profile', 'id', 'image', 'image_id', 'instance_id', 'instance_lifecycle', 'instance_type', 'ipv6_address', 'kernel_id', 'key_name', 'key_pair', 'launch_time', 'licenses', 'load', 'maintenance_options', 'meta', 'metadata_options', 'modify_attribute', 'monitor', 'monitoring', 'network_interfaces', 'network_interfaces_attribute', 'outpost_arn', 'password_data', 'placement', 'placement_group', 'platform', 'platform_details', 'private_dns_name', 'private_dns_name_options', 'private_ip_address', 'product_codes', 'public_dns_name', 'public_ip_address', 'ramdisk_id', 'reboot', 'reload', 'report_status', 'reset_attribute', 'reset_kernel', 'reset_ramdisk', 'reset_source_dest_check', 'root_device_name', 'root_device_type', 'security_groups', 'source_dest_check', 'spot_instance_request_id', 'sriov_net_support', 'start', 'state', 'state_reason', 'state_transition_reason', 'stop', 'subnet', 'subnet_id', 'tags', 'terminate', 'tpm_support', 'unmonitor', 'usage_operation', 'usage_operation_update_time', 'virtualization_type', 'volumes', 'vpc', 'vpc_addresses', 'vpc_id', 'wait_until_exists', 'wait_until_running', 'wait_until_stopped', 'wait_until_terminated']\n"
     ]
    }
   ],
   "source": [
    "import boto3\n",
    "ec2_cli = boto3.client('ec2')\n",
    "collections_of_regions = []\n",
    "for each_region in ec2_cli.describe_regions()['Regions']:\n",
    "    #print(each_region['RegionName'])\n",
    "    collections_of_regions.append(each_region['RegionName']) # here we add the above each_region with RegionName\n",
    "print(collections_of_regions)\n",
    "\n",
    "\n",
    "for each_region in collections_of_regions:\n",
    "    ec2_re = boto3.resource('ec2',each_region)\n",
    "    for each_in_reg in ec2_re.instances.all():\n",
    "        print(dir(each_in_reg))\n",
    "        break"
   ]
  },
  {
   "cell_type": "code",
   "execution_count": 17,
   "id": "7e52cc34-4aee-4445-a2d6-320c1879c167",
   "metadata": {
    "tags": []
   },
   "outputs": [
    {
     "name": "stdout",
     "output_type": "stream",
     "text": [
      "['ap-south-1', 'eu-north-1', 'eu-west-3', 'eu-west-2', 'eu-west-1', 'ap-northeast-3', 'ap-northeast-2', 'ap-northeast-1', 'ca-central-1', 'sa-east-1', 'ap-southeast-1', 'ap-southeast-2', 'eu-central-1', 'us-east-1', 'us-east-2', 'us-west-1', 'us-west-2']\n",
      "1 i-010c868943eb9fcd9 t2.micro august 172.31.6.134 None\n",
      "2 i-08df3fb5a12827c80 t2.large august 172.31.47.74 None\n",
      "3 i-0f3ebec0d98a4779c t2.medium august 172.31.42.187 None\n",
      "4 i-0d9493fd600e9673c t2.medium august 172.31.34.200 None\n",
      "5 i-0377a1c7b349bd9e8 t2.medium august 172.31.34.152 None\n"
     ]
    }
   ],
   "source": [
    "import boto3\n",
    "from pprint import pprint\n",
    "ec2_cli = boto3.client('ec2')\n",
    "collections_of_regions = []\n",
    "for each_region in ec2_cli.describe_regions()['Regions']:\n",
    "    #print(each_region['RegionName'])\n",
    "    collections_of_regions.append(each_region['RegionName']) # here we add the above each_region with RegionName\n",
    "print(collections_of_regions)\n",
    "\n",
    "cnt=1\n",
    "for each_region in collections_of_regions:\n",
    "    #ec2_re = boto3.resource('ec2',each_region)\n",
    "    print()\n",
    "    for each_ins_in_reg in ec2_re.instances.all():\n",
    "        print(cnt,each_ins_in_reg.instance_id,\n",
    "               each_ins_in_reg.instance_type,\n",
    "               each_ins_in_reg.key_name,\n",
    "              each_ins_in_reg.private_ip_address,\n",
    "              each_ins_in_reg.public_ip_address)\n",
    "        cnt+=1"
   ]
  },
  {
   "cell_type": "code",
   "execution_count": 18,
   "id": "fe3dbad1-2d72-48d0-846c-b5482957edb6",
   "metadata": {
    "tags": []
   },
   "outputs": [
    {
     "name": "stdout",
     "output_type": "stream",
     "text": [
      "\n",
      "Instances in region: ap-south-1\n",
      "\n",
      "1 i-010c868943eb9fcd9 t2.micro august 172.31.6.134 None\n",
      "2 i-08df3fb5a12827c80 t2.large august 172.31.47.74 None\n",
      "3 i-0f3ebec0d98a4779c t2.medium august 172.31.42.187 None\n",
      "4 i-0d9493fd600e9673c t2.medium august 172.31.34.200 None\n",
      "5 i-0377a1c7b349bd9e8 t2.medium august 172.31.34.152 None\n",
      "\n",
      "Instances in region: eu-north-1\n",
      "\n",
      "\n",
      "Instances in region: eu-west-3\n",
      "\n",
      "\n",
      "Instances in region: eu-west-2\n",
      "\n",
      "\n",
      "Instances in region: eu-west-1\n",
      "\n",
      "\n",
      "Instances in region: ap-northeast-3\n",
      "\n",
      "\n",
      "Instances in region: ap-northeast-2\n",
      "\n",
      "\n",
      "Instances in region: ap-northeast-1\n",
      "\n",
      "\n",
      "Instances in region: ca-central-1\n",
      "\n",
      "\n",
      "Instances in region: sa-east-1\n",
      "\n",
      "\n",
      "Instances in region: ap-southeast-1\n",
      "\n",
      "\n",
      "Instances in region: ap-southeast-2\n",
      "\n",
      "\n",
      "Instances in region: eu-central-1\n",
      "\n",
      "\n",
      "Instances in region: us-east-1\n",
      "\n",
      "\n",
      "Instances in region: us-east-2\n",
      "\n",
      "\n",
      "Instances in region: us-west-1\n",
      "\n",
      "\n",
      "Instances in region: us-west-2\n",
      "\n"
     ]
    }
   ],
   "source": [
    "import boto3\n",
    "from pprint import pprint\n",
    "\n",
    "ec2_cli = boto3.client('ec2')\n",
    "collections_of_regions = []\n",
    "\n",
    "# Get a list of region names\n",
    "for each_region in ec2_cli.describe_regions()['Regions']:\n",
    "    collections_of_regions.append(each_region['RegionName'])\n",
    "\n",
    "# Iterate over each region\n",
    "for region in collections_of_regions:\n",
    "    print(f\"\\nInstances in region: {region}\\n\")\n",
    "    \n",
    "    # Create an EC2 resource object for the current region\n",
    "    ec2_re = boto3.resource('ec2', region)\n",
    "    \n",
    "    cnt = 1\n",
    "    # Iterate over each instance in the current region\n",
    "    for each_ins_in_reg in ec2_re.instances.all():\n",
    "        print(cnt, each_ins_in_reg.instance_id,\n",
    "              each_ins_in_reg.instance_type,\n",
    "              each_ins_in_reg.key_name,\n",
    "              each_ins_in_reg.private_ip_address,\n",
    "              each_ins_in_reg.public_ip_address)\n",
    "        cnt += 1\n"
   ]
  },
  {
   "cell_type": "code",
   "execution_count": null,
   "id": "f1a7b156-44e3-4c63-9ad5-4b0e532ecdbf",
   "metadata": {},
   "outputs": [],
   "source": []
  }
 ],
 "metadata": {
  "kernelspec": {
   "display_name": "Python 3 (ipykernel)",
   "language": "python",
   "name": "python3"
  },
  "language_info": {
   "codemirror_mode": {
    "name": "ipython",
    "version": 3
   },
   "file_extension": ".py",
   "mimetype": "text/x-python",
   "name": "python",
   "nbconvert_exporter": "python",
   "pygments_lexer": "ipython3",
   "version": "3.10.12"
  }
 },
 "nbformat": 4,
 "nbformat_minor": 5
}
