{
 "cells": [
  {
   "cell_type": "code",
   "execution_count": null,
   "id": "a5fc1fb2-d856-4e55-92b1-ad1f78c972e3",
   "metadata": {},
   "outputs": [],
   "source": []
  },
  {
   "cell_type": "code",
   "execution_count": 23,
   "id": "fac509c6-de12-4871-a292-905de05eae9b",
   "metadata": {
    "tags": []
   },
   "outputs": [
    {
     "name": "stdout",
     "output_type": "stream",
     "text": [
      "['__class__', '__delattr__', '__dict__', '__dir__', '__doc__', '__eq__', '__format__', '__ge__', '__getattribute__', '__gt__', '__hash__', '__init__', '__init_subclass__', '__le__', '__lt__', '__module__', '__ne__', '__new__', '__reduce__', '__reduce_ex__', '__repr__', '__setattr__', '__sizeof__', '__str__', '__subclasshook__', '__weakref__', '_id', 'ami_launch_index', 'architecture', 'attach_classic_link_vpc', 'attach_volume', 'block_device_mappings', 'boot_mode', 'capacity_reservation_id', 'capacity_reservation_specification', 'classic_address', 'client_token', 'console_output', 'cpu_options', 'create_image', 'create_tags', 'current_instance_boot_mode', 'delete_tags', 'describe_attribute', 'detach_classic_link_vpc', 'detach_volume', 'ebs_optimized', 'elastic_gpu_associations', 'elastic_inference_accelerator_associations', 'ena_support', 'enclave_options', 'get_available_subresources', 'hibernation_options', 'hypervisor', 'iam_instance_profile', 'id', 'image', 'image_id', 'instance_id', 'instance_lifecycle', 'instance_type', 'ipv6_address', 'kernel_id', 'key_name', 'key_pair', 'launch_time', 'licenses', 'load', 'maintenance_options', 'meta', 'metadata_options', 'modify_attribute', 'monitor', 'monitoring', 'network_interfaces', 'network_interfaces_attribute', 'outpost_arn', 'password_data', 'placement', 'placement_group', 'platform', 'platform_details', 'private_dns_name', 'private_dns_name_options', 'private_ip_address', 'product_codes', 'public_dns_name', 'public_ip_address', 'ramdisk_id', 'reboot', 'reload', 'report_status', 'reset_attribute', 'reset_kernel', 'reset_ramdisk', 'reset_source_dest_check', 'root_device_name', 'root_device_type', 'security_groups', 'source_dest_check', 'spot_instance_request_id', 'sriov_net_support', 'start', 'state', 'state_reason', 'state_transition_reason', 'stop', 'subnet', 'subnet_id', 'tags', 'terminate', 'tpm_support', 'unmonitor', 'usage_operation', 'usage_operation_update_time', 'virtualization_type', 'volumes', 'vpc', 'vpc_addresses', 'vpc_id', 'wait_until_exists', 'wait_until_running', 'wait_until_stopped', 'wait_until_terminated']\n"
     ]
    }
   ],
   "source": [
    "import boto3\n",
    "#ec2_re = boto3.Session(profile_name=\"default\",'ec2')\n",
    "ec2_re = boto3.resource('ec2')\n",
    "for each in ec2_re.instances.all():\n",
    "    print(dir(each))\n",
    "    break"
   ]
  },
  {
   "cell_type": "code",
   "execution_count": null,
   "id": "0c239aef-59a3-42d0-bf4f-bd5e2114e4ee",
   "metadata": {},
   "outputs": [],
   "source": []
  },
  {
   "cell_type": "code",
   "execution_count": 21,
   "id": "6a925fae-92b7-4035-acb7-9badd3120882",
   "metadata": {
    "tags": []
   },
   "outputs": [
    {
     "name": "stdout",
     "output_type": "stream",
     "text": [
      "['ClassicAddress', 'DhcpOptions', 'Image', 'Instance', 'InternetGateway', 'KeyPair', 'NetworkAcl', 'NetworkInterface', 'NetworkInterfaceAssociation', 'PlacementGroup', 'Route', 'RouteTable', 'RouteTableAssociation', 'SecurityGroup', 'Snapshot', 'Subnet', 'Tag', 'Volume', 'Vpc', 'VpcAddress', 'VpcPeeringConnection', '__class__', '__delattr__', '__dict__', '__dir__', '__doc__', '__eq__', '__format__', '__ge__', '__getattribute__', '__gt__', '__hash__', '__init__', '__init_subclass__', '__le__', '__lt__', '__module__', '__ne__', '__new__', '__reduce__', '__reduce_ex__', '__repr__', '__setattr__', '__sizeof__', '__str__', '__subclasshook__', '__weakref__', 'classic_addresses', 'create_dhcp_options', 'create_instances', 'create_internet_gateway', 'create_key_pair', 'create_network_acl', 'create_network_interface', 'create_placement_group', 'create_route_table', 'create_security_group', 'create_snapshot', 'create_subnet', 'create_tags', 'create_volume', 'create_vpc', 'create_vpc_peering_connection', 'dhcp_options_sets', 'disassociate_route_table', 'get_available_subresources', 'images', 'import_key_pair', 'instances', 'internet_gateways', 'key_pairs', 'meta', 'network_acls', 'network_interfaces', 'placement_groups', 'register_image', 'route_tables', 'security_groups', 'snapshots', 'subnets', 'volumes', 'vpc_addresses', 'vpc_peering_connections', 'vpcs']\n"
     ]
    }
   ],
   "source": [
    "import boto3\n",
    "ec2_re = boto3.resource('ec2')\n",
    "print(dir(ec2_re))"
   ]
  },
  {
   "cell_type": "code",
   "execution_count": 27,
   "id": "03c823ad-3071-47e1-b9c9-ab60fc040f61",
   "metadata": {
    "tags": []
   },
   "outputs": [
    {
     "name": "stdout",
     "output_type": "stream",
     "text": [
      "docker\n",
      "jenkins_2048\n",
      "slavea\n",
      "slaveb\n",
      "master\n"
     ]
    }
   ],
   "source": [
    "import boto3\n",
    "#ec2_re = boto3.Session(profile_name=\"default\",'ec2')\n",
    "ec2_re = boto3.resource('ec2')\n",
    "for each in ec2_re.instances.all():\n",
    "    print(each.tags[0]['Value'])\n",
    "    each.start()\n",
    "     \n",
    "     \n",
    "#print(dir(ec2_re.instances))"
   ]
  },
  {
   "cell_type": "code",
   "execution_count": 28,
   "id": "ce3be736-9fd4-4930-85de-fe08c9f9843d",
   "metadata": {
    "tags": []
   },
   "outputs": [
    {
     "name": "stdout",
     "output_type": "stream",
     "text": [
      "docker\n",
      "jenkins_2048\n",
      "slavea\n",
      "slaveb\n",
      "master\n"
     ]
    }
   ],
   "source": [
    "import boto3\n",
    "#ec2_re = boto3.Session(profile_name=\"default\",'ec2')\n",
    "ec2_re = boto3.resource('ec2')\n",
    "for each in ec2_re.instances.all():\n",
    "    print(each.tags[0]['Value'])\n",
    "    each.stop()\n",
    "     \n",
    "     \n",
    "#print(dir(ec2_re.instances))"
   ]
  },
  {
   "cell_type": "code",
   "execution_count": 10,
   "id": "6b43cad0-ce60-4697-890b-b955d9c9803e",
   "metadata": {
    "tags": []
   },
   "outputs": [
    {
     "name": "stdout",
     "output_type": "stream",
     "text": [
      "ec2.instancesCollection(ec2.ServiceResource(), ec2.Instance)\n"
     ]
    }
   ],
   "source": [
    "import boto3\n",
    "ec2_re = boto3.resource('ec2')\n",
    "print(ec2_re.instances.all())"
   ]
  },
  {
   "cell_type": "code",
   "execution_count": null,
   "id": "a057f038-a60a-4684-a30b-d88c4b1d00c5",
   "metadata": {},
   "outputs": [],
   "source": [
    "import boto3\n",
    "ec2_re = boto3.client('ec2')\n"
   ]
  }
 ],
 "metadata": {
  "kernelspec": {
   "display_name": "Python 3 (ipykernel)",
   "language": "python",
   "name": "python3"
  },
  "language_info": {
   "codemirror_mode": {
    "name": "ipython",
    "version": 3
   },
   "file_extension": ".py",
   "mimetype": "text/x-python",
   "name": "python",
   "nbconvert_exporter": "python",
   "pygments_lexer": "ipython3",
   "version": "3.10.12"
  }
 },
 "nbformat": 4,
 "nbformat_minor": 5
}
