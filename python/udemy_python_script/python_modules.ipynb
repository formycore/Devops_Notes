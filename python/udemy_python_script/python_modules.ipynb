{
 "cells": [
  {
   "cell_type": "markdown",
   "id": "70e765d2",
   "metadata": {},
   "source": [
    "# Modules"
   ]
  },
  {
   "cell_type": "code",
   "execution_count": null,
   "id": "c0f8615c",
   "metadata": {},
   "outputs": [],
   "source": [
    "# Modules contains python functions,classes and variables"
   ]
  },
  {
   "cell_type": "markdown",
   "id": "a954df00",
   "metadata": {},
   "source": [
    "# use module\n",
    "## reusability"
   ]
  },
  {
   "cell_type": "code",
   "execution_count": null,
   "id": "d377fbe7",
   "metadata": {},
   "outputs": [],
   "source": [
    "# first create a myvalue.py in the same location, then we need to import that file<myvalue.py> like a module without\n",
    "# the extension, these two scripts should be in the same location"
   ]
  },
  {
   "cell_type": "code",
   "execution_count": 3,
   "id": "01e5ca36",
   "metadata": {},
   "outputs": [
    {
     "name": "stdout",
     "output_type": "stream",
     "text": [
      "123456789\n"
     ]
    }
   ],
   "source": [
    "import myvalue\n",
    "print(myvalue.my_value)"
   ]
  },
  {
   "cell_type": "code",
   "execution_count": 4,
   "id": "27f244ae",
   "metadata": {},
   "outputs": [
    {
     "name": "stdout",
     "output_type": "stream",
     "text": [
      "3.141592653589793\n"
     ]
    }
   ],
   "source": [
    "import math\n",
    "# as math is default module\n",
    "print(math.pi)"
   ]
  },
  {
   "cell_type": "code",
   "execution_count": 7,
   "id": "61e77778",
   "metadata": {},
   "outputs": [
    {
     "name": "stdout",
     "output_type": "stream",
     "text": [
      "\n",
      "Please wait a moment while I gather a list of all available modules...\n",
      "\n",
      "AptUrl              aiofiles            imaplib             pyrfc3339\n",
      "CommandNotFound     aiosqlite           imghdr              pyrsistent\n",
      "DistUpgrade         antigravity         imp                 pythonjsonlogger\n",
      "HweSupportStatus    anyio               importlib           pytz\n",
      "IPython             apport              importlib_metadata  queue\n",
      "LanguageSelector    apport_python_hook  inspect             quopri\n",
      "NvidiaDetector      apt                 io                  random\n",
      "PIL                 apt_inst            ipaddress           re\n",
      "Quirks              apt_pkg             ipykernel           readline\n",
      "UICommon            aptdaemon           ipykernel_launcher  reportlab\n",
      "UbuntuDrivers       aptsources          ipython_genutils    reprlib\n",
      "UpdateManager       argon2              isoduration         requests\n",
      "VBoxAuth            argparse            itertools           requests_oauthlib\n",
      "VBoxAuthSimple      array               itsdangerous        resource\n",
      "VBoxDD              arrow               janitor             rfc3339_validator\n",
      "VBoxDD2             ast                 jedi                rfc3986_validator\n",
      "VBoxDDU             asttokens           jeepney             rlcompleter\n",
      "VBoxDbg             asynchat            jinja2              rsa\n",
      "VBoxDragAndDropSvc  asyncio             jmespath            runpy\n",
      "VBoxGuestControlSvc asyncore            json                s3transfer\n",
      "VBoxGuestPropSvc    atexit              json5               scanext\n",
      "VBoxHeadless        attr                jsonpointer         sched\n",
      "VBoxHostChannel     attrs               jsonschema          secrets\n",
      "VBoxKeyboard        audioop             jupyter             secretstorage\n",
      "VBoxNetDHCP         awscli              jupyter_client      select\n",
      "VBoxNetNAT          babel               jupyter_core        selectors\n",
      "VBoxPython          backcall            jupyter_events      send2trash\n",
      "VBoxPython3_10      base64              jupyter_server      setuptools\n",
      "VBoxRT              bcrypt              jupyter_server_fileid shelve\n",
      "VBoxSDL             bdb                 jupyter_server_terminals shlex\n",
      "VBoxSVGA3D          binascii            jupyter_server_ydoc shutil\n",
      "VBoxSharedClipboard binhex              jupyter_ydoc        signal\n",
      "VBoxSharedFolders   bisect              jupyterlab          site\n",
      "VBoxVMM             bleach              jupyterlab_plotly   sitecustomize\n",
      "VBoxVMMPreload      blinker             jupyterlab_pygments six\n",
      "VBoxXPCOM           boto3               jupyterlab_server   smmap\n",
      "VBoxXPCOMC          botocore            jwt                 smtpd\n",
      "VirtualBoxVM        brlapi              keyring             smtplib\n",
      "__future__          bs4                 keyword             sndhdr\n",
      "_abc                builtins            kubernetes          sniffio\n",
      "_aix_support        bz2                 language_support_pkgs socket\n",
      "_argon2_cffi_bindings cProfile            launchpadlib        socketserver\n",
      "_ast                cachetools          ldb                 softwareproperties\n",
      "_asyncio            cairo               lib2to3             soupsieve\n",
      "_bisect             calendar            libfuturize         speechd\n",
      "_blake2             certifi             libpasteurize       speechd_config\n",
      "_bootsubprocess     cffi                libvboxjxpcom       spwd\n",
      "_bz2                cgi                 linecache           sqlite3\n",
      "_cffi_backend       cgitb               locale              sre_compile\n",
      "_codecs             chardet             lockfile            sre_constants\n",
      "_codecs_cn          charset_normalizer  logging             sre_parse\n",
      "_codecs_hk          chunk               louis               ssh_import_id\n",
      "_codecs_iso2022     click               lsb_release         ssl\n",
      "_codecs_jp          cmath               lzma                stack_data\n",
      "_codecs_kr          cmd                 macaroonbakery      stat\n",
      "_codecs_tw          code                mailbox             statistics\n",
      "_collections        codecs              mailcap             string\n",
      "_collections_abc    codeop              mako                stringprep\n",
      "_compat_pickle      collections         markupsafe          struct\n",
      "_compression        colorama            marshal             subprocess\n",
      "_contextvars        colorsys            math                sunau\n",
      "_crypt              comm                matplotlib_inline   symtable\n",
      "_csv                compileall          mimetypes           sys\n",
      "_ctypes             concurrent          mistune             sysconfig\n",
      "_ctypes_test        configparser        mmap                syslog\n",
      "_curses             contextlib          modulefinder        systemd\n",
      "_curses_panel       contextvars         monotonic           tabnanny\n",
      "_datetime           copy                more_itertools      talloc\n",
      "_dbm                copyreg             multiprocessing     tarfile\n",
      "_dbus_bindings      crypt               myvalue             telnetlib\n",
      "_dbus_glib_bindings cryptography        nacl                tempfile\n",
      "_decimal            csv                 nbclassic           tenacity\n",
      "_distutils_hack     ctypes              nbclient            terminado\n",
      "_distutils_system_mod cups                nbconvert           termios\n",
      "_elementtree        cupsext             nbformat            test\n",
      "_functools          cupshelpers         nest_asyncio        textwrap\n",
      "_gdbm               curses              netifaces           this\n",
      "_hashlib            dataclasses         netrc               threading\n",
      "_heapq              datetime            nis                 time\n",
      "_imp                dateutil            nntplib             timeit\n",
      "_io                 dbm                 notebook            tinycss2\n",
      "_json               dbus                notebook_shim       token\n",
      "_ldb_text           deb822              ntpath              tokenize\n",
      "_locale             debconf             nturl2path          tomli\n",
      "_lsprof             debian              numbers             tornado\n",
      "_lzma               debian_bundle       oauthlib            trace\n",
      "_markupbase         debugpy             olefile             traceback\n",
      "_md5                decimal             opcode              tracemalloc\n",
      "_multibytecodec     decorator           operator            traitlets\n",
      "_multiprocessing    defer               optparse            tty\n",
      "_opcode             defusedxml          orca                turtle\n",
      "_operator           difflib             os                  types\n",
      "_osx_support        dis                 ossaudiodev         typing\n",
      "_pickle             distlib             packaging           uaclient\n",
      "_plotly_future_     distro              pandocfilters       ufw\n",
      "_plotly_utils       distro_info         paramiko            unicodedata\n",
      "_posixshmem         distutils           parso               unittest\n",
      "_posixsubprocess    doctest             past                uri_template\n",
      "_py_abc             docutils            pathlib             urllib\n",
      "_pydecimal          duplicity           pcardext            urllib3\n",
      "_pyio               email               pdb                 usbcreator\n",
      "_pyrsistent_version encodings           pexpect             uu\n",
      "_queue              ensurepip           pickle              uuid\n",
      "_random             enum                pickleshare         uwsgidecorators\n",
      "_sha1               errno               pickletools         vboxapi\n",
      "_sha256             executing           pip                 vboxshell\n",
      "_sha3               fasteners           pipes               venv\n",
      "_sha512             fastjsonschema      pkg_resources       virtualenv\n",
      "_signal             faulthandler        pkgutil             wadllib\n",
      "_sitebuiltins       fcntl               platform            warnings\n",
      "_socket             filecmp             platformdirs        wave\n",
      "_sqlite3            fileinput           plistlib            wcwidth\n",
      "_sre                filelock            plotly              weakref\n",
      "_ssl                flask               plotlywidget        webbrowser\n",
      "_stat               fnmatch             poplib              webcolors\n",
      "_statistics         fqdn                posix               webencodings\n",
      "_string             fractions           posixpath           websocket\n",
      "_strptime           ftplib              pprint              werkzeug\n",
      "_struct             functools           problem_report      wheel\n",
      "_symtable           future              profile             wsgiref\n",
      "_sysconfigdata__linux_x86_64-linux-gnu gc                  prometheus_client   xdg\n",
      "_sysconfigdata__x86_64-linux-gnu genericpath         prompt_toolkit      xdrlib\n",
      "_testbuffer         getopt              pstats              xkit\n",
      "_testcapi           getpass             psutil              xml\n",
      "_testclinic         gettext             pty                 xmlrpc\n",
      "_testimportmultiple gi                  ptyprocess          xxlimited\n",
      "_testinternalcapi   git                 pure_eval           xxlimited_35\n",
      "_testmultiphase     gitdb               pwd                 xxsubtype\n",
      "_thread             glob                py_compile          y_py\n",
      "_threading_local    graphlib            pyasn1              yaml\n",
      "_tracemalloc        grp                 pyasn1_modules      ypy_websocket\n",
      "_uuid               gtweak              pyatspi             zipapp\n",
      "_warnings           gzip                pyclbr              zipfile\n",
      "_weakref            hashlib             pycparser           zipimport\n",
      "_weakrefset         heapq               pydoc               zipp\n",
      "_xxsubinterpreters  hmac                pydoc_data          zlib\n",
      "_xxtestfuzz         hpmudext            pyexpat             zmq\n",
      "_yaml               html                pygments            zoneinfo\n",
      "_zoneinfo           http                pygtkcompat         \n",
      "abc                 httplib2            pymacaroons         \n",
      "aifc                idna                pyparsing           \n",
      "\n",
      "Enter any module name to get more help.  Or, type \"modules spam\" to search\n",
      "for modules whose name or summary contain the string \"spam\".\n",
      "\n"
     ]
    }
   ],
   "source": [
    "help(\"modules\")"
   ]
  },
  {
   "cell_type": "code",
   "execution_count": null,
   "id": "3251b711",
   "metadata": {},
   "outputs": [],
   "source": [
    "# to find the list of operations that are available with the module\n"
   ]
  },
  {
   "cell_type": "code",
   "execution_count": 8,
   "id": "50fadb10",
   "metadata": {},
   "outputs": [
    {
     "data": {
      "text/plain": [
       "['BUFSIZE',\n",
       " 'DEFAULT_IGNORES',\n",
       " 'GenericAlias',\n",
       " '__all__',\n",
       " '__builtins__',\n",
       " '__cached__',\n",
       " '__doc__',\n",
       " '__file__',\n",
       " '__loader__',\n",
       " '__name__',\n",
       " '__package__',\n",
       " '__spec__',\n",
       " '_cache',\n",
       " '_cmp',\n",
       " '_do_cmp',\n",
       " '_filter',\n",
       " '_sig',\n",
       " 'clear_cache',\n",
       " 'cmp',\n",
       " 'cmpfiles',\n",
       " 'demo',\n",
       " 'dircmp',\n",
       " 'filterfalse',\n",
       " 'os',\n",
       " 'stat']"
      ]
     },
     "execution_count": 8,
     "metadata": {},
     "output_type": "execute_result"
    }
   ],
   "source": [
    "import filecmp\n",
    "dir(filecmp)"
   ]
  },
  {
   "cell_type": "code",
   "execution_count": null,
   "id": "91044347",
   "metadata": {},
   "outputs": [],
   "source": [
    "# for time begin dont consider the operations which are there with _ they are for documentation purpose"
   ]
  },
  {
   "cell_type": "code",
   "execution_count": 15,
   "id": "6e714f7b",
   "metadata": {},
   "outputs": [
    {
     "data": {
      "text/plain": [
       "False"
      ]
     },
     "execution_count": 15,
     "metadata": {},
     "output_type": "execute_result"
    }
   ],
   "source": [
    "import filecmp\n",
    "file1=\"./myvalue.py\"\n",
    "file2=\"./test.py\"\n",
    "filecmp.cmp(file1,file2,shallow=True)"
   ]
  },
  {
   "cell_type": "code",
   "execution_count": null,
   "id": "63eb1516",
   "metadata": {},
   "outputs": [],
   "source": []
  },
  {
   "cell_type": "code",
   "execution_count": null,
   "id": "50e13cab",
   "metadata": {},
   "outputs": [],
   "source": []
  },
  {
   "cell_type": "code",
   "execution_count": null,
   "id": "d287bd5d",
   "metadata": {},
   "outputs": [],
   "source": []
  },
  {
   "cell_type": "code",
   "execution_count": null,
   "id": "b6fb93c5",
   "metadata": {},
   "outputs": [],
   "source": []
  },
  {
   "cell_type": "code",
   "execution_count": null,
   "id": "89d1b90a",
   "metadata": {},
   "outputs": [],
   "source": []
  },
  {
   "cell_type": "code",
   "execution_count": null,
   "id": "941e99ba",
   "metadata": {},
   "outputs": [],
   "source": []
  }
 ],
 "metadata": {
  "kernelspec": {
   "display_name": "Python 3 (ipykernel)",
   "language": "python",
   "name": "python3"
  },
  "language_info": {
   "codemirror_mode": {
    "name": "ipython",
    "version": 3
   },
   "file_extension": ".py",
   "mimetype": "text/x-python",
   "name": "python",
   "nbconvert_exporter": "python",
   "pygments_lexer": "ipython3",
   "version": "3.10.12"
  }
 },
 "nbformat": 4,
 "nbformat_minor": 5
}
