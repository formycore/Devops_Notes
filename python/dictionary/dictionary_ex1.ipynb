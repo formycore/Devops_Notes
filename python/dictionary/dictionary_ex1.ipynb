{
 "cells": [
  {
   "cell_type": "code",
   "execution_count": 1,
   "id": "7bd3312b-23ac-4b1a-b1f4-fdaab87c5f7f",
   "metadata": {
    "tags": []
   },
   "outputs": [
    {
     "name": "stdout",
     "output_type": "stream",
     "text": [
      "{'name': 'John', 'age': 25}\n",
      "{'name': 'Alice', 'age': 30}\n",
      "{'name': 'Bob', 'age': 22}\n"
     ]
    }
   ],
   "source": [
    "people_list_1 = [\n",
    "    {\"name\": \"John\", \"age\": 25},\n",
    "    {\"name\": \"Alice\", \"age\": 30},\n",
    "    {\"name\": \"Bob\", \"age\": 22}\n",
    "]\n",
    "\n",
    "for people in people_list_1:\n",
    "    print(people)"
   ]
  },
  {
   "cell_type": "code",
   "execution_count": 5,
   "id": "8c6391f3-7018-4fc5-92ac-7c1973c0e680",
   "metadata": {
    "tags": []
   },
   "outputs": [
    {
     "name": "stdout",
     "output_type": "stream",
     "text": [
      "Name:  John |Age:  25\n",
      "Name:  Alice |Age:  30\n",
      "Name:  Bob |Age:  22\n"
     ]
    }
   ],
   "source": [
    "# now fetch only the name value\n",
    "people_list_1 = [\n",
    "    {\"name\": \"John\", \"age\": 25},\n",
    "    {\"name\": \"Alice\", \"age\": 30},\n",
    "    {\"name\": \"Bob\", \"age\": 22}\n",
    "]\n",
    "\n",
    "for person in people_list_1:\n",
    "    name = person[\"name\"]\n",
    "    age = person[\"age\"]\n",
    "    print(\"Name: \", name, \"|Age: \", age)"
   ]
  },
  {
   "cell_type": "code",
   "execution_count": 6,
   "id": "4aa9f3ac-aa36-4542-b2f6-e82d4d24ffab",
   "metadata": {
    "tags": []
   },
   "outputs": [
    {
     "name": "stdout",
     "output_type": "stream",
     "text": [
      "Name:  Emma | Age 28\n",
      "Name:  Daniel | Age 35\n",
      "Name:  Grace | Age 19\n"
     ]
    }
   ],
   "source": [
    "people_list_2 = [\n",
    "    {\"name\": \"Emma\", \"age\": 28},\n",
    "    {\"name\": \"Daniel\", \"age\": 35},\n",
    "    {\"name\": \"Grace\", \"age\": 19}\n",
    "]\n",
    "\n",
    "for person in people_list_2:\n",
    "    name = person[\"name\"]\n",
    "    age = person[\"age\"]\n",
    "    print(\"Name: \", name, \"| Age\", age)"
   ]
  },
  {
   "cell_type": "code",
   "execution_count": 7,
   "id": "68232b6a-e957-4e0c-a8e4-98758d91c99d",
   "metadata": {
    "tags": []
   },
   "outputs": [
    {
     "name": "stdout",
     "output_type": "stream",
     "text": [
      "Name Olivia | Age 24\n",
      "Name Ethan | Age 29\n",
      "Name Ava | Age 31\n"
     ]
    }
   ],
   "source": [
    "people_list_4 = [\n",
    "    {\"name\": \"Olivia\", \"age\": 24},\n",
    "    {\"name\": \"Ethan\", \"age\": 29},\n",
    "    {\"name\": \"Ava\", \"age\": 31}\n",
    "]\n",
    "for person in people_list_4:\n",
    "    name = person[\"name\"]\n",
    "    age = person[\"age\"]\n",
    "    print(\"Name\", name, \"| Age\", age)"
   ]
  },
  {
   "cell_type": "code",
   "execution_count": 8,
   "id": "fef918a9-5460-44ac-8437-ea47ff8425a6",
   "metadata": {
    "tags": []
   },
   "outputs": [
    {
     "name": "stdout",
     "output_type": "stream",
     "text": [
      "Name:  Liam | Age:  26\n",
      "Name:  Chloe | Age:  32\n",
      "Name:  Mason | Age:  23\n"
     ]
    }
   ],
   "source": [
    "people_list_5 = [\n",
    "    {\"name\": \"Liam\", \"age\": 26},\n",
    "    {\"name\": \"Chloe\", \"age\": 32},\n",
    "    {\"name\": \"Mason\", \"age\": 23}\n",
    "]\n",
    "for person in people_list_5:\n",
    "    name = person [\"name\"]\n",
    "    age = person [\"age\"]\n",
    "    print(\"Name: \", name, \"| Age: \", age)"
   ]
  },
  {
   "cell_type": "code",
   "execution_count": null,
   "id": "cace8f40-ed32-436b-a855-b337ee37e252",
   "metadata": {},
   "outputs": [],
   "source": []
  }
 ],
 "metadata": {
  "kernelspec": {
   "display_name": "Python 3 (ipykernel)",
   "language": "python",
   "name": "python3"
  },
  "language_info": {
   "codemirror_mode": {
    "name": "ipython",
    "version": 3
   },
   "file_extension": ".py",
   "mimetype": "text/x-python",
   "name": "python",
   "nbconvert_exporter": "python",
   "pygments_lexer": "ipython3",
   "version": "3.10.12"
  }
 },
 "nbformat": 4,
 "nbformat_minor": 5
}
