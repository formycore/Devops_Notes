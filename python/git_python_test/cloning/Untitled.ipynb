{
 "cells": [
  {
   "cell_type": "code",
   "execution_count": null,
   "id": "f3b367b8-c428-4d03-9d32-b4e970e10016",
   "metadata": {},
   "outputs": [],
   "source": [
    "# pip install gitpython"
   ]
  },
  {
   "cell_type": "code",
   "execution_count": 4,
   "id": "cd8a7afa-2a8e-4324-a7dd-9e57cbf12a5b",
   "metadata": {
    "tags": []
   },
   "outputs": [
    {
     "name": "stdout",
     "output_type": "stream",
     "text": [
      "Error cloing the repo: Cmd('git') failed due to: exit code(128)\n",
      "  cmdline: git clone -v -- https://github.com/ravdy/DevOps.git /home/maanya/Downloads/Devops_Notes/python/git_python_test/cloning\n",
      "  stderr: 'fatal: destination path '/home/maanya/Downloads/Devops_Notes/python/git_python_test/cloning' already exists and is not an empty directory.\n",
      "'\n"
     ]
    }
   ],
   "source": [
    "import git\n",
    "try:\n",
    "    #repo = git.Repo.clone_from(repo_url,destination)\n",
    "    repo = git.Repo.clone_from('https://github.com/ravdy/DevOps.git', '/home/maanya/Downloads/Devops_Notes/python/git_python_test/cloning')\n",
    "except git.exc.GitCommandError as e:\n",
    "    print(f\"Error cloing the repo: {e}\")\n",
    "    "
   ]
  },
  {
   "cell_type": "code",
   "execution_count": 5,
   "id": "710cf65e-0e37-45fd-8de2-90483e8c4e94",
   "metadata": {
    "tags": []
   },
   "outputs": [],
   "source": [
    "import git\n",
    "try:\n",
    "    #repo = git.Repo.clone_from(repo_url,destination)\n",
    "    repo = git.Repo.clone_from('https://github.com/ravdy/DevOps.git', '/home/maanya/Downloads/Devops_Notes/python/git_python_test/cloning/test1')\n",
    "except git.exc.GitCommandError as e:\n",
    "    print(f\"Error cloing the repo: {e}\")"
   ]
  },
  {
   "cell_type": "code",
   "execution_count": 11,
   "id": "aea013fd-0b6b-46eb-92a7-6cb3a999cb33",
   "metadata": {
    "tags": []
   },
   "outputs": [
    {
     "name": "stdout",
     "output_type": "stream",
     "text": [
      "remove this path: /home/maanya/Downloads/Devops_Notes/python/git_python_test/cloning/test\n"
     ]
    },
    {
     "ename": "OSError",
     "evalue": "[Errno 39] Directory not empty: '/home/maanya/Downloads/Devops_Notes/python/git_python_test/cloning/test'",
     "output_type": "error",
     "traceback": [
      "\u001b[0;31m---------------------------------------------------------------------------\u001b[0m",
      "\u001b[0;31mOSError\u001b[0m                                   Traceback (most recent call last)",
      "Cell \u001b[0;32mIn[11], line 5\u001b[0m\n\u001b[1;32m      3\u001b[0m remove_path \u001b[38;5;241m=\u001b[39m os\u001b[38;5;241m.\u001b[39mpath\u001b[38;5;241m.\u001b[39mjoin(path, \u001b[38;5;124m'\u001b[39m\u001b[38;5;124mtest\u001b[39m\u001b[38;5;124m'\u001b[39m)\n\u001b[1;32m      4\u001b[0m \u001b[38;5;28mprint\u001b[39m(\u001b[38;5;124mf\u001b[39m\u001b[38;5;124m\"\u001b[39m\u001b[38;5;124mremove this path: \u001b[39m\u001b[38;5;132;01m{\u001b[39;00mremove_path\u001b[38;5;132;01m}\u001b[39;00m\u001b[38;5;124m\"\u001b[39m)\n\u001b[0;32m----> 5\u001b[0m \u001b[43mos\u001b[49m\u001b[38;5;241;43m.\u001b[39;49m\u001b[43mrmdir\u001b[49m\u001b[43m(\u001b[49m\u001b[43mremove_path\u001b[49m\u001b[43m)\u001b[49m\n\u001b[1;32m      6\u001b[0m check_the_path \u001b[38;5;241m=\u001b[39m os\u001b[38;5;241m.\u001b[39mpath\u001b[38;5;241m.\u001b[39mexists(remove_path)\n\u001b[1;32m      7\u001b[0m \u001b[38;5;28mprint\u001b[39m(check_the_path)\n",
      "\u001b[0;31mOSError\u001b[0m: [Errno 39] Directory not empty: '/home/maanya/Downloads/Devops_Notes/python/git_python_test/cloning/test'"
     ]
    }
   ],
   "source": [
    "import os\n",
    "path = os.getcwd()\n",
    "remove_path = os.path.join(path, 'test')\n",
    "print(f\"remove this path: {remove_path}\")\n",
    "os.rmdir(remove_path)\n",
    "check_the_path = os.path.exists(remove_path)\n",
    "print(check_the_path)"
   ]
  },
  {
   "cell_type": "code",
   "execution_count": 13,
   "id": "c7b935e0-d29b-4e3b-bfd3-ce5de57d26e5",
   "metadata": {
    "tags": []
   },
   "outputs": [
    {
     "name": "stdout",
     "output_type": "stream",
     "text": [
      "remove this path: /home/maanya/Downloads/Devops_Notes/python/git_python_test/cloning/test\n",
      "False\n"
     ]
    }
   ],
   "source": [
    "import shutil\n",
    "import os\n",
    "path = os.getcwd()\n",
    "remove_path = os.path.join(path, 'test')\n",
    "print(f\"remove this path: {remove_path}\")\n",
    "shutil.rmtree(remove_path)\n",
    "check_the_path = os.path.exists(remove_path)\n",
    "print(check_the_path)"
   ]
  },
  {
   "cell_type": "code",
   "execution_count": null,
   "id": "b430f7d5-9e44-4d67-8511-20167e4a10ea",
   "metadata": {},
   "outputs": [],
   "source": []
  },
  {
   "cell_type": "code",
   "execution_count": null,
   "id": "63e12dd6-ff1d-467f-abc7-8fb95eba9bbb",
   "metadata": {},
   "outputs": [],
   "source": []
  },
  {
   "cell_type": "code",
   "execution_count": null,
   "id": "cfcd7830-a6a6-4882-8eb4-47f32cca532b",
   "metadata": {},
   "outputs": [],
   "source": []
  },
  {
   "cell_type": "code",
   "execution_count": null,
   "id": "7797669d-2aac-42f3-bbaf-8b1d84dd03f6",
   "metadata": {},
   "outputs": [],
   "source": []
  },
  {
   "cell_type": "code",
   "execution_count": null,
   "id": "c9ef5d98-b691-47de-8888-672880080873",
   "metadata": {},
   "outputs": [],
   "source": []
  },
  {
   "cell_type": "code",
   "execution_count": null,
   "id": "a3bbcf2c-59f0-4884-8e05-0863eaabee78",
   "metadata": {},
   "outputs": [],
   "source": []
  },
  {
   "cell_type": "code",
   "execution_count": null,
   "id": "6b8d948a-c0cd-4ff8-ae16-b15e3e3e36c3",
   "metadata": {},
   "outputs": [],
   "source": []
  },
  {
   "cell_type": "code",
   "execution_count": null,
   "id": "c62392db-f9d6-4a2a-b0cb-0a7a87c26c1b",
   "metadata": {},
   "outputs": [],
   "source": []
  }
 ],
 "metadata": {
  "kernelspec": {
   "display_name": "Python 3 (ipykernel)",
   "language": "python",
   "name": "python3"
  },
  "language_info": {
   "codemirror_mode": {
    "name": "ipython",
    "version": 3
   },
   "file_extension": ".py",
   "mimetype": "text/x-python",
   "name": "python",
   "nbconvert_exporter": "python",
   "pygments_lexer": "ipython3",
   "version": "3.10.12"
  }
 },
 "nbformat": 4,
 "nbformat_minor": 5
}
