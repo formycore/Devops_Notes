{
 "cells": [
  {
   "cell_type": "code",
   "execution_count": null,
   "id": "369d8e39-cdc6-4cd1-a803-8116e295d806",
   "metadata": {
    "tags": []
   },
   "outputs": [],
   "source": [
    "\"\"\"\n",
    "First create a personal access token\n",
    "settings/devloper settings/personal access token/generate new \n",
    "select admin as of now\n",
    "variblaize it \n",
    "export pat = \"<personal access token>\"\n",
    "\n",
    "endpoint is \"https://api.github.com/user/repos\"\n",
    "\n",
    "curl example\n",
    "\n",
    "curl -L \\\n",
    "  -X POST \\\n",
    "  -H \"Accept: application/vnd.github+json\" \\\n",
    "  -H \"Authorization: Bearer <YOUR-TOKEN>\" \\\n",
    "  -H \"X-GitHub-Api-Version: 2022-11-28\" \\\n",
    "  https://api.github.com/user/repos \\\n",
    "  -d '{\"name\":\"Hello-World\",\"description\":\"This is your first repo!\",\"homepage\":\"https://github.com\",\"private\":false,\"is_template\":true}'\n",
    "\"\"\""
   ]
  },
  {
   "cell_type": "code",
   "execution_count": 8,
   "id": "44ce2ef6-7140-4cdd-bcd1-d6ef7c029878",
   "metadata": {
    "tags": []
   },
   "outputs": [
    {
     "name": "stdout",
     "output_type": "stream",
     "text": [
      "None\n"
     ]
    }
   ],
   "source": [
    "import requests\n",
    "import os # to access the pat\n",
    "import json # provide data to api in json format\n",
    "token = os.environ.get(\"PAT\")\n",
    "print(token)"
   ]
  },
  {
   "cell_type": "code",
   "execution_count": 12,
   "id": "bec3b4d0-91ad-49d2-ab8f-4c58430393e7",
   "metadata": {
    "tags": []
   },
   "outputs": [
    {
     "name": "stdout",
     "output_type": "stream",
     "text": [
      "PAT environment variable is not set.\n"
     ]
    }
   ],
   "source": [
    "import requests\n",
    "import os  # to access the pat\n",
    "import json  # provide data to the API in json format\n",
    "\n",
    "# Get the token from the environment variable\n",
    "token = os.environ.get(\"PAT\")\n",
    "\n",
    "# Check if the token is None or not\n",
    "if token is not None:\n",
    "    print(\"Token:\", token)\n",
    "else:\n",
    "    print(\"PAT environment variable is not set.\")\n"
   ]
  },
  {
   "cell_type": "code",
   "execution_count": null,
   "id": "63fc5caa-01e2-4de7-b835-e3f228233269",
   "metadata": {},
   "outputs": [],
   "source": []
  },
  {
   "cell_type": "code",
   "execution_count": null,
   "id": "5f727171-8f00-4ed6-b40e-387ef1afb189",
   "metadata": {},
   "outputs": [],
   "source": []
  },
  {
   "cell_type": "code",
   "execution_count": null,
   "id": "7c87bbff-3b23-4408-b91e-4b28bce07990",
   "metadata": {},
   "outputs": [],
   "source": []
  },
  {
   "cell_type": "code",
   "execution_count": null,
   "id": "84dcbbde-775f-4fb1-8014-a1ed77c7439c",
   "metadata": {},
   "outputs": [],
   "source": []
  }
 ],
 "metadata": {
  "kernelspec": {
   "display_name": "Python 3 (ipykernel)",
   "language": "python",
   "name": "python3"
  },
  "language_info": {
   "codemirror_mode": {
    "name": "ipython",
    "version": 3
   },
   "file_extension": ".py",
   "mimetype": "text/x-python",
   "name": "python",
   "nbconvert_exporter": "python",
   "pygments_lexer": "ipython3",
   "version": "3.10.12"
  }
 },
 "nbformat": 4,
 "nbformat_minor": 5
}
