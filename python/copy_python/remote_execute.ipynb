{
 "cells": [
  {
   "cell_type": "code",
   "execution_count": 2,
   "id": "cbed2ab3-5be2-48d6-baf1-03a7b01d1810",
   "metadata": {
    "tags": []
   },
   "outputs": [
    {
     "name": "stdout",
     "output_type": "stream",
     "text": [
      "AUTH_FAILED\n",
      "AUTH_PARTIALLY_SUCCESSFUL\n",
      "AUTH_SUCCESSFUL\n",
      "Agent\n",
      "AgentKey\n",
      "AuthHandler\n",
      "AuthenticationException\n",
      "AutoAddPolicy\n",
      "BadAuthenticationType\n",
      "BadHostKeyException\n",
      "BaseSFTP\n",
      "BufferedFile\n",
      "Channel\n",
      "ChannelException\n",
      "ChannelFile\n",
      "ChannelStderrFile\n",
      "ChannelStdinFile\n",
      "ConfigParseError\n",
      "CouldNotCanonicalize\n",
      "DSSKey\n",
      "ECDSAKey\n",
      "Ed25519Key\n",
      "GSSAuth\n",
      "GSS_AUTH_AVAILABLE\n",
      "GSS_EXCEPTIONS\n",
      "HostKeys\n",
      "IncompatiblePeer\n",
      "InteractiveQuery\n",
      "Message\n",
      "MissingHostKeyPolicy\n",
      "OPEN_FAILED_ADMINISTRATIVELY_PROHIBITED\n",
      "OPEN_FAILED_CONNECT_FAILED\n",
      "OPEN_FAILED_RESOURCE_SHORTAGE\n",
      "OPEN_FAILED_UNKNOWN_CHANNEL_TYPE\n",
      "OPEN_SUCCEEDED\n",
      "PKey\n",
      "Packetizer\n",
      "PasswordRequiredException\n",
      "ProxyCommand\n",
      "ProxyCommandFailure\n",
      "PublicBlob\n",
      "RSAKey\n",
      "RejectPolicy\n",
      "SFTP\n",
      "SFTPAttributes\n",
      "SFTPClient\n",
      "SFTPError\n",
      "SFTPFile\n",
      "SFTPHandle\n",
      "SFTPServer\n",
      "SFTPServerInterface\n",
      "SFTP_BAD_MESSAGE\n",
      "SFTP_CONNECTION_LOST\n",
      "SFTP_EOF\n",
      "SFTP_FAILURE\n",
      "SFTP_NO_CONNECTION\n",
      "SFTP_NO_SUCH_FILE\n",
      "SFTP_OK\n",
      "SFTP_OP_UNSUPPORTED\n",
      "SFTP_PERMISSION_DENIED\n",
      "SSHClient\n",
      "SSHConfig\n",
      "SSHConfigDict\n",
      "SSHException\n",
      "SecurityOptions\n",
      "ServerInterface\n",
      "SubsystemHandler\n",
      "Transport\n",
      "WarningPolicy\n",
      "__all__\n",
      "__author__\n",
      "__builtins__\n",
      "__cached__\n",
      "__doc__\n",
      "__file__\n",
      "__license__\n",
      "__loader__\n",
      "__name__\n",
      "__package__\n",
      "__path__\n",
      "__spec__\n",
      "__version__\n",
      "__version_info__\n",
      "_version\n",
      "agent\n",
      "auth_handler\n",
      "ber\n",
      "buffered_pipe\n",
      "channel\n",
      "client\n",
      "common\n",
      "compress\n",
      "config\n",
      "dsskey\n",
      "ecdsakey\n",
      "ed25519key\n",
      "file\n",
      "hostkeys\n",
      "io_sleep\n",
      "kex_curve25519\n",
      "kex_ecdh_nist\n",
      "kex_gex\n",
      "kex_group1\n",
      "kex_group14\n",
      "kex_group16\n",
      "kex_gss\n",
      "message\n",
      "packet\n",
      "pipe\n",
      "pkey\n",
      "primes\n",
      "proxy\n",
      "py3compat\n",
      "rsakey\n",
      "server\n",
      "sftp\n",
      "sftp_attr\n",
      "sftp_client\n",
      "sftp_file\n",
      "sftp_handle\n",
      "sftp_server\n",
      "sftp_si\n",
      "ssh_exception\n",
      "ssh_gss\n",
      "sys\n",
      "transport\n",
      "util\n"
     ]
    }
   ],
   "source": [
    "import paramiko\n",
    "import os\n",
    "for i in dir(paramiko):\n",
    "    print(i)"
   ]
  },
  {
   "cell_type": "code",
   "execution_count": 3,
   "id": "b6e0b615-f237-489a-a326-e603d8a05eec",
   "metadata": {
    "tags": []
   },
   "outputs": [
    {
     "name": "stdout",
     "output_type": "stream",
     "text": [
      "['__class__', '__delattr__', '__dict__', '__dir__', '__doc__', '__enter__', '__eq__', '__exit__', '__format__', '__ge__', '__getattribute__', '__gt__', '__hash__', '__init__', '__init_subclass__', '__le__', '__lt__', '__module__', '__ne__', '__new__', '__reduce__', '__reduce_ex__', '__repr__', '__setattr__', '__sizeof__', '__str__', '__subclasshook__', '__weakref__', '_agent', '_auth', '_families_and_addresses', '_host_keys', '_host_keys_filename', '_key_from_filepath', '_log', '_log_channel', '_policy', '_system_host_keys', '_transport', 'close', 'connect', 'exec_command', 'get_host_keys', 'get_transport', 'invoke_shell', 'load_host_keys', 'load_system_host_keys', 'open_sftp', 'save_host_keys', 'set_log_channel', 'set_missing_host_key_policy']\n"
     ]
    }
   ],
   "source": [
    "import paramiko\n",
    "import os\n",
    "ssh = paramiko.SSHClient()\n",
    "print(dir(ssh))"
   ]
  },
  {
   "cell_type": "code",
   "execution_count": 9,
   "id": "a66b62f1-a7a4-4b12-aacb-4bccd4d7ace7",
   "metadata": {
    "tags": []
   },
   "outputs": [],
   "source": [
    "# while connecting to a new server it will confirm to login or not \n",
    "# just like stricthostverificationkey = false in linux for python we need \n",
    "# set_missing_host_key_policy"
   ]
  },
  {
   "cell_type": "code",
   "execution_count": 15,
   "id": "e1014f3e-2fed-4ccc-b23b-3b9290db4ca9",
   "metadata": {
    "tags": []
   },
   "outputs": [
    {
     "name": "stdout",
     "output_type": "stream",
     "text": [
      "The output is :\n",
      "b''\n",
      "[]\n",
      "The error is :\n",
      "b'bash: line 1: whomai: command not found\\n'\n",
      "[]\n"
     ]
    }
   ],
   "source": [
    "import paramiko\n",
    "ssh = paramiko.SSHClient() #for sshclient check the above(first) outputs\n",
    "ssh.set_missing_host_key_policy(paramiko.AutoAddPolicy())\n",
    "ssh.connect(hostname='x.x.x.x',username='ubuntu',key_filename='/home/test/Downloads/ubuntu_ssh/august.pem')\n",
    "stdin, stdout, stderr = ssh.exec_command('whomai')\n",
    "# if we get the correct output \n",
    "print(\"The output is :\")\n",
    "print(stdout.read())\n",
    "print(stdout.readlines())\n",
    "\n",
    "# if we get error output\n",
    "print(\"The error is :\")\n",
    "print(stderr.read())\n",
    "print(stderr.readlines())"
   ]
  },
  {
   "cell_type": "code",
   "execution_count": 20,
   "id": "7651466a-5e9e-4117-aaa7-e0aebc8c2b9c",
   "metadata": {
    "tags": []
   },
   "outputs": [
    {
     "name": "stdin",
     "output_type": "stream",
     "text": [
      "enter the command free -m\n"
     ]
    },
    {
     "name": "stdout",
     "output_type": "stream",
     "text": [
      "The output is :\n",
      "['               total        used        free      shared  buff/cache   available\\n', 'Mem:             949         248         175           0         525         517\\n', 'Swap:              0           0           0\\n']\n",
      "The error is :\n",
      "[]\n"
     ]
    }
   ],
   "source": [
    "import paramiko\n",
    "command = input(\"enter the command\")\n",
    "ssh = paramiko.SSHClient() #for sshclient check the above(first) outputs\n",
    "ssh.set_missing_host_key_policy(paramiko.AutoAddPolicy())\n",
    "ssh.connect(hostname='x.x.x.x',username='ubuntu',key_filename='/home/test/Downloads/ubuntu_ssh/august.pem')\n",
    "stdin, stdout, stderr = ssh.exec_command(command)\n",
    "# if we get the correct output \n",
    "print(\"The output is :\")\n",
    "#print(stdout.read()) # as read lines gives \\n at the end,which gives new line at the end of the line\n",
    "print(stdout.readlines())\n",
    "\n",
    "# if we get error output\n",
    "print(\"The error is :\")\n",
    "#print(stdout.read()) # as read lines gives \\n at the end,which gives new line at the end of the line\n",
    "print(stderr.readlines())"
   ]
  },
  {
   "cell_type": "code",
   "execution_count": 21,
   "id": "0cb159d8-8b60-4203-8e72-2c6b7dbb8e8c",
   "metadata": {
    "tags": []
   },
   "outputs": [
    {
     "name": "stdin",
     "output_type": "stream",
     "text": [
      "enter the command sudo poweroff\n"
     ]
    }
   ],
   "source": [
    "import paramiko\n",
    "command = input(\"enter the command\")\n",
    "ssh = paramiko.SSHClient() #for sshclient check the above(first) outputs\n",
    "ssh.set_missing_host_key_policy(paramiko.AutoAddPolicy())\n",
    "ssh.connect(hostname='x.x.x.x',username='ubuntu',key_filename='/home/test/Downloads/ubuntu_ssh/august.pem')\n",
    "stdin, stdout, stderr = ssh.exec_command(command)"
   ]
  },
  {
   "cell_type": "code",
   "execution_count": null,
   "id": "45ec3bc7-f1b7-44e2-a087-baa39dc2affa",
   "metadata": {},
   "outputs": [],
   "source": []
  }
 ],
 "metadata": {
  "kernelspec": {
   "display_name": "Python 3 (ipykernel)",
   "language": "python",
   "name": "python3"
  },
  "language_info": {
   "codemirror_mode": {
    "name": "ipython",
    "version": 3
   },
   "file_extension": ".py",
   "mimetype": "text/x-python",
   "name": "python",
   "nbconvert_exporter": "python",
   "pygments_lexer": "ipython3",
   "version": "3.10.12"
  }
 },
 "nbformat": 4,
 "nbformat_minor": 5
}
