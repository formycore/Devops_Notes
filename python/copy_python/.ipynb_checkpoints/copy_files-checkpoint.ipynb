{
 "cells": [
  {
   "cell_type": "code",
   "execution_count": 6,
   "id": "2b2c4089-37ad-4f79-b1a4-28d13f6ca115",
   "metadata": {
    "tags": []
   },
   "outputs": [
    {
     "name": "stdout",
     "output_type": "stream",
     "text": [
      "(<paramiko.ChannelFile from <paramiko.Channel 0 (open) window=2097152 -> <paramiko.Transport at 0xc6a2a650 (cipher aes128-ctr, 128 bits) (active; 1 open channel(s))>>>, <paramiko.ChannelFile from <paramiko.Channel 0 (open) window=2097152 -> <paramiko.Transport at 0xc6a2a650 (cipher aes128-ctr, 128 bits) (active; 1 open channel(s))>>>, <paramiko.ChannelFile from <paramiko.Channel 0 (open) window=2097152 -> <paramiko.Transport at 0xc6a2a650 (cipher aes128-ctr, 128 bits) (active; 1 open channel(s))>>>)\n"
     ]
    }
   ],
   "source": [
    "import paramiko\n",
    "ssh = paramiko.SSHClient()\n",
    "ssh.set_missing_host_key_policy(paramiko.AutoAddPolicy())\n",
    "ssh.connect(hostname='x.x.x.x',username='ubuntu',key_filename='/home/maanya/Downloads/ubuntu_ssh/august.pem')\n"
   ]
  },
  {
   "cell_type": "code",
   "execution_count": 12,
   "id": "d41add34-75ef-4761-a2f6-c32e41580207",
   "metadata": {
    "tags": []
   },
   "outputs": [
    {
     "name": "stdout",
     "output_type": "stream",
     "text": [
      "file1\n",
      "file5\n",
      "file3\n",
      "file4\n",
      "file2\n"
     ]
    }
   ],
   "source": [
    "import paramiko\n",
    "ssh = paramiko.SSHClient()\n",
    "local_dir = '/home/maanya/testa'\n",
    "remote_dir = '/home/ubuntu/remote_test'\n",
    "ssh.set_missing_host_key_policy(paramiko.AutoAddPolicy())\n",
    "ssh.connect(hostname='x.x.x.x',username='ubuntu',key_filename='/home/maanya/Downloads/ubuntu_ssh/august.pem')\n",
    "sftp = ssh.open_sftp()\n",
    "for item in sftp.listdir(remote_dir):\n",
    "    print(item)\n"
   ]
  },
  {
   "cell_type": "code",
   "execution_count": 13,
   "id": "48a99f18-2a12-43aa-898d-6637be1ca97c",
   "metadata": {
    "tags": []
   },
   "outputs": [
    {
     "name": "stdout",
     "output_type": "stream",
     "text": [
      "/home/ubuntu/remote_test/file1\n",
      "/home/ubuntu/remote_test/file5\n",
      "/home/ubuntu/remote_test/file3\n",
      "/home/ubuntu/remote_test/file4\n",
      "/home/ubuntu/remote_test/file2\n"
     ]
    }
   ],
   "source": [
    "import paramiko\n",
    "import os\n",
    "ssh = paramiko.SSHClient()\n",
    "local_dir = '/home/maanya/testa'\n",
    "remote_dir = '/home/ubuntu/remote_test'\n",
    "ssh.set_missing_host_key_policy(paramiko.AutoAddPolicy())\n",
    "ssh.connect(hostname='13.127.182.225',username='ubuntu',key_filename='/home/maanya/Downloads/ubuntu_ssh/august.pem')\n",
    "sftp = ssh.open_sftp()\n",
    "for item in sftp.listdir(remote_dir):\n",
    "    #print(item)\n",
    "    remote_path = remote_dir + '/' + item\n",
    "    print(remote_path)\n",
    "    "
   ]
  },
  {
   "cell_type": "code",
   "execution_count": 16,
   "id": "d1123705-0ebf-4ea3-9487-3d5c6f9b12f7",
   "metadata": {
    "tags": []
   },
   "outputs": [
    {
     "name": "stdout",
     "output_type": "stream",
     "text": [
      "/home/maanya/testa/file1\n",
      "/home/maanya/testa/file5\n",
      "/home/maanya/testa/file3\n",
      "/home/maanya/testa/file4\n",
      "/home/maanya/testa/file2\n"
     ]
    }
   ],
   "source": [
    "import paramiko\n",
    "import os\n",
    "ssh = paramiko.SSHClient()\n",
    "local_dir = '/home/maanya/testa'\n",
    "remote_dir = '/home/ubuntu/remote_test'\n",
    "ssh.set_missing_host_key_policy(paramiko.AutoAddPolicy())\n",
    "ssh.connect(hostname='',username='ubuntu',key_filename='/home/maanya/Downloads/ubuntu_ssh/august.pem')\n",
    "sftp = ssh.open_sftp()\n",
    "for item in sftp.listdir(remote_dir):\n",
    "    #print(item)\n",
    "    remote_path = remote_dir + '/' + item\n",
    "    #print(remote_path)\n",
    "    local_path = os.path.join(local_dir, item)\n",
    "    print(local_path)\n",
    "    \n",
    "    \n",
    "# waste option"
   ]
  },
  {
   "cell_type": "code",
   "execution_count": 33,
   "id": "6b8f1368-9914-46c2-88ea-a32728cdbeb5",
   "metadata": {
    "tags": []
   },
   "outputs": [],
   "source": [
    "import paramiko\n",
    "import os\n",
    "import shutil\n",
    "ssh = paramiko.SSHClient()\n",
    "local_dir = '/home/maanya/testa'\n",
    "remote_dir = '/home/ubuntu/remote_test'\n",
    "ssh.set_missing_host_key_policy(paramiko.AutoAddPolicy())\n",
    "ssh.connect(hostname='13.127.182.xxx',username='ubuntu',key_filename='/home/maanya/Downloads/ubuntu_ssh/august.pem')\n",
    "stdin , stdout, stderr = ssh.exec_command(f\"shutil.copy('{remote_dir}', '{local_dir}')\")"
   ]
  },
  {
   "cell_type": "code",
   "execution_count": 20,
   "id": "69b2dac1-497a-4dd3-9db7-be4267f614cb",
   "metadata": {
    "tags": []
   },
   "outputs": [
    {
     "name": "stdout",
     "output_type": "stream",
     "text": [
      "['__class__', '__delattr__', '__dict__', '__dir__', '__doc__', '__enter__', '__eq__', '__exit__', '__format__', '__ge__', '__getattribute__', '__gt__', '__hash__', '__init__', '__init_subclass__', '__le__', '__lt__', '__module__', '__ne__', '__new__', '__reduce__', '__reduce_ex__', '__repr__', '__setattr__', '__sizeof__', '__str__', '__subclasshook__', '__weakref__', '_agent', '_auth', '_families_and_addresses', '_host_keys', '_host_keys_filename', '_key_from_filepath', '_log', '_log_channel', '_policy', '_system_host_keys', '_transport', 'close', 'connect', 'exec_command', 'get_host_keys', 'get_transport', 'invoke_shell', 'load_host_keys', 'load_system_host_keys', 'open_sftp', 'save_host_keys', 'set_log_channel', 'set_missing_host_key_policy']\n"
     ]
    }
   ],
   "source": [
    "print(dir(ssh))"
   ]
  },
  {
   "cell_type": "code",
   "execution_count": 25,
   "id": "4aa2efaa-a26d-4a7a-9043-e2cbb9afc174",
   "metadata": {
    "tags": []
   },
   "outputs": [
    {
     "name": "stdout",
     "output_type": "stream",
     "text": [
      "AUTH_FAILED\n",
      "AUTH_PARTIALLY_SUCCESSFUL\n",
      "AUTH_SUCCESSFUL\n",
      "Agent\n",
      "AgentKey\n",
      "AuthHandler\n",
      "AuthenticationException\n",
      "AutoAddPolicy\n",
      "BadAuthenticationType\n",
      "BadHostKeyException\n",
      "BaseSFTP\n",
      "BufferedFile\n",
      "Channel\n",
      "ChannelException\n",
      "ChannelFile\n",
      "ChannelStderrFile\n",
      "ChannelStdinFile\n",
      "ConfigParseError\n",
      "CouldNotCanonicalize\n",
      "DSSKey\n",
      "ECDSAKey\n",
      "Ed25519Key\n",
      "GSSAuth\n",
      "GSS_AUTH_AVAILABLE\n",
      "GSS_EXCEPTIONS\n",
      "HostKeys\n",
      "IncompatiblePeer\n",
      "InteractiveQuery\n",
      "Message\n",
      "MissingHostKeyPolicy\n",
      "OPEN_FAILED_ADMINISTRATIVELY_PROHIBITED\n",
      "OPEN_FAILED_CONNECT_FAILED\n",
      "OPEN_FAILED_RESOURCE_SHORTAGE\n",
      "OPEN_FAILED_UNKNOWN_CHANNEL_TYPE\n",
      "OPEN_SUCCEEDED\n",
      "PKey\n",
      "Packetizer\n",
      "PasswordRequiredException\n",
      "ProxyCommand\n",
      "ProxyCommandFailure\n",
      "PublicBlob\n",
      "RSAKey\n",
      "RejectPolicy\n",
      "SFTP\n",
      "SFTPAttributes\n",
      "SFTPClient\n",
      "SFTPError\n",
      "SFTPFile\n",
      "SFTPHandle\n",
      "SFTPServer\n",
      "SFTPServerInterface\n",
      "SFTP_BAD_MESSAGE\n",
      "SFTP_CONNECTION_LOST\n",
      "SFTP_EOF\n",
      "SFTP_FAILURE\n",
      "SFTP_NO_CONNECTION\n",
      "SFTP_NO_SUCH_FILE\n",
      "SFTP_OK\n",
      "SFTP_OP_UNSUPPORTED\n",
      "SFTP_PERMISSION_DENIED\n",
      "SSHClient\n",
      "SSHConfig\n",
      "SSHConfigDict\n",
      "SSHException\n",
      "SecurityOptions\n",
      "ServerInterface\n",
      "SubsystemHandler\n",
      "Transport\n",
      "WarningPolicy\n",
      "__all__\n",
      "__author__\n",
      "__builtins__\n",
      "__cached__\n",
      "__doc__\n",
      "__file__\n",
      "__license__\n",
      "__loader__\n",
      "__name__\n",
      "__package__\n",
      "__path__\n",
      "__spec__\n",
      "__version__\n",
      "__version_info__\n",
      "_version\n",
      "agent\n",
      "auth_handler\n",
      "ber\n",
      "buffered_pipe\n",
      "channel\n",
      "client\n",
      "common\n",
      "compress\n",
      "config\n",
      "dsskey\n",
      "ecdsakey\n",
      "ed25519key\n",
      "file\n",
      "hostkeys\n",
      "io_sleep\n",
      "kex_curve25519\n",
      "kex_ecdh_nist\n",
      "kex_gex\n",
      "kex_group1\n",
      "kex_group14\n",
      "kex_group16\n",
      "kex_gss\n",
      "message\n",
      "packet\n",
      "pipe\n",
      "pkey\n",
      "primes\n",
      "proxy\n",
      "py3compat\n",
      "rsakey\n",
      "server\n",
      "sftp\n",
      "sftp_attr\n",
      "sftp_client\n",
      "sftp_file\n",
      "sftp_handle\n",
      "sftp_server\n",
      "sftp_si\n",
      "ssh_exception\n",
      "ssh_gss\n",
      "sys\n",
      "transport\n",
      "util\n"
     ]
    }
   ],
   "source": [
    "for i in dir(paramiko):\n",
    "    print(i)"
   ]
  },
  {
   "cell_type": "code",
   "execution_count": 28,
   "id": "7166e2c0-188b-4c8a-9c2c-83d341720d6b",
   "metadata": {
    "tags": []
   },
   "outputs": [],
   "source": [
    "for i in dir(paramiko):\n",
    "    if i == 'util':\n",
    "        print(\"found\")"
   ]
  },
  {
   "cell_type": "code",
   "execution_count": 29,
   "id": "b97e5ad3-8a31-411e-b4b6-83bd8656388d",
   "metadata": {
    "tags": []
   },
   "outputs": [
    {
     "name": "stdout",
     "output_type": "stream",
     "text": [
      "['_CLIENT_ID', '_DECRYPT', '_ENCRYPT', '_PROTO_ID', '__class__', '__delattr__', '__dict__', '__dir__', '__doc__', '__enter__', '__eq__', '__exit__', '__format__', '__ge__', '__getattribute__', '__gt__', '__hash__', '__init__', '__init_subclass__', '__le__', '__lt__', '__module__', '__ne__', '__new__', '__reduce__', '__reduce_ex__', '__repr__', '__setattr__', '__sizeof__', '__str__', '__subclasshook__', '__weakref__', '_activate_inbound', '_activate_outbound', '_active_check_timeout', '_auth_trigger', '_bootstrap', '_bootstrap_inner', '_channel_handler_table', '_check_banner', '_cipher_info', '_compression_info', '_compute_key', '_delete', '_ensure_authed', '_expect_packet', '_filter_algorithm', '_get_cipher', '_get_latest_kex_init', '_get_modulus_pack', '_get_subsystem_handler', '_handler_table', '_initialized', '_kex_info', '_key_info', '_log', '_log_agreement', '_mac_info', '_modulus_pack', '_negotiate_keys', '_next_channel', '_parse_channel_open', '_parse_channel_open_failure', '_parse_channel_open_success', '_parse_debug', '_parse_disconnect', '_parse_ext_info', '_parse_global_request', '_parse_kex_init', '_parse_newkeys', '_parse_request_failure', '_parse_request_success', '_preferred_ciphers', '_preferred_compression', '_preferred_gsskex', '_preferred_kex', '_preferred_keys', '_preferred_macs', '_preferred_pubkeys', '_queue_incoming_channel', '_really_parse_kex_init', '_reset_internal_locks', '_sanitize_packet_size', '_sanitize_window_size', '_send_kex_init', '_send_message', '_send_user_message', '_set_K_H', '_set_forward_agent_handler', '_set_ident', '_set_native_id', '_set_tstate_lock', '_set_x11_handler', '_stop', '_unlink_channel', '_verify_key', '_wait_for_tstate_lock', 'accept', 'add_server_key', 'atfork', 'auth_gssapi_keyex', 'auth_gssapi_with_mic', 'auth_interactive', 'auth_interactive_dumb', 'auth_none', 'auth_password', 'auth_publickey', 'cancel_port_forward', 'close', 'connect', 'daemon', 'getName', 'get_banner', 'get_exception', 'get_hexdump', 'get_log_channel', 'get_remote_server_key', 'get_security_options', 'get_server_key', 'get_username', 'getpeername', 'global_request', 'ident', 'isDaemon', 'is_active', 'is_alive', 'is_authenticated', 'join', 'load_server_moduli', 'name', 'native_id', 'open_channel', 'open_forward_agent_channel', 'open_forwarded_tcpip_channel', 'open_session', 'open_sftp_client', 'open_x11_channel', 'preferred_ciphers', 'preferred_compression', 'preferred_kex', 'preferred_keys', 'preferred_macs', 'preferred_pubkeys', 'renegotiate_keys', 'request_port_forward', 'run', 'send_ignore', 'setDaemon', 'setName', 'set_gss_host', 'set_hexdump', 'set_keepalive', 'set_log_channel', 'set_subsystem_handler', 'start', 'start_client', 'start_server', 'stop_thread', 'use_compression']\n"
     ]
    }
   ],
   "source": [
    "print(dir(paramiko.Transport))"
   ]
  },
  {
   "cell_type": "code",
   "execution_count": null,
   "id": "890c6904-e905-46c3-8e3a-916b3f266996",
   "metadata": {},
   "outputs": [],
   "source": []
  }
 ],
 "metadata": {
  "kernelspec": {
   "display_name": "Python 3 (ipykernel)",
   "language": "python",
   "name": "python3"
  },
  "language_info": {
   "codemirror_mode": {
    "name": "ipython",
    "version": 3
   },
   "file_extension": ".py",
   "mimetype": "text/x-python",
   "name": "python",
   "nbconvert_exporter": "python",
   "pygments_lexer": "ipython3",
   "version": "3.10.12"
  }
 },
 "nbformat": 4,
 "nbformat_minor": 5
}
