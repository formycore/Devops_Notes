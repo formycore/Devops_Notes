{
 "cells": [
  {
   "cell_type": "code",
   "execution_count": 1,
   "id": "f889b5cc-c022-4666-80b8-4d48a081bd00",
   "metadata": {},
   "outputs": [
    {
     "name": "stdin",
     "output_type": "stream",
     "text": [
      "Enter the name:  san\n",
      "Enter the email:  san@example.com\n",
      "Enter the status:  active\n",
      "Enter the gender:  male\n"
     ]
    },
    {
     "name": "stdout",
     "output_type": "stream",
     "text": [
      "{'name': 'san', 'email': 'san@example.com', 'status': 'active', 'gender': 'male'}\n",
      "<Response [422]>\n"
     ]
    }
   ],
   "source": [
    "# create a resource \n",
    "\n",
    "import requests\n",
    "import config\n",
    "\n",
    "import os\n",
    "\n",
    "BASE_URL = 'https://gorest.co.in/'\n",
    "BASE_PATH = 'public/' # / is must\n",
    "VERSION = 'v2/'\n",
    "\n",
    "USERS = 'users/'\n",
    "POSTS = 'posts/'\n",
    "\n",
    "def get_users():\n",
    "\treturn BASE_URL + BASE_PATH + VERSION + USERS\n",
    "\n",
    "\n",
    "def access_token():\n",
    "\treturn os.environ.get('TOKEN')\n",
    "\t \n",
    "\n",
    "url = config.get_users()\n",
    "# it takes only name email status gender\n",
    "name = input (\"Enter the name: \")\n",
    "email = input (\"Enter the email: \")\n",
    "status = input (\"Enter the status: \")\n",
    "gender = input (\"Enter the gender: \")\n",
    "\n",
    "# using dictionary we can post this\n",
    "data = dict()\n",
    "headers = dict()\n",
    "# below line is key value pair\n",
    "# {\n",
    "# 'key': 'Authorization',\n",
    "# 'value': 'Bearer <api_key>' # bearer space api_key\n",
    "#}\n",
    "headers['Authorization'] = 'Bearer ' + config.access_token() \n",
    "data['name'] = name\n",
    "data['email'] = email\n",
    "data['status'] = status\n",
    "data['gender'] = gender \n",
    "\n",
    "print (data)\n",
    "# make a post call \n",
    "#res = requests.post(url, data, headers) this is for post a request \n",
    "res = requests.post(url, data= data, headers = headers) \n",
    "print(res)"
   ]
  },
  {
   "cell_type": "code",
   "execution_count": null,
   "id": "2b3a63ad-86bd-437d-bc23-3d784ffd78a6",
   "metadata": {},
   "outputs": [],
   "source": [
    "# it is working normally but here it is not working "
   ]
  },
  {
   "cell_type": "code",
   "execution_count": null,
   "id": "42957030-92c6-497c-a966-e9edca5db171",
   "metadata": {},
   "outputs": [],
   "source": []
  },
  {
   "cell_type": "code",
   "execution_count": null,
   "id": "a89c1fda-fcaa-4d18-be6e-46502d8d4f66",
   "metadata": {},
   "outputs": [],
   "source": []
  },
  {
   "cell_type": "code",
   "execution_count": null,
   "id": "e6693e94-529d-4fc0-b235-2a9304e43eb9",
   "metadata": {},
   "outputs": [],
   "source": []
  },
  {
   "cell_type": "code",
   "execution_count": null,
   "id": "c4275f8a-4f31-4ee8-a532-0c206223f394",
   "metadata": {},
   "outputs": [],
   "source": []
  },
  {
   "cell_type": "code",
   "execution_count": null,
   "id": "af8a9102-ecbd-416c-8702-0dce8bdfcff7",
   "metadata": {},
   "outputs": [],
   "source": []
  }
 ],
 "metadata": {
  "kernelspec": {
   "display_name": "Python 3 (ipykernel)",
   "language": "python",
   "name": "python3"
  },
  "language_info": {
   "codemirror_mode": {
    "name": "ipython",
    "version": 3
   },
   "file_extension": ".py",
   "mimetype": "text/x-python",
   "name": "python",
   "nbconvert_exporter": "python",
   "pygments_lexer": "ipython3",
   "version": "3.10.0"
  }
 },
 "nbformat": 4,
 "nbformat_minor": 5
}
