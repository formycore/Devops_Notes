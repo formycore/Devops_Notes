{
 "cells": [
  {
   "cell_type": "code",
   "execution_count": 3,
   "id": "acf95bbf-832a-4d1a-9015-147de6c15d05",
   "metadata": {},
   "outputs": [
    {
     "name": "stdout",
     "output_type": "stream",
     "text": [
      "<Response [200]>\n",
      "--------------------------------\n",
      "200\n",
      "----------------------------------------In the text format---------------------------------------\n",
      "[{\"id\":7704643,\"name\":\"Datta Kocchar\",\"email\":\"kocchar_datta@zemlak.test\",\"gender\":\"male\",\"status\":\"active\"},{\"id\":7704642,\"name\":\"Ranjeet Pothuvaal\",\"email\":\"pothuvaal_ranjeet@mcdermott.test\",\"gender\":\"male\",\"status\":\"active\"},{\"id\":7702917,\"name\":\"Vidya Saini\",\"email\":\"vidya_saini@borer.example\",\"gender\":\"male\",\"status\":\"active\"},{\"id\":7702914,\"name\":\"Dipendra Varma\",\"email\":\"varma_dipendra@collins.example\",\"gender\":\"female\",\"status\":\"active\"},{\"id\":7702913,\"name\":\"Pres. Keerti Guneta\",\"email\":\"pres_keerti_guneta@gislason.test\",\"gender\":\"female\",\"status\":\"active\"},{\"id\":7702912,\"name\":\"Krishna Kaniyar\",\"email\":\"krishna_kaniyar@quigley.test\",\"gender\":\"female\",\"status\":\"active\"},{\"id\":7702911,\"name\":\"Bhupen Reddy\",\"email\":\"reddy_bhupen@sauer-kessler.test\",\"gender\":\"male\",\"status\":\"inactive\"},{\"id\":7702910,\"name\":\"Chidambaram Sinha\",\"email\":\"chidambaram_sinha@wisozk.test\",\"gender\":\"male\",\"status\":\"active\"},{\"id\":7702909,\"name\":\"Aamod Mishra\",\"email\":\"aamod_mishra@stehr.example\",\"gender\":\"male\",\"status\":\"inactive\"},{\"id\":7702908,\"name\":\"Anamika Khan\",\"email\":\"khan_anamika@becker-langworth.example\",\"gender\":\"male\",\"status\":\"inactive\"}]\n"
     ]
    }
   ],
   "source": [
    "import requests\n",
    "import os\n",
    "BASE_URL = 'https://gorest.co.in/'\n",
    "BASE_PATH = 'public/' # / is must\n",
    "VERSION = 'v2/'\n",
    "\n",
    "USERS = 'users/'\n",
    "POSTS = 'posts/'\n",
    "\n",
    "def get_users():\n",
    "    return BASE_URL + BASE_PATH + VERSION + USERS\n",
    "\n",
    "res = requests.get(get_users())\n",
    "\n",
    "print(res)\n",
    "print(\"--------------------------------\")\n",
    "print(res.status_code)\n",
    "print(\"----------------------------------------In the text format---------------------------------------\")\n",
    "print(res.text)"
   ]
  },
  {
   "cell_type": "code",
   "execution_count": 7,
   "id": "214c22c8-875c-4bf5-a3e1-27a33025d37c",
   "metadata": {},
   "outputs": [
    {
     "name": "stdout",
     "output_type": "stream",
     "text": [
      "<Response [200]>\n",
      "--------------------------------\n",
      "200\n"
     ]
    },
    {
     "ename": "TypeError",
     "evalue": "string indices must be integers",
     "output_type": "error",
     "traceback": [
      "\u001b[1;31m---------------------------------------------------------------------------\u001b[0m",
      "\u001b[1;31mTypeError\u001b[0m                                 Traceback (most recent call last)",
      "Cell \u001b[1;32mIn[7], line 23\u001b[0m\n\u001b[0;32m     17\u001b[0m \u001b[38;5;28mprint\u001b[39m(res\u001b[38;5;241m.\u001b[39mstatus_code)\n\u001b[0;32m     18\u001b[0m \u001b[38;5;66;03m# print(\"----------------------------------------In the text format---------------------------------------\")\u001b[39;00m\n\u001b[0;32m     19\u001b[0m \u001b[38;5;66;03m# print(res.text)\u001b[39;00m\n\u001b[0;32m     20\u001b[0m \n\u001b[0;32m     21\u001b[0m \u001b[38;5;66;03m# this is in the list output\u001b[39;00m\n\u001b[1;32m---> 23\u001b[0m \u001b[38;5;28mprint\u001b[39m(\u001b[43mres\u001b[49m\u001b[38;5;241;43m.\u001b[39;49m\u001b[43mtext\u001b[49m\u001b[43m[\u001b[49m\u001b[38;5;124;43m'\u001b[39;49m\u001b[38;5;124;43mname\u001b[39;49m\u001b[38;5;124;43m'\u001b[39;49m\u001b[43m]\u001b[49m)\n",
      "\u001b[1;31mTypeError\u001b[0m: string indices must be integers"
     ]
    }
   ],
   "source": [
    "import requests\n",
    "import os\n",
    "BASE_URL = 'https://gorest.co.in/'\n",
    "BASE_PATH = 'public/' # / is must\n",
    "VERSION = 'v2/'\n",
    "\n",
    "USERS = 'users/'\n",
    "POSTS = 'posts/'\n",
    "\n",
    "def get_users():\n",
    "    return BASE_URL + BASE_PATH + VERSION + USERS\n",
    "\n",
    "res = requests.get(get_users())\n",
    "\n",
    "print(res)\n",
    "print(\"--------------------------------\")\n",
    "print(res.status_code)\n",
    "# print(\"----------------------------------------In the text format---------------------------------------\")\n",
    "# print(res.text)\n",
    "\n",
    "# this is in the list output\n",
    "\n",
    "print(res.text['name'])"
   ]
  },
  {
   "cell_type": "code",
   "execution_count": null,
   "id": "cd2b0673-d19e-49ce-a50c-8c3f47980df7",
   "metadata": {},
   "outputs": [],
   "source": []
  }
 ],
 "metadata": {
  "kernelspec": {
   "display_name": "Python 3 (ipykernel)",
   "language": "python",
   "name": "python3"
  },
  "language_info": {
   "codemirror_mode": {
    "name": "ipython",
    "version": 3
   },
   "file_extension": ".py",
   "mimetype": "text/x-python",
   "name": "python",
   "nbconvert_exporter": "python",
   "pygments_lexer": "ipython3",
   "version": "3.10.0"
  }
 },
 "nbformat": 4,
 "nbformat_minor": 5
}
