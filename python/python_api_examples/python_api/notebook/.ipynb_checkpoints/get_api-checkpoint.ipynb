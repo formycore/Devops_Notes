{
 "cells": [
  {
   "cell_type": "code",
   "execution_count": 1,
   "id": "98a9a5c3-6f0f-490f-a06c-5b05e446ccfe",
   "metadata": {},
   "outputs": [
    {
     "name": "stdout",
     "output_type": "stream",
     "text": [
      "https://gorest.co.in/public/v2/users/\n"
     ]
    }
   ],
   "source": [
    "import requests\n",
    "BASE_URL = 'https://gorest.co.in/'\n",
    "BASE_PATH = 'public/' # / is must\n",
    "VERSION = 'v2/'\n",
    "\n",
    "USERS = 'users/'\n",
    "POSTS = 'posts/'\n",
    "\n",
    "def get_users():\n",
    "    return BASE_URL + BASE_PATH + VERSION + USERS\n",
    "\n",
    "print(get_users())"
   ]
  },
  {
   "cell_type": "code",
   "execution_count": 4,
   "id": "27856f17-53cf-47c4-8a82-5e454ee59620",
   "metadata": {},
   "outputs": [
    {
     "name": "stdout",
     "output_type": "stream",
     "text": [
      "<Response [200]>\n",
      "-------------------------------------------------------------\n",
      "[{'id': 7704643, 'name': 'Datta Kocchar', 'email': 'kocchar_datta@zemlak.test', 'gender': 'male', 'status': 'active'}, {'id': 7704642, 'name': 'Ranjeet Pothuvaal', 'email': 'pothuvaal_ranjeet@mcdermott.test', 'gender': 'male', 'status': 'active'}, {'id': 7702917, 'name': 'Vidya Saini', 'email': 'vidya_saini@borer.example', 'gender': 'male', 'status': 'active'}, {'id': 7702914, 'name': 'Dipendra Varma', 'email': 'varma_dipendra@collins.example', 'gender': 'female', 'status': 'active'}, {'id': 7702913, 'name': 'Pres. Keerti Guneta', 'email': 'pres_keerti_guneta@gislason.test', 'gender': 'female', 'status': 'active'}, {'id': 7702912, 'name': 'Krishna Kaniyar', 'email': 'krishna_kaniyar@quigley.test', 'gender': 'female', 'status': 'active'}, {'id': 7702911, 'name': 'Bhupen Reddy', 'email': 'reddy_bhupen@sauer-kessler.test', 'gender': 'male', 'status': 'inactive'}, {'id': 7702910, 'name': 'Chidambaram Sinha', 'email': 'chidambaram_sinha@wisozk.test', 'gender': 'male', 'status': 'active'}, {'id': 7702909, 'name': 'Aamod Mishra', 'email': 'aamod_mishra@stehr.example', 'gender': 'male', 'status': 'inactive'}, {'id': 7702908, 'name': 'Anamika Khan', 'email': 'khan_anamika@becker-langworth.example', 'gender': 'male', 'status': 'inactive'}]\n",
      "-------------------------------------------------------------\n"
     ]
    }
   ],
   "source": [
    "import requests\n",
    "BASE_URL = 'https://gorest.co.in/'\n",
    "BASE_PATH = 'public/' # / is must\n",
    "VERSION = 'v2/'\n",
    "\n",
    "USERS = 'users/'\n",
    "POSTS = 'posts/'\n",
    "\n",
    "def get_users():\n",
    "    return BASE_URL + BASE_PATH + VERSION + USERS\n",
    "\n",
    "res = requests.get(get_users())\n",
    "\n",
    "print(res)\n",
    "print(\"-------------------------------------------------------------\")\n",
    "\n",
    "print(res.json())\n",
    "print(\"-------------------------------------------------------------\")\n"
   ]
  },
  {
   "cell_type": "code",
   "execution_count": null,
   "id": "340a6c95-09fb-4281-bf68-a0ddbd680011",
   "metadata": {},
   "outputs": [],
   "source": [
    "# the api token is stored in user environments in system environments\n",
    "# reopen the python environments and editor also "
   ]
  },
  {
   "cell_type": "markdown",
   "id": "09feac3e-701e-4885-914e-c63301e9e411",
   "metadata": {},
   "source": [
    "# get the api token value "
   ]
  },
  {
   "cell_type": "code",
   "execution_count": 5,
   "id": "68c956ea-cbe1-4406-a9af-65e8bd22f308",
   "metadata": {},
   "outputs": [
    {
     "name": "stdout",
     "output_type": "stream",
     "text": [
      "None\n"
     ]
    }
   ],
   "source": [
    "import requests\n",
    "import os\n",
    "BASE_URL = 'https://gorest.co.in/'\n",
    "BASE_PATH = 'public/' # / is must\n",
    "VERSION = 'v2/'\n",
    "\n",
    "USERS = 'users/'\n",
    "POSTS = 'posts/'\n",
    "\n",
    "def token():\n",
    "    return os.environ.get('TOKEN')\n",
    "\n",
    "print(token())\n",
    "    "
   ]
  },
  {
   "cell_type": "code",
   "execution_count": null,
   "id": "440fed93-6c11-42e9-8165-7c5639305d7d",
   "metadata": {},
   "outputs": [],
   "source": [
    "# this env is not restarted so no outcome"
   ]
  },
  {
   "cell_type": "code",
   "execution_count": null,
   "id": "2b6fee09-af18-4467-8436-0d7570a88ad5",
   "metadata": {},
   "outputs": [],
   "source": []
  },
  {
   "cell_type": "code",
   "execution_count": null,
   "id": "c1b140dc-c6b1-41af-8873-95cf0ff91d49",
   "metadata": {},
   "outputs": [],
   "source": []
  },
  {
   "cell_type": "code",
   "execution_count": null,
   "id": "9b92a0f6-cffa-46f2-a44e-3ecf194b3fb5",
   "metadata": {},
   "outputs": [],
   "source": []
  },
  {
   "cell_type": "code",
   "execution_count": null,
   "id": "c7776a96-3dc1-4615-8bdd-cf4230d08638",
   "metadata": {},
   "outputs": [],
   "source": []
  }
 ],
 "metadata": {
  "kernelspec": {
   "display_name": "Python 3 (ipykernel)",
   "language": "python",
   "name": "python3"
  },
  "language_info": {
   "codemirror_mode": {
    "name": "ipython",
    "version": 3
   },
   "file_extension": ".py",
   "mimetype": "text/x-python",
   "name": "python",
   "nbconvert_exporter": "python",
   "pygments_lexer": "ipython3",
   "version": "3.10.0"
  }
 },
 "nbformat": 4,
 "nbformat_minor": 5
}
