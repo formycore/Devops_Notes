{
 "cells": [
  {
   "cell_type": "code",
   "execution_count": 2,
   "id": "719c485c-c7dd-4e33-ba44-d59503ae49d5",
   "metadata": {},
   "outputs": [
    {
     "name": "stdin",
     "output_type": "stream",
     "text": [
      "Enter the name:  sam\n",
      "Enter the email:  sam@example.com\n",
      "Enter the status:  active\n",
      "Enter the gender:  female\n"
     ]
    },
    {
     "name": "stdout",
     "output_type": "stream",
     "text": [
      "<Response [401]>\n"
     ]
    }
   ],
   "source": [
    "import requests\n",
    "\n",
    "BASE_URL = 'https://gorest.co.in/'\n",
    "BASE_PATH = 'public/' # / is must\n",
    "VERSION = 'v2/'\n",
    "\n",
    "USERS = 'users/'\n",
    "POSTS = 'posts/'\n",
    "\n",
    "def get_users():\n",
    "        return BASE_URL + BASE_PATH + VERSION + USERS\n",
    "\n",
    "url = get_users()\n",
    "# it will take only name email status gender\n",
    "name = input(\"Enter the name: \")\n",
    "email = input(\"Enter the email: \")\n",
    "status = input(\"Enter the status: \")\n",
    "gender = input(\"Enter the gender: \")\n",
    "# to make a post call needed the data in json format or else we can take in the dictionary also\n",
    "data = dict()\n",
    "data['name'] = name\n",
    "data['email'] = email\n",
    "data['status'] = status\n",
    "data['gender'] = gender\n",
    "\n",
    "res = requests.post(url, data = data)\n",
    "print(res)"
   ]
  },
  {
   "cell_type": "code",
   "execution_count": null,
   "id": "d352461b-bdd8-43ae-a237-7b89e391b95c",
   "metadata": {},
   "outputs": [],
   "source": [
    "# 401 is access denied\n"
   ]
  },
  {
   "cell_type": "code",
   "execution_count": 3,
   "id": "2ac05ad5-f89e-4167-a6b5-7e5b1de764bf",
   "metadata": {},
   "outputs": [
    {
     "name": "stdin",
     "output_type": "stream",
     "text": [
      "Enter the name:  sam\n",
      "Enter the email:  sam@example.com\n",
      "Enter the status:  active\n",
      "Enter the gender:  female\n"
     ]
    },
    {
     "name": "stdout",
     "output_type": "stream",
     "text": [
      "<Response [401]>\n"
     ]
    }
   ],
   "source": [
    "import requests\n",
    "import os\n",
    "\n",
    "BASE_URL = 'https://gorest.co.in/'\n",
    "BASE_PATH = 'public/' # / is must\n",
    "VERSION = 'v2/'\n",
    "\n",
    "USERS = 'users/'\n",
    "POSTS = 'posts/'\n",
    "\n",
    "def get_users():\n",
    "        return BASE_URL + BASE_PATH + VERSION + USERS\n",
    "def access_token():\n",
    "    return os.environ.get('TOKEN')\n",
    "\n",
    "url = get_users()\n",
    "# it will take only name email status gender\n",
    "name = input(\"Enter the name: \")\n",
    "email = input(\"Enter the email: \")\n",
    "status = input(\"Enter the status: \")\n",
    "gender = input(\"Enter the gender: \")\n",
    "# to make a post call needed the data in json format or else we can take in the dictionary also\n",
    "data = dict()\n",
    "# for post headers are used\n",
    "headers = dict()\n",
    "headers['Authorization'] = 'Bearer' + access_token()\n",
    "data['name'] = name\n",
    "data['email'] = email\n",
    "data['status'] = status\n",
    "data['gender'] = gender\n",
    "\n",
    "res = requests.post(url, data = data, headers = headers)\n",
    "print(res)"
   ]
  },
  {
   "cell_type": "code",
   "execution_count": null,
   "id": "09f7783b-8727-4082-892f-27755b8a77c5",
   "metadata": {},
   "outputs": [],
   "source": []
  }
 ],
 "metadata": {
  "kernelspec": {
   "display_name": "Python 3 (ipykernel)",
   "language": "python",
   "name": "python3"
  },
  "language_info": {
   "codemirror_mode": {
    "name": "ipython",
    "version": 3
   },
   "file_extension": ".py",
   "mimetype": "text/x-python",
   "name": "python",
   "nbconvert_exporter": "python",
   "pygments_lexer": "ipython3",
   "version": "3.10.0"
  }
 },
 "nbformat": 4,
 "nbformat_minor": 5
}
