{
 "cells": [
  {
   "cell_type": "code",
   "execution_count": 10,
   "id": "1103f2cd-c0c8-4e7a-a680-7eba8a78be8c",
   "metadata": {},
   "outputs": [
    {
     "name": "stdout",
     "output_type": "stream",
     "text": [
      "------------------------------ checking the status code ---------------------------------------------\n",
      "200\n",
      "------------------------------ getting the json format  ---------------------------------------------\n",
      "[{'id': 7706631, 'name': 'Karan Ganaka', 'email': 'ganaka_karan@bahringer.example', 'gender': 'male', 'status': 'active'}, {'id': 7706625, 'name': 'Bhadra Reddy DC', 'email': 'dc_bhadra_reddy@lehner.test', 'gender': 'male', 'status': 'active'}, {'id': 7706623, 'name': 'Subhasini Arora Esq.', 'email': 'esq_arora_subhasini@paucek-abbott.test', 'gender': 'female', 'status': 'active'}, {'id': 7706622, 'name': 'Anusuya Saini', 'email': 'saini_anusuya@heathcote-koelpin.test', 'gender': 'female', 'status': 'active'}, {'id': 7706621, 'name': 'Prayag Desai', 'email': 'desai_prayag@braun-roberts.example', 'gender': 'female', 'status': 'inactive'}, {'id': 7706619, 'name': 'Devagya Nayar', 'email': 'nayar_devagya@mclaughlin.example', 'gender': 'male', 'status': 'inactive'}, {'id': 7706618, 'name': 'Deeksha Agarwal', 'email': 'deeksha_agarwal@kilback-oreilly.example', 'gender': 'female', 'status': 'active'}, {'id': 7706616, 'name': 'Dron Varrier', 'email': 'dron_varrier@borer-donnelly.test', 'gender': 'male', 'status': 'inactive'}, {'id': 7706615, 'name': 'Mani Naik', 'email': 'mani_naik@harris-ernser.example', 'gender': 'male', 'status': 'active'}, {'id': 7706614, 'name': 'Shrishti Embranthiri', 'email': 'embranthiri_shrishti@wisoky-white.test', 'gender': 'male', 'status': 'active'}]\n",
      "------------------------------ checking the type  ---------------------------------------------\n",
      "<class 'list'>\n",
      "------------------------------ checking the type with res.text  ---------------------------------------------\n",
      "<class 'str'>\n"
     ]
    }
   ],
   "source": [
    "import requests\n",
    "import os\n",
    "\n",
    "BASE_URL = 'https://gorest.co.in/'\n",
    "BASE_PATH = 'public/' # / is must\n",
    "VERSION = 'v2/'\n",
    "\n",
    "USERS = 'users/'\n",
    "POSTS = 'posts/'\n",
    "\n",
    "def get_users():\n",
    "\treturn BASE_URL + BASE_PATH + VERSION + USERS\n",
    "\n",
    "url = get_users()\n",
    "#print(url)\n",
    "res = requests.get(url)\n",
    "print(\"------------------------------ checking the status code ---------------------------------------------\")\n",
    "print(res.status_code)\n",
    "print(\"------------------------------ getting the json format  ---------------------------------------------\")\n",
    "print(res.json()) # this will get in the json format with res.text it is in the string format\n",
    "print(\"------------------------------ checking the type  ---------------------------------------------\")\n",
    "print(type(res.json()))\n",
    "print(\"------------------------------ checking the type with res.text  ---------------------------------------------\")\n",
    "print(type(res.text))"
   ]
  },
  {
   "cell_type": "code",
   "execution_count": 8,
   "id": "bb932566-2bf5-467d-bd1c-935bd69c4b9a",
   "metadata": {},
   "outputs": [
    {
     "name": "stdout",
     "output_type": "stream",
     "text": [
      "200\n",
      "b'[{\"id\":7706631,\"name\":\"Karan Ganaka\",\"email\":\"ganaka_karan@bahringer.example\",\"gender\":\"male\",\"status\":\"active\"},{\"id\":7706625,\"name\":\"Bhadra Reddy DC\",\"email\":\"dc_bhadra_reddy@lehner.test\",\"gender\":\"male\",\"status\":\"active\"},{\"id\":7706623,\"name\":\"Subhasini Arora Esq.\",\"email\":\"esq_arora_subhasini@paucek-abbott.test\",\"gender\":\"female\",\"status\":\"active\"},{\"id\":7706622,\"name\":\"Anusuya Saini\",\"email\":\"saini_anusuya@heathcote-koelpin.test\",\"gender\":\"female\",\"status\":\"active\"},{\"id\":7706621,\"name\":\"Prayag Desai\",\"email\":\"desai_prayag@braun-roberts.example\",\"gender\":\"female\",\"status\":\"inactive\"},{\"id\":7706619,\"name\":\"Devagya Nayar\",\"email\":\"nayar_devagya@mclaughlin.example\",\"gender\":\"male\",\"status\":\"inactive\"},{\"id\":7706618,\"name\":\"Deeksha Agarwal\",\"email\":\"deeksha_agarwal@kilback-oreilly.example\",\"gender\":\"female\",\"status\":\"active\"},{\"id\":7706616,\"name\":\"Dron Varrier\",\"email\":\"dron_varrier@borer-donnelly.test\",\"gender\":\"male\",\"status\":\"inactive\"},{\"id\":7706615,\"name\":\"Mani Naik\",\"email\":\"mani_naik@harris-ernser.example\",\"gender\":\"male\",\"status\":\"active\"},{\"id\":7706614,\"name\":\"Shrishti Embranthiri\",\"email\":\"embranthiri_shrishti@wisoky-white.test\",\"gender\":\"male\",\"status\":\"active\"}]'\n"
     ]
    }
   ],
   "source": [
    "import requests\n",
    "import os\n",
    "\n",
    "BASE_URL = 'https://gorest.co.in/'\n",
    "BASE_PATH = 'public/' # / is must\n",
    "VERSION = 'v2/'\n",
    "\n",
    "USERS = 'users/'\n",
    "POSTS = 'posts/'\n",
    "\n",
    "def get_users():\n",
    "\treturn BASE_URL + BASE_PATH + VERSION + USERS\n",
    "\n",
    "url = get_users()\n",
    "#print(url)\n",
    "res = requests.get(url)\n",
    "\n",
    "print(res.status_code)\n",
    "\n",
    "print(res.content)"
   ]
  },
  {
   "cell_type": "code",
   "execution_count": null,
   "id": "c81c2ac8-daf1-4b08-8427-6be949fb4ffc",
   "metadata": {},
   "outputs": [],
   "source": [
    "# b at the starting is in binary form\n",
    "# res.text in string format "
   ]
  },
  {
   "cell_type": "code",
   "execution_count": 11,
   "id": "311d8704-996c-47cb-808a-f9361c6a57ec",
   "metadata": {},
   "outputs": [
    {
     "name": "stdout",
     "output_type": "stream",
     "text": [
      "{'id': 7706631, 'name': 'Karan Ganaka', 'email': 'ganaka_karan@bahringer.example', 'gender': 'male', 'status': 'active'}\n",
      "{'id': 7706625, 'name': 'Bhadra Reddy DC', 'email': 'dc_bhadra_reddy@lehner.test', 'gender': 'male', 'status': 'active'}\n",
      "{'id': 7706623, 'name': 'Subhasini Arora Esq.', 'email': 'esq_arora_subhasini@paucek-abbott.test', 'gender': 'female', 'status': 'active'}\n",
      "{'id': 7706622, 'name': 'Anusuya Saini', 'email': 'saini_anusuya@heathcote-koelpin.test', 'gender': 'female', 'status': 'active'}\n",
      "{'id': 7706621, 'name': 'Prayag Desai', 'email': 'desai_prayag@braun-roberts.example', 'gender': 'female', 'status': 'inactive'}\n",
      "{'id': 7706619, 'name': 'Devagya Nayar', 'email': 'nayar_devagya@mclaughlin.example', 'gender': 'male', 'status': 'inactive'}\n",
      "{'id': 7706618, 'name': 'Deeksha Agarwal', 'email': 'deeksha_agarwal@kilback-oreilly.example', 'gender': 'female', 'status': 'active'}\n",
      "{'id': 7706616, 'name': 'Dron Varrier', 'email': 'dron_varrier@borer-donnelly.test', 'gender': 'male', 'status': 'inactive'}\n",
      "{'id': 7706615, 'name': 'Mani Naik', 'email': 'mani_naik@harris-ernser.example', 'gender': 'male', 'status': 'active'}\n",
      "{'id': 7706614, 'name': 'Shrishti Embranthiri', 'email': 'embranthiri_shrishti@wisoky-white.test', 'gender': 'male', 'status': 'active'}\n"
     ]
    }
   ],
   "source": [
    "import requests\n",
    "import os\n",
    "\n",
    "BASE_URL = 'https://gorest.co.in/'\n",
    "BASE_PATH = 'public/' # / is must\n",
    "VERSION = 'v2/'\n",
    "\n",
    "USERS = 'users/'\n",
    "POSTS = 'posts/'\n",
    "\n",
    "def get_users():\n",
    "\treturn BASE_URL + BASE_PATH + VERSION + USERS\n",
    "\n",
    "url = get_users()\n",
    "#print(url)\n",
    "res = requests.get(url)\n",
    "\n",
    "for i in res.json():\n",
    "    print(i)"
   ]
  },
  {
   "cell_type": "code",
   "execution_count": 13,
   "id": "ff2072d6-fdd8-4a64-ab95-ba378f7501f9",
   "metadata": {},
   "outputs": [
    {
     "name": "stdout",
     "output_type": "stream",
     "text": [
      "Karan Ganaka 7706631\n",
      "Bhadra Reddy DC 7706625\n",
      "Subhasini Arora Esq. 7706623\n",
      "Anusuya Saini 7706622\n",
      "Prayag Desai 7706621\n",
      "Devagya Nayar 7706619\n",
      "Deeksha Agarwal 7706618\n",
      "Dron Varrier 7706616\n",
      "Mani Naik 7706615\n",
      "Shrishti Embranthiri 7706614\n"
     ]
    }
   ],
   "source": [
    "for i in res.json():\n",
    "    print(i[\"name\"], i[\"id\"])"
   ]
  },
  {
   "cell_type": "code",
   "execution_count": null,
   "id": "70044135-faf3-47ad-9b60-915298d5418f",
   "metadata": {},
   "outputs": [],
   "source": []
  },
  {
   "cell_type": "code",
   "execution_count": null,
   "id": "a35ddac6-0afd-4bcf-800b-d762dcbd04e2",
   "metadata": {},
   "outputs": [],
   "source": []
  },
  {
   "cell_type": "code",
   "execution_count": null,
   "id": "ac78d2c8-8248-438f-a3d0-09ef183db345",
   "metadata": {},
   "outputs": [],
   "source": []
  },
  {
   "cell_type": "code",
   "execution_count": null,
   "id": "e12703f5-d0c7-44dc-9100-b50b1b40a124",
   "metadata": {},
   "outputs": [],
   "source": []
  }
 ],
 "metadata": {
  "kernelspec": {
   "display_name": "Python 3 (ipykernel)",
   "language": "python",
   "name": "python3"
  },
  "language_info": {
   "codemirror_mode": {
    "name": "ipython",
    "version": 3
   },
   "file_extension": ".py",
   "mimetype": "text/x-python",
   "name": "python",
   "nbconvert_exporter": "python",
   "pygments_lexer": "ipython3",
   "version": "3.10.0"
  }
 },
 "nbformat": 4,
 "nbformat_minor": 5
}
