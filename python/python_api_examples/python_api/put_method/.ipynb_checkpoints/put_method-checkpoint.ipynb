{
 "cells": [
  {
   "cell_type": "code",
   "execution_count": 2,
   "id": "e94f0f29-0ea4-4b98-a6d8-2ce1d6e31401",
   "metadata": {},
   "outputs": [
    {
     "name": "stdout",
     "output_type": "stream",
     "text": [
      "{'id': 7706597, 'name': 'Basanti Achari VM', 'email': 'vm_achari_basanti@ruecker-graham.example', 'gender': 'female', 'status': 'active'}\n",
      "{'id': 7706596, 'name': 'Aadinath Shukla', 'email': 'aadinath_shukla@smitham.example', 'gender': 'male', 'status': 'inactive'}\n",
      "{'id': 7706594, 'name': 'Indira Khanna I', 'email': 'indira_khanna_i@mosciski-jacobson.example', 'gender': 'female', 'status': 'active'}\n",
      "{'id': 7706593, 'name': 'Bhoopati Bharadwaj', 'email': 'bhoopati_bharadwaj@strosin-dietrich.test', 'gender': 'female', 'status': 'active'}\n",
      "{'id': 7706592, 'name': 'Ravi Sethi', 'email': 'ravi_sethi@shields.example', 'gender': 'female', 'status': 'inactive'}\n",
      "{'id': 7706591, 'name': 'Agneya Malik', 'email': 'malik_agneya@sipes.example', 'gender': 'male', 'status': 'inactive'}\n",
      "{'id': 7706590, 'name': 'Vedanshi Saini', 'email': 'vedanshi_saini@kuvalis.test', 'gender': 'male', 'status': 'inactive'}\n",
      "{'id': 7706589, 'name': 'Anila Khan', 'email': 'anila_khan@olson.example', 'gender': 'male', 'status': 'inactive'}\n",
      "{'id': 7706588, 'name': 'Brahma Varman II', 'email': 'varman_ii_brahma@wiza-bradtke.example', 'gender': 'female', 'status': 'active'}\n",
      "{'id': 7706587, 'name': 'Saraswati Mishra', 'email': 'saraswati_mishra@lockman.example', 'gender': 'female', 'status': 'active'}\n"
     ]
    }
   ],
   "source": [
    "import os\n",
    "\n",
    "BASE_URL = 'https://gorest.co.in/'\n",
    "BASE_PATH = 'public/' # / is must\n",
    "VERSION = 'v2/'\n",
    "\n",
    "USERS = 'users/'\n",
    "POSTS = 'posts/'\n",
    "\n",
    "def get_users():\n",
    "\treturn BASE_URL + BASE_PATH + VERSION + USERS\n",
    "\n",
    "\n",
    "def access_token():\n",
    "\treturn os.environ.get('TOKEN')\n",
    "# update the available resource \n",
    "# first check the resource is available then update\n",
    "# api like https://gorest.co.in/public/v2/users/ we need to append the user id \n",
    "import requests\n",
    "import config\n",
    "\n",
    "url = config.get_users()\n",
    "\n",
    "\n",
    "#print(url)\n",
    "res = requests.get(url)\n",
    "#print(res.json())\n",
    "#print(type(res.json()))\n",
    "\n",
    "for i in res.json():\n",
    "    print(i)"
   ]
  },
  {
   "cell_type": "code",
   "execution_count": 3,
   "id": "a1d72dcf-7fa4-410b-b912-725aa22150cd",
   "metadata": {},
   "outputs": [
    {
     "name": "stdout",
     "output_type": "stream",
     "text": [
      "https://gorest.co.in/public/v2/users/\n"
     ]
    }
   ],
   "source": [
    "import requests\n",
    "import os\n",
    "\n",
    "BASE_URL = 'https://gorest.co.in/'\n",
    "BASE_PATH = 'public/' # / is must\n",
    "VERSION = 'v2/'\n",
    "\n",
    "USERS = 'users/'\n",
    "POSTS = 'posts/'\n",
    "\n",
    "def get_users():\n",
    "\treturn BASE_URL + BASE_PATH + VERSION + USERS\n",
    "\n",
    "\n",
    "def access_token():\n",
    "\treturn os.environ.get('TOKEN')\n",
    "# update the available resource \n",
    "# first check the resource is available then update\n",
    "# api like https://gorest.co.in/public/v2/users/ we need to append the user id \n",
    "url = config.get_users()\n",
    "print(url)"
   ]
  },
  {
   "cell_type": "code",
   "execution_count": 4,
   "id": "757b3079-8e91-4fc2-9dff-c131e75ec0cb",
   "metadata": {},
   "outputs": [
    {
     "name": "stdout",
     "output_type": "stream",
     "text": [
      "<Response [404]>\n"
     ]
    }
   ],
   "source": [
    "import requests\n",
    "import os\n",
    "\n",
    "BASE_URL = 'https://gorest.co.in/'\n",
    "BASE_PATH = 'public/' # / is must\n",
    "VERSION = 'v2/'\n",
    "\n",
    "USERS = 'users/'\n",
    "POSTS = 'posts/'\n",
    "\n",
    "def get_users():\n",
    "\treturn BASE_URL + BASE_PATH + VERSION + USERS\n",
    "\n",
    "\n",
    "def access_token():\n",
    "\treturn os.environ.get('TOKEN')\n",
    "# update the available resource \n",
    "# first check the resource is available then update\n",
    "# api like https://gorest.co.in/public/v2/users/ we need to append the user id \n",
    "url = config.get_users()\n",
    "res = requests.get(url)\n",
    "headers = dict()\n",
    "headers['Authorization'] = 'Bearer ' + access_token()\n",
    "res = requests.put(url, headers = headers)\n",
    "print(res)"
   ]
  },
  {
   "cell_type": "code",
   "execution_count": null,
   "id": "05eae007-0f9b-44c7-a04e-117ddc55b101",
   "metadata": {},
   "outputs": [],
   "source": [
    "# getting 404 error it is expecting user id value"
   ]
  },
  {
   "cell_type": "code",
   "execution_count": 5,
   "id": "ca4834d5-cb7c-43d4-868b-ef6bd04da452",
   "metadata": {},
   "outputs": [
    {
     "name": "stdout",
     "output_type": "stream",
     "text": [
      "<Response [200]>\n",
      "{'name': 'Basanth', 'id': 7706597, 'email': 'vm_achari_basanti@ruecker-graham.example', 'gender': 'female', 'status': 'active'}\n"
     ]
    }
   ],
   "source": [
    "import requests\n",
    "import os\n",
    "\n",
    "BASE_URL = 'https://gorest.co.in/'\n",
    "BASE_PATH = 'public/' # / is must\n",
    "VERSION = 'v2/'\n",
    "\n",
    "USERS = 'users/'\n",
    "POSTS = 'posts/'\n",
    "\n",
    "def get_users():\n",
    "\treturn BASE_URL + BASE_PATH + VERSION + USERS\n",
    "\n",
    "\n",
    "def access_token():\n",
    "\treturn os.environ.get('TOKEN')\n",
    "# update the available resource \n",
    "# first check the resource is available then update\n",
    "# api like https://gorest.co.in/public/v2/users/ we need to append the user id \n",
    "url = config.get_users() + \"7706597\"\n",
    "res = requests.get(url)\n",
    "data = dict()\n",
    "data['name'] = 'Basanth'\n",
    "headers = dict()\n",
    "headers['Authorization'] = 'Bearer ' + access_token()\n",
    "res = requests.put(url, headers = headers, data = data)\n",
    "print(res)\n",
    "print(res.json())"
   ]
  },
  {
   "cell_type": "code",
   "execution_count": null,
   "id": "d1256929-9910-41ad-8e3f-07989880445f",
   "metadata": {},
   "outputs": [],
   "source": [
    "# now the value Basanti Achari VM changed to Basanth "
   ]
  },
  {
   "cell_type": "code",
   "execution_count": 6,
   "id": "9dc74c84-c381-4c11-8d34-1438c8bcdaea",
   "metadata": {},
   "outputs": [
    {
     "name": "stdout",
     "output_type": "stream",
     "text": [
      "<Response [200]>\n",
      "{'email': 'basanth@example.com', 'name': 'Basanth', 'id': 7706597, 'gender': 'female', 'status': 'active'}\n"
     ]
    }
   ],
   "source": [
    "# now change the value of email \n",
    "import requests\n",
    "import os\n",
    "\n",
    "BASE_URL = 'https://gorest.co.in/'\n",
    "BASE_PATH = 'public/' # / is must\n",
    "VERSION = 'v2/'\n",
    "\n",
    "USERS = 'users/'\n",
    "POSTS = 'posts/'\n",
    "\n",
    "def get_users():\n",
    "\treturn BASE_URL + BASE_PATH + VERSION + USERS\n",
    "\n",
    "\n",
    "def access_token():\n",
    "\treturn os.environ.get('TOKEN')\n",
    "# update the available resource \n",
    "# first check the resource is available then update\n",
    "# api like https://gorest.co.in/public/v2/users/ we need to append the user id \n",
    "url = config.get_users() + \"7706597\"\n",
    "res = requests.get(url)\n",
    "data = dict()\n",
    "data['name'] = 'Basanth'\n",
    "data['email'] = 'basanth@example.com'\n",
    "headers = dict()\n",
    "headers['Authorization'] = 'Bearer ' + access_token()\n",
    "res = requests.put(url, headers = headers, data = data)\n",
    "print(res)\n",
    "print(res.json())"
   ]
  },
  {
   "cell_type": "code",
   "execution_count": null,
   "id": "be3b7635-5942-4f30-a067-dcaadc473a7d",
   "metadata": {},
   "outputs": [],
   "source": []
  }
 ],
 "metadata": {
  "kernelspec": {
   "display_name": "Python 3 (ipykernel)",
   "language": "python",
   "name": "python3"
  },
  "language_info": {
   "codemirror_mode": {
    "name": "ipython",
    "version": 3
   },
   "file_extension": ".py",
   "mimetype": "text/x-python",
   "name": "python",
   "nbconvert_exporter": "python",
   "pygments_lexer": "ipython3",
   "version": "3.10.0"
  }
 },
 "nbformat": 4,
 "nbformat_minor": 5
}
