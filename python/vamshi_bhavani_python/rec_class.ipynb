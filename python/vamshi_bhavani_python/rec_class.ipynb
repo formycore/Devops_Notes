{
 "cells": [
  {
   "cell_type": "code",
   "execution_count": null,
   "metadata": {
    "vscode": {
     "languageId": "plaintext"
    }
   },
   "outputs": [],
   "source": [
    "# class named rectangle, with attributes len, breadth and 2 methods ,they return area & perimeter"
   ]
  },
  {
   "cell_type": "code",
   "execution_count": null,
   "metadata": {},
   "outputs": [],
   "source": [
    "class Rectangle:\n",
    "    # now we need a construtor to initialize the value of len, breadth attributes\n",
    "    def __init__ (self,length, breadth):\n",
    "        # self is implicent parameter, length is first parameter, and breadth is second parameter\n",
    "        self.length = length\n",
    "        self.breadth = breadth\n",
    "        # here we have written one constructor, which will take object name as implicent parameter which is stored \n",
    "        # into self and two explicint parameter length, breadth\n",
    "        # self.length object_name.length = length\n",
    "        # self.breadth is object_name.breadth = breadth\n",
    "        # till now it is just constructor\n",
    "        # to initalize the attributes of the class Rectangle\n",
    "    def display(self):\n",
    "        print(\"lenght of rectangle is :\", self.length)\n",
    "        print(\"breadth of rectangle is :\", self.breadth)\n",
    "        # to display the length and breadth\n",
    "        "
   ]
  },
  {
   "cell_type": "markdown",
   "metadata": {},
   "source": []
  }
 ],
 "metadata": {
  "language_info": {
   "name": "python"
  }
 },
 "nbformat": 4,
 "nbformat_minor": 2
}
