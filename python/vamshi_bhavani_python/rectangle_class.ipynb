class Rectangle:
    def __init__(self, length, width):
        self.length = length
        self.width = width
    def caliculate_area(self):
        return self.length * self.width
rectangular_instance = Rectangle(5,8)
result = rectangular_instance.caliculate_area