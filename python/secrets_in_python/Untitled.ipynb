{
 "cells": [
  {
   "cell_type": "code",
   "execution_count": 1,
   "id": "906a5756-683f-4bd3-9723-163dd07656bd",
   "metadata": {
    "tags": []
   },
   "outputs": [
    {
     "name": "stdout",
     "output_type": "stream",
     "text": [
      "key: 123456789\n"
     ]
    }
   ],
   "source": [
    "secret_key = '123456789'\n",
    "print(f'key: {secret_key}')"
   ]
  },
  {
   "cell_type": "code",
   "execution_count": null,
   "id": "6b72b8b4-5d53-4116-921b-aa94722100a6",
   "metadata": {},
   "outputs": [],
   "source": []
  },
  {
   "cell_type": "code",
   "execution_count": null,
   "id": "29c5e62b-e20d-4e61-a0d4-bab1e8632305",
   "metadata": {},
   "outputs": [],
   "source": []
  },
  {
   "cell_type": "code",
   "execution_count": null,
   "id": "0a44aae6-75b8-4fb0-9d97-cbd4381157f6",
   "metadata": {},
   "outputs": [],
   "source": [
    "# to hide this secret value\n",
    "# pip install python-dotenv, create a new file and name it .env paste the secret keys\n"
   ]
  },
  {
   "cell_type": "code",
   "execution_count": 2,
   "id": "8ac2e8a2-f03f-44cb-a80c-c6ea3446457b",
   "metadata": {
    "tags": []
   },
   "outputs": [
    {
     "name": "stdout",
     "output_type": "stream",
     "text": [
      "key: 123456789\n"
     ]
    }
   ],
   "source": [
    "import os\n",
    "from dotenv import load_dotenv\n",
    "\n",
    "load_dotenv()\n",
    "secret_key = os.getenv('secret_key')\n",
    "print(f'key: {secret_key}')"
   ]
  },
  {
   "cell_type": "code",
   "execution_count": null,
   "id": "e05b23be-85a8-480c-92f0-be440bc35516",
   "metadata": {},
   "outputs": [],
   "source": []
  }
 ],
 "metadata": {
  "kernelspec": {
   "display_name": "Python 3 (ipykernel)",
   "language": "python",
   "name": "python3"
  },
  "language_info": {
   "codemirror_mode": {
    "name": "ipython",
    "version": 3
   },
   "file_extension": ".py",
   "mimetype": "text/x-python",
   "name": "python",
   "nbconvert_exporter": "python",
   "pygments_lexer": "ipython3",
   "version": "3.10.12"
  }
 },
 "nbformat": 4,
 "nbformat_minor": 5
}
