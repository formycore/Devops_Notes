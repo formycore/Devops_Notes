{
 "cells": [
  {
   "cell_type": "code",
   "execution_count": 1,
   "id": "0f37842a-241b-4a08-b9ff-99c0a1e6df47",
   "metadata": {
    "tags": []
   },
   "outputs": [
    {
     "name": "stdout",
     "output_type": "stream",
     "text": [
      "Defaulting to user installation because normal site-packages is not writeable\n",
      "Requirement already satisfied: paramiko in /usr/lib/python3/dist-packages (2.9.3)\n"
     ]
    }
   ],
   "source": [
    "!pip install paramiko"
   ]
  },
  {
   "cell_type": "code",
   "execution_count": 6,
   "id": "ab3e2a38-37d2-465b-b7e9-a22329504991",
   "metadata": {
    "tags": []
   },
   "outputs": [
    {
     "name": "stdout",
     "output_type": "stream",
     "text": [
      "The output is : \n",
      "['              total        used        free      shared  buff/cache   available\\n', 'Mem:           3785        1455        1602           8         727        2102\\n', 'Swap:             0           0           0\\n']\n"
     ]
    }
   ],
   "source": [
    "import paramiko\n",
    "ssh = paramiko.SSHClient()\n",
    "#ssh.connect(hostname='hostname',username='username',password='password',port=22)\n",
    "# SSHException: Server '34.136.221.32' not found in known_hosts\n",
    "# to avoid the yes or no confirmation for login to this server \n",
    "ssh.set_missing_host_key_policy(paramiko.AutoAddPolicy())\n",
    "ssh.connect(hostname='34.136.221.32',username='maanya',password='san',port=22)\n",
    "stdin, stdout, stderr = ssh.exec_command('free -m')\n",
    "print(\"The output is : \")\n",
    "print(stdout.readlines())"
   ]
  },
  {
   "cell_type": "code",
   "execution_count": 7,
   "id": "9ba0c4a0-e9ed-431f-8cee-6e2c5d1e539c",
   "metadata": {
    "tags": []
   },
   "outputs": [
    {
     "name": "stdout",
     "output_type": "stream",
     "text": [
      "The out put is: \n",
      "['maanya\\n']\n"
     ]
    }
   ],
   "source": [
    "import paramiko\n",
    "ssh = paramiko.SSHClient()\n",
    "ssh.set_missing_host_key_policy(paramiko.AutoAddPolicy())\n",
    "ssh.connect(hostname='34.136.221.32', username = 'maanya', key_filename='/home/maanya/Downloads/ubuntu_ssh/id_rsa',port=22)\n",
    "stdin, stdout, stderr = ssh.exec_command('whoami')\n",
    "\n",
    "print(\"The out put is: \")\n",
    "print(stdout.readlines())"
   ]
  },
  {
   "cell_type": "code",
   "execution_count": 10,
   "id": "2aacca9d-366c-476e-b09b-493fdb3aef55",
   "metadata": {},
   "outputs": [
    {
     "name": "stdout",
     "output_type": "stream",
     "text": [
      "['__class__', '__delattr__', '__dict__', '__dir__', '__doc__', '__enter__', '__eq__', '__exit__', '__format__', '__ge__', '__getattribute__', '__gt__', '__hash__', '__init__', '__init_subclass__', '__le__', '__lt__', '__module__', '__ne__', '__new__', '__reduce__', '__reduce_ex__', '__repr__', '__setattr__', '__sizeof__', '__str__', '__subclasshook__', '__weakref__', '_agent', '_auth', '_families_and_addresses', '_host_keys', '_host_keys_filename', '_key_from_filepath', '_log', '_log_channel', '_policy', '_system_host_keys', '_transport', 'close', 'connect', 'exec_command', 'get_host_keys', 'get_transport', 'invoke_shell', 'load_host_keys', 'load_system_host_keys', 'open_sftp', 'save_host_keys', 'set_log_channel', 'set_missing_host_key_policy']\n"
     ]
    }
   ],
   "source": [
    "import paramiko\n",
    "ssh = paramiko.SSHClient()\n",
    "ssh.set_missing_host_key_policy(paramiko.AutoAddPolicy())\n",
    "ssh.connect(hostname='34.136.221.32', username = 'maanya', key_filename = '/home/maanya/Downloads/ubuntu_ssh/id_rsa', port=22)\n",
    "#print(dir(ssh))\n",
    "ssh.close()"
   ]
  },
  {
   "cell_type": "code",
   "execution_count": 16,
   "id": "90844976-228d-4725-beb4-8a4e7ab79498",
   "metadata": {
    "tags": []
   },
   "outputs": [
    {
     "name": "stdout",
     "output_type": "stream",
     "text": [
      "total        used        free      shared  buff/cache   available\n",
      "Mem:           3785        1458        1442           8         884        2096\n",
      "Swap:             0           0           0\n",
      "maanya\n",
      "total 4\n",
      "-rw-rw-r--. 1 maanya maanya 339 Mar 30 10:32 jen.sh\n"
     ]
    }
   ],
   "source": [
    "import paramiko\n",
    "result = []\n",
    "ssh = paramiko.SSHClient()\n",
    "ssh.set_missing_host_key_policy(paramiko.AutoAddPolicy())\n",
    "ssh.connect(hostname='34.136.221.32', username='maanya', key_filename='/home/maanya/Downloads/ubuntu_ssh/id_rsa')\n",
    "# it will also work without port=22 as port 22 is default for ssh\n",
    "stdin, stdout, stderr = ssh.exec_command('free -m;whoami;cd /home/maanya;ls -ltr')\n",
    "#print(stdout.readlines())\n",
    "for each_line in stdout:\n",
    "    result.append(each_line.strip('\\n'))\n",
    "for each_line in result:\n",
    "    print(each_line.strip())\n",
    "\n",
    "ssh.close()"
   ]
  },
  {
   "cell_type": "code",
   "execution_count": null,
   "id": "e501937f-f61d-4c38-afb8-322093492614",
   "metadata": {},
   "outputs": [],
   "source": []
  }
 ],
 "metadata": {
  "kernelspec": {
   "display_name": "Python 3 (ipykernel)",
   "language": "python",
   "name": "python3"
  },
  "language_info": {
   "codemirror_mode": {
    "name": "ipython",
    "version": 3
   },
   "file_extension": ".py",
   "mimetype": "text/x-python",
   "name": "python",
   "nbconvert_exporter": "python",
   "pygments_lexer": "ipython3",
   "version": "3.10.6"
  }
 },
 "nbformat": 4,
 "nbformat_minor": 5
}
