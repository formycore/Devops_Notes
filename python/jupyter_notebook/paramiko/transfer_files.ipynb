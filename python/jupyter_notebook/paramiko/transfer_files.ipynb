{
 "cells": [
  {
   "cell_type": "code",
   "execution_count": 1,
   "id": "71a93dd3-faf7-4a2c-a463-35ae64ccbc30",
   "metadata": {
    "tags": []
   },
   "outputs": [
    {
     "name": "stdout",
     "output_type": "stream",
     "text": [
      "['__class__', '__delattr__', '__dict__', '__dir__', '__doc__', '__enter__', '__eq__', '__exit__', '__format__', '__ge__', '__getattribute__', '__gt__', '__hash__', '__init__', '__init_subclass__', '__le__', '__lt__', '__module__', '__ne__', '__new__', '__reduce__', '__reduce_ex__', '__repr__', '__setattr__', '__sizeof__', '__str__', '__subclasshook__', '__weakref__', '_agent', '_auth', '_families_and_addresses', '_host_keys', '_host_keys_filename', '_key_from_filepath', '_log', '_log_channel', '_policy', '_system_host_keys', '_transport', 'close', 'connect', 'exec_command', 'get_host_keys', 'get_transport', 'invoke_shell', 'load_host_keys', 'load_system_host_keys', 'open_sftp', 'save_host_keys', 'set_log_channel', 'set_missing_host_key_policy']\n"
     ]
    }
   ],
   "source": [
    "import paramiko\n",
    "ssh = paramiko.SSHClient()\n",
    "ssh.set_missing_host_key_policy(paramiko.AutoAddPolicy())\n",
    "ssh.connect(\n",
    "\thostname='34.136.221.32',\n",
    "    username='maanya',\n",
    "    key_filename='/home/maanya/Downloads/ubuntu_ssh/id_rsa'\n",
    ")\n",
    "# Transfer a file to remote server\n",
    "# check what ssh can do \n",
    "print(dir(ssh))\n",
    "\n",
    "ssh.close()"
   ]
  },
  {
   "cell_type": "code",
   "execution_count": 6,
   "id": "0a9279ac-6df9-4152-b0a4-bbe1d45c5f61",
   "metadata": {
    "tags": []
   },
   "outputs": [
    {
     "ename": "AttributeError",
     "evalue": "'NoneType' object has no attribute 'open_sftp_client'",
     "output_type": "error",
     "traceback": [
      "\u001b[0;31m---------------------------------------------------------------------------\u001b[0m",
      "\u001b[0;31mAttributeError\u001b[0m                            Traceback (most recent call last)",
      "Cell \u001b[0;32mIn[6], line 6\u001b[0m\n\u001b[1;32m      4\u001b[0m ssh \u001b[38;5;241m=\u001b[39m paramiko\u001b[38;5;241m.\u001b[39mSSHClient()\n\u001b[1;32m      5\u001b[0m \u001b[38;5;66;03m# to open sftp connect with remote server\u001b[39;00m\n\u001b[0;32m----> 6\u001b[0m sftp_client\u001b[38;5;241m=\u001b[39m \u001b[43mssh\u001b[49m\u001b[38;5;241;43m.\u001b[39;49m\u001b[43mopen_sftp\u001b[49m\u001b[43m(\u001b[49m\u001b[43m)\u001b[49m\n\u001b[1;32m      7\u001b[0m \u001b[38;5;66;03m# Check what open_sftp does\u001b[39;00m\n\u001b[1;32m      8\u001b[0m \u001b[38;5;28mprint\u001b[39m(\u001b[38;5;28mdir\u001b[39m(sftp_client)) \u001b[38;5;66;03m# checked it does nothing\u001b[39;00m\n",
      "File \u001b[0;32m/usr/lib/python3/dist-packages/paramiko/client.py:558\u001b[0m, in \u001b[0;36mSSHClient.open_sftp\u001b[0;34m(self)\u001b[0m\n\u001b[1;32m    552\u001b[0m \u001b[38;5;28;01mdef\u001b[39;00m \u001b[38;5;21mopen_sftp\u001b[39m(\u001b[38;5;28mself\u001b[39m):\n\u001b[1;32m    553\u001b[0m \u001b[38;5;250m    \u001b[39m\u001b[38;5;124;03m\"\"\"\u001b[39;00m\n\u001b[1;32m    554\u001b[0m \u001b[38;5;124;03m    Open an SFTP session on the SSH server.\u001b[39;00m\n\u001b[1;32m    555\u001b[0m \n\u001b[1;32m    556\u001b[0m \u001b[38;5;124;03m    :return: a new `.SFTPClient` session object\u001b[39;00m\n\u001b[1;32m    557\u001b[0m \u001b[38;5;124;03m    \"\"\"\u001b[39;00m\n\u001b[0;32m--> 558\u001b[0m     \u001b[38;5;28;01mreturn\u001b[39;00m \u001b[38;5;28;43mself\u001b[39;49m\u001b[38;5;241;43m.\u001b[39;49m\u001b[43m_transport\u001b[49m\u001b[38;5;241;43m.\u001b[39;49m\u001b[43mopen_sftp_client\u001b[49m()\n",
      "\u001b[0;31mAttributeError\u001b[0m: 'NoneType' object has no attribute 'open_sftp_client'"
     ]
    }
   ],
   "source": [
    "# now we are using open_sftp\n",
    "# Transfer a file to remote server\n",
    "import paramiko\n",
    "ssh = paramiko.SSHClient()\n",
    "# to open sftp connect with remote server\n",
    "sftp_client= ssh.open_sftp()\n",
    "# Check what open_sftp does\n",
    "print(dir(sftp_client)) # checked it does nothing"
   ]
  },
  {
   "cell_type": "code",
   "execution_count": 7,
   "id": "b9d95a50-ea84-40ba-9ad9-c8cfa87fb174",
   "metadata": {
    "tags": []
   },
   "outputs": [
    {
     "ename": "AttributeError",
     "evalue": "'NoneType' object has no attribute 'open_sftp_client'",
     "output_type": "error",
     "traceback": [
      "\u001b[0;31m---------------------------------------------------------------------------\u001b[0m",
      "\u001b[0;31mAttributeError\u001b[0m                            Traceback (most recent call last)",
      "Cell \u001b[0;32mIn[7], line 3\u001b[0m\n\u001b[1;32m      1\u001b[0m \u001b[38;5;28;01mimport\u001b[39;00m \u001b[38;5;21;01mparamiko\u001b[39;00m\n\u001b[1;32m      2\u001b[0m ssh \u001b[38;5;241m=\u001b[39m paramiko\u001b[38;5;241m.\u001b[39mSSHClient()\n\u001b[0;32m----> 3\u001b[0m sftp_client \u001b[38;5;241m=\u001b[39m \u001b[43mssh\u001b[49m\u001b[38;5;241;43m.\u001b[39;49m\u001b[43mopen_sftp\u001b[49m\u001b[43m(\u001b[49m\u001b[43m)\u001b[49m\n",
      "File \u001b[0;32m/usr/lib/python3/dist-packages/paramiko/client.py:558\u001b[0m, in \u001b[0;36mSSHClient.open_sftp\u001b[0;34m(self)\u001b[0m\n\u001b[1;32m    552\u001b[0m \u001b[38;5;28;01mdef\u001b[39;00m \u001b[38;5;21mopen_sftp\u001b[39m(\u001b[38;5;28mself\u001b[39m):\n\u001b[1;32m    553\u001b[0m \u001b[38;5;250m    \u001b[39m\u001b[38;5;124;03m\"\"\"\u001b[39;00m\n\u001b[1;32m    554\u001b[0m \u001b[38;5;124;03m    Open an SFTP session on the SSH server.\u001b[39;00m\n\u001b[1;32m    555\u001b[0m \n\u001b[1;32m    556\u001b[0m \u001b[38;5;124;03m    :return: a new `.SFTPClient` session object\u001b[39;00m\n\u001b[1;32m    557\u001b[0m \u001b[38;5;124;03m    \"\"\"\u001b[39;00m\n\u001b[0;32m--> 558\u001b[0m     \u001b[38;5;28;01mreturn\u001b[39;00m \u001b[38;5;28;43mself\u001b[39;49m\u001b[38;5;241;43m.\u001b[39;49m\u001b[43m_transport\u001b[49m\u001b[38;5;241;43m.\u001b[39;49m\u001b[43mopen_sftp_client\u001b[49m()\n",
      "\u001b[0;31mAttributeError\u001b[0m: 'NoneType' object has no attribute 'open_sftp_client'"
     ]
    }
   ],
   "source": [
    "import paramiko\n",
    "ssh = paramiko.SSHClient()\n",
    "sftp_client = ssh.open_sftp()"
   ]
  },
  {
   "cell_type": "code",
   "execution_count": 3,
   "id": "a34de836-afd9-4a53-a27e-245927cf0d2d",
   "metadata": {},
   "outputs": [
    {
     "name": "stdout",
     "output_type": "stream",
     "text": [
      "['__class__', '__delattr__', '__dict__', '__dir__', '__doc__', '__enter__', '__eq__', '__exit__', '__format__', '__ge__', '__getattribute__', '__gt__', '__hash__', '__init__', '__init_subclass__', '__le__', '__lt__', '__module__', '__ne__', '__new__', '__reduce__', '__reduce_ex__', '__repr__', '__setattr__', '__sizeof__', '__str__', '__subclasshook__', '__weakref__', '_adjust_cwd', '_async_request', '_convert_status', '_cwd', '_expecting', '_finish_responses', '_lock', '_log', '_read_all', '_read_packet', '_read_response', '_request', '_send_packet', '_send_server_version', '_send_version', '_transfer_with_callback', '_write_all', 'chdir', 'chmod', 'chown', 'close', 'file', 'from_transport', 'get', 'get_channel', 'getcwd', 'getfo', 'listdir', 'listdir_attr', 'listdir_iter', 'logger', 'lstat', 'mkdir', 'normalize', 'open', 'posix_rename', 'put', 'putfo', 'readlink', 'remove', 'rename', 'request_number', 'rmdir', 'sock', 'stat', 'symlink', 'truncate', 'ultra_debug', 'unlink', 'utime']\n"
     ]
    }
   ],
   "source": [
    "import paramiko\n",
    "ssh = paramiko.SSHClient()\n",
    "ssh.set_missing_host_key_policy(paramiko.AutoAddPolicy())\n",
    "ssh.connect(\n",
    "\thostname = '34.136.221.32',\n",
    "\tusername = 'maanya',\n",
    "\tkey_filename = '/home/maanya/Downloads/ubuntu_ssh/id_rsa'\n",
    "\t)\n",
    "sftp_client = ssh.open_sftp()\n",
    "# to get this value we need to have ssh.connect\n",
    "# becoz sftp is depends on ssh client object\n",
    "#print(dir(sftp_client))\n",
    "\n",
    "\n",
    "# need to close in this manner \n",
    "sftp_client.close()\n",
    "ssh.close()\n"
   ]
  },
  {
   "cell_type": "code",
   "execution_count": 6,
   "id": "2e29d731-2b32-481a-9b13-8a05110396ec",
   "metadata": {},
   "outputs": [],
   "source": [
    "import paramiko\n",
    "ssh = paramiko.SSHClient()\n",
    "ssh.set_missing_host_key_policy(paramiko.AutoAddPolicy())\n",
    "ssh.connect(\n",
    "\thostname = '34.136.221.32',\n",
    "\tusername = 'maanya',\n",
    "\tkey_filename = '/home/maanya/Downloads/ubuntu_ssh/id_rsa'\n",
    "\t)\n",
    "sftp_client = ssh.open_sftp()\n",
    "# to get this value we need to have ssh.connect\n",
    "# becoz sftp is depends on ssh client object\n",
    "#print(dir(sftp_client))\n",
    "# get and put get to download and put to upload\n",
    "#sftp_client.get('source', 'destination')\n",
    "sftp_client.get('/home/maanya/python_test/file1', 'python_test.txt')\n",
    "\n",
    "# need to close in this manner \n",
    "sftp_client.close()\n",
    "ssh.close()"
   ]
  },
  {
   "cell_type": "code",
   "execution_count": 12,
   "id": "ce89cd5b-3b7a-4b08-b182-6b0feb7e0660",
   "metadata": {
    "tags": []
   },
   "outputs": [],
   "source": [
    "import paramiko\n",
    "ssh = paramiko.SSHClient()\n",
    "ssh.set_missing_host_key_policy(paramiko.AutoAddPolicy())\n",
    "ssh.connect(hostname = '34.136.221.32',\n",
    "\tusername = 'maanya',\n",
    "\tkey_filename = '/home/maanya/Downloads/ubuntu_ssh/id_rsa'\n",
    "\t)\n",
    "sftp_client = ssh.open_sftp()\n",
    "sftp_client.put('python_test.txt','/home/maanya/python_test/file1')\n",
    "sftp_client.close()\n",
    "ssh.close()"
   ]
  },
  {
   "cell_type": "code",
   "execution_count": 9,
   "id": "37bc5eb7-e516-4695-bfe2-8518de0fee72",
   "metadata": {
    "tags": []
   },
   "outputs": [
    {
     "ename": "NameError",
     "evalue": "name 'getcwd' is not defined",
     "output_type": "error",
     "traceback": [
      "\u001b[0;31m---------------------------------------------------------------------------\u001b[0m",
      "\u001b[0;31mNameError\u001b[0m                                 Traceback (most recent call last)",
      "Cell \u001b[0;32mIn[9], line 1\u001b[0m\n\u001b[0;32m----> 1\u001b[0m \u001b[38;5;28mprint\u001b[39m(\u001b[43mgetcwd\u001b[49m())\n",
      "\u001b[0;31mNameError\u001b[0m: name 'getcwd' is not defined"
     ]
    }
   ],
   "source": []
  },
  {
   "cell_type": "code",
   "execution_count": 11,
   "id": "d257e00f-13ce-4829-9b74-e3b4058fa8c6",
   "metadata": {
    "tags": []
   },
   "outputs": [
    {
     "name": "stdout",
     "output_type": "stream",
     "text": [
      "/home/maanya/Downloads/Devops_Notes/python/jupyter_notebook/paramiko\n",
      "['transfer_files.ipynb', 'python_test.txt', '.ipynb_checkpoints', 'paramiko_examples.ipynb']\n"
     ]
    }
   ],
   "source": [
    "import os\n",
    "print(os.getcwd())\n",
    "print(os.listdir())"
   ]
  },
  {
   "cell_type": "code",
   "execution_count": 13,
   "id": "dbaeb5fb-315e-44ff-8640-d677842a81c7",
   "metadata": {
    "tags": []
   },
   "outputs": [
    {
     "ename": "FileNotFoundError",
     "evalue": "[Errno 2] No such file",
     "output_type": "error",
     "traceback": [
      "\u001b[0;31m---------------------------------------------------------------------------\u001b[0m",
      "\u001b[0;31mFileNotFoundError\u001b[0m                         Traceback (most recent call last)",
      "Cell \u001b[0;32mIn[13], line 7\u001b[0m\n\u001b[1;32m      5\u001b[0m sftp_client \u001b[38;5;241m=\u001b[39m ssh\u001b[38;5;241m.\u001b[39mopen_sftp()\n\u001b[1;32m      6\u001b[0m sftp_client\u001b[38;5;241m.\u001b[39mchdir(\u001b[38;5;124m'\u001b[39m\u001b[38;5;124m/home/maanya\u001b[39m\u001b[38;5;124m'\u001b[39m)\n\u001b[0;32m----> 7\u001b[0m \u001b[43msftp_client\u001b[49m\u001b[38;5;241;43m.\u001b[39;49m\u001b[43mget\u001b[49m\u001b[43m(\u001b[49m\u001b[38;5;124;43m'\u001b[39;49m\u001b[38;5;124;43m*\u001b[39;49m\u001b[38;5;124;43m'\u001b[39;49m\u001b[43m,\u001b[49m\u001b[38;5;124;43m'\u001b[39;49m\u001b[38;5;124;43m./test\u001b[39;49m\u001b[38;5;124;43m'\u001b[39;49m\u001b[43m)\u001b[49m\n",
      "File \u001b[0;32m/usr/lib/python3/dist-packages/paramiko/sftp_client.py:811\u001b[0m, in \u001b[0;36mSFTPClient.get\u001b[0;34m(self, remotepath, localpath, callback, prefetch)\u001b[0m\n\u001b[1;32m    791\u001b[0m \u001b[38;5;250m\u001b[39m\u001b[38;5;124;03m\"\"\"\u001b[39;00m\n\u001b[1;32m    792\u001b[0m \u001b[38;5;124;03mCopy a remote file (``remotepath``) from the SFTP server to the local\u001b[39;00m\n\u001b[1;32m    793\u001b[0m \u001b[38;5;124;03mhost as ``localpath``.  Any exception raised by operations will be\u001b[39;00m\n\u001b[0;32m   (...)\u001b[0m\n\u001b[1;32m    808\u001b[0m \u001b[38;5;124;03m    Added the ``prefetch`` keyword argument.\u001b[39;00m\n\u001b[1;32m    809\u001b[0m \u001b[38;5;124;03m\"\"\"\u001b[39;00m\n\u001b[1;32m    810\u001b[0m \u001b[38;5;28;01mwith\u001b[39;00m \u001b[38;5;28mopen\u001b[39m(localpath, \u001b[38;5;124m\"\u001b[39m\u001b[38;5;124mwb\u001b[39m\u001b[38;5;124m\"\u001b[39m) \u001b[38;5;28;01mas\u001b[39;00m fl:\n\u001b[0;32m--> 811\u001b[0m     size \u001b[38;5;241m=\u001b[39m \u001b[38;5;28;43mself\u001b[39;49m\u001b[38;5;241;43m.\u001b[39;49m\u001b[43mgetfo\u001b[49m\u001b[43m(\u001b[49m\u001b[43mremotepath\u001b[49m\u001b[43m,\u001b[49m\u001b[43m \u001b[49m\u001b[43mfl\u001b[49m\u001b[43m,\u001b[49m\u001b[43m \u001b[49m\u001b[43mcallback\u001b[49m\u001b[43m,\u001b[49m\u001b[43m \u001b[49m\u001b[43mprefetch\u001b[49m\u001b[43m)\u001b[49m\n\u001b[1;32m    812\u001b[0m s \u001b[38;5;241m=\u001b[39m os\u001b[38;5;241m.\u001b[39mstat(localpath)\n\u001b[1;32m    813\u001b[0m \u001b[38;5;28;01mif\u001b[39;00m s\u001b[38;5;241m.\u001b[39mst_size \u001b[38;5;241m!=\u001b[39m size:\n",
      "File \u001b[0;32m/usr/lib/python3/dist-packages/paramiko/sftp_client.py:782\u001b[0m, in \u001b[0;36mSFTPClient.getfo\u001b[0;34m(self, remotepath, fl, callback, prefetch)\u001b[0m\n\u001b[1;32m    761\u001b[0m \u001b[38;5;28;01mdef\u001b[39;00m \u001b[38;5;21mgetfo\u001b[39m(\u001b[38;5;28mself\u001b[39m, remotepath, fl, callback\u001b[38;5;241m=\u001b[39m\u001b[38;5;28;01mNone\u001b[39;00m, prefetch\u001b[38;5;241m=\u001b[39m\u001b[38;5;28;01mTrue\u001b[39;00m):\n\u001b[1;32m    762\u001b[0m \u001b[38;5;250m    \u001b[39m\u001b[38;5;124;03m\"\"\"\u001b[39;00m\n\u001b[1;32m    763\u001b[0m \u001b[38;5;124;03m    Copy a remote file (``remotepath``) from the SFTP server and write to\u001b[39;00m\n\u001b[1;32m    764\u001b[0m \u001b[38;5;124;03m    an open file or file-like object, ``fl``.  Any exception raised by\u001b[39;00m\n\u001b[0;32m   (...)\u001b[0m\n\u001b[1;32m    780\u001b[0m \u001b[38;5;124;03m        Added the ``prefetch`` keyword argument.\u001b[39;00m\n\u001b[1;32m    781\u001b[0m \u001b[38;5;124;03m    \"\"\"\u001b[39;00m\n\u001b[0;32m--> 782\u001b[0m     file_size \u001b[38;5;241m=\u001b[39m \u001b[38;5;28;43mself\u001b[39;49m\u001b[38;5;241;43m.\u001b[39;49m\u001b[43mstat\u001b[49m\u001b[43m(\u001b[49m\u001b[43mremotepath\u001b[49m\u001b[43m)\u001b[49m\u001b[38;5;241m.\u001b[39mst_size\n\u001b[1;32m    783\u001b[0m     \u001b[38;5;28;01mwith\u001b[39;00m \u001b[38;5;28mself\u001b[39m\u001b[38;5;241m.\u001b[39mopen(remotepath, \u001b[38;5;124m\"\u001b[39m\u001b[38;5;124mrb\u001b[39m\u001b[38;5;124m\"\u001b[39m) \u001b[38;5;28;01mas\u001b[39;00m fr:\n\u001b[1;32m    784\u001b[0m         \u001b[38;5;28;01mif\u001b[39;00m prefetch:\n",
      "File \u001b[0;32m/usr/lib/python3/dist-packages/paramiko/sftp_client.py:493\u001b[0m, in \u001b[0;36mSFTPClient.stat\u001b[0;34m(self, path)\u001b[0m\n\u001b[1;32m    491\u001b[0m path \u001b[38;5;241m=\u001b[39m \u001b[38;5;28mself\u001b[39m\u001b[38;5;241m.\u001b[39m_adjust_cwd(path)\n\u001b[1;32m    492\u001b[0m \u001b[38;5;28mself\u001b[39m\u001b[38;5;241m.\u001b[39m_log(DEBUG, \u001b[38;5;124m\"\u001b[39m\u001b[38;5;124mstat(\u001b[39m\u001b[38;5;132;01m{!r}\u001b[39;00m\u001b[38;5;124m)\u001b[39m\u001b[38;5;124m\"\u001b[39m\u001b[38;5;241m.\u001b[39mformat(path))\n\u001b[0;32m--> 493\u001b[0m t, msg \u001b[38;5;241m=\u001b[39m \u001b[38;5;28;43mself\u001b[39;49m\u001b[38;5;241;43m.\u001b[39;49m\u001b[43m_request\u001b[49m\u001b[43m(\u001b[49m\u001b[43mCMD_STAT\u001b[49m\u001b[43m,\u001b[49m\u001b[43m \u001b[49m\u001b[43mpath\u001b[49m\u001b[43m)\u001b[49m\n\u001b[1;32m    494\u001b[0m \u001b[38;5;28;01mif\u001b[39;00m t \u001b[38;5;241m!=\u001b[39m CMD_ATTRS:\n\u001b[1;32m    495\u001b[0m     \u001b[38;5;28;01mraise\u001b[39;00m SFTPError(\u001b[38;5;124m\"\u001b[39m\u001b[38;5;124mExpected attributes\u001b[39m\u001b[38;5;124m\"\u001b[39m)\n",
      "File \u001b[0;32m/usr/lib/python3/dist-packages/paramiko/sftp_client.py:822\u001b[0m, in \u001b[0;36mSFTPClient._request\u001b[0;34m(self, t, *arg)\u001b[0m\n\u001b[1;32m    820\u001b[0m \u001b[38;5;28;01mdef\u001b[39;00m \u001b[38;5;21m_request\u001b[39m(\u001b[38;5;28mself\u001b[39m, t, \u001b[38;5;241m*\u001b[39marg):\n\u001b[1;32m    821\u001b[0m     num \u001b[38;5;241m=\u001b[39m \u001b[38;5;28mself\u001b[39m\u001b[38;5;241m.\u001b[39m_async_request(\u001b[38;5;28mtype\u001b[39m(\u001b[38;5;28;01mNone\u001b[39;00m), t, \u001b[38;5;241m*\u001b[39marg)\n\u001b[0;32m--> 822\u001b[0m     \u001b[38;5;28;01mreturn\u001b[39;00m \u001b[38;5;28;43mself\u001b[39;49m\u001b[38;5;241;43m.\u001b[39;49m\u001b[43m_read_response\u001b[49m\u001b[43m(\u001b[49m\u001b[43mnum\u001b[49m\u001b[43m)\u001b[49m\n",
      "File \u001b[0;32m/usr/lib/python3/dist-packages/paramiko/sftp_client.py:874\u001b[0m, in \u001b[0;36mSFTPClient._read_response\u001b[0;34m(self, waitfor)\u001b[0m\n\u001b[1;32m    871\u001b[0m \u001b[38;5;28;01mif\u001b[39;00m num \u001b[38;5;241m==\u001b[39m waitfor:\n\u001b[1;32m    872\u001b[0m     \u001b[38;5;66;03m# synchronous\u001b[39;00m\n\u001b[1;32m    873\u001b[0m     \u001b[38;5;28;01mif\u001b[39;00m t \u001b[38;5;241m==\u001b[39m CMD_STATUS:\n\u001b[0;32m--> 874\u001b[0m         \u001b[38;5;28;43mself\u001b[39;49m\u001b[38;5;241;43m.\u001b[39;49m\u001b[43m_convert_status\u001b[49m\u001b[43m(\u001b[49m\u001b[43mmsg\u001b[49m\u001b[43m)\u001b[49m\n\u001b[1;32m    875\u001b[0m     \u001b[38;5;28;01mreturn\u001b[39;00m t, msg\n\u001b[1;32m    877\u001b[0m \u001b[38;5;66;03m# can not rewrite this to deal with E721, either as a None check\u001b[39;00m\n\u001b[1;32m    878\u001b[0m \u001b[38;5;66;03m# nor as not an instance of None or NoneType\u001b[39;00m\n",
      "File \u001b[0;32m/usr/lib/python3/dist-packages/paramiko/sftp_client.py:903\u001b[0m, in \u001b[0;36mSFTPClient._convert_status\u001b[0;34m(self, msg)\u001b[0m\n\u001b[1;32m    900\u001b[0m     \u001b[38;5;28;01mraise\u001b[39;00m \u001b[38;5;167;01mEOFError\u001b[39;00m(text)\n\u001b[1;32m    901\u001b[0m \u001b[38;5;28;01melif\u001b[39;00m code \u001b[38;5;241m==\u001b[39m SFTP_NO_SUCH_FILE:\n\u001b[1;32m    902\u001b[0m     \u001b[38;5;66;03m# clever idea from john a. meinel: map the error codes to errno\u001b[39;00m\n\u001b[0;32m--> 903\u001b[0m     \u001b[38;5;28;01mraise\u001b[39;00m \u001b[38;5;167;01mIOError\u001b[39;00m(errno\u001b[38;5;241m.\u001b[39mENOENT, text)\n\u001b[1;32m    904\u001b[0m \u001b[38;5;28;01melif\u001b[39;00m code \u001b[38;5;241m==\u001b[39m SFTP_PERMISSION_DENIED:\n\u001b[1;32m    905\u001b[0m     \u001b[38;5;28;01mraise\u001b[39;00m \u001b[38;5;167;01mIOError\u001b[39;00m(errno\u001b[38;5;241m.\u001b[39mEACCES, text)\n",
      "\u001b[0;31mFileNotFoundError\u001b[0m: [Errno 2] No such file"
     ]
    }
   ],
   "source": [
    "import paramiko\n",
    "ssh = paramiko.SSHClient()\n",
    "ssh.set_missing_host_key_policy(paramiko.AutoAddPolicy())\n",
    "ssh.connect(hostname = '34.136.221.32', username = 'maanya', key_filename='/home/maanya/Downloads/ubuntu_ssh/id_rsa')\n",
    "sftp_client = ssh.open_sftp()\n",
    "sftp_client.chdir('/home/maanya')\n",
    "sftp_client.get('*','./test')\n",
    "\n"
   ]
  },
  {
   "cell_type": "code",
   "execution_count": null,
   "id": "b0cebc6c-0a9a-467a-8de9-2b2ce9056c87",
   "metadata": {},
   "outputs": [],
   "source": []
  }
 ],
 "metadata": {
  "kernelspec": {
   "display_name": "Python 3 (ipykernel)",
   "language": "python",
   "name": "python3"
  },
  "language_info": {
   "codemirror_mode": {
    "name": "ipython",
    "version": 3
   },
   "file_extension": ".py",
   "mimetype": "text/x-python",
   "name": "python",
   "nbconvert_exporter": "python",
   "pygments_lexer": "ipython3",
   "version": "3.10.6"
  }
 },
 "nbformat": 4,
 "nbformat_minor": 5
}
