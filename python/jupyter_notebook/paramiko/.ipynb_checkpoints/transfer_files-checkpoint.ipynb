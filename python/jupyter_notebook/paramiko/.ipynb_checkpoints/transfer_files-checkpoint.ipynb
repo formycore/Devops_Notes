{
 "cells": [
  {
   "cell_type": "code",
   "execution_count": 1,
   "id": "71a93dd3-faf7-4a2c-a463-35ae64ccbc30",
   "metadata": {
    "tags": []
   },
   "outputs": [
    {
     "name": "stdout",
     "output_type": "stream",
     "text": [
      "['__class__', '__delattr__', '__dict__', '__dir__', '__doc__', '__enter__', '__eq__', '__exit__', '__format__', '__ge__', '__getattribute__', '__gt__', '__hash__', '__init__', '__init_subclass__', '__le__', '__lt__', '__module__', '__ne__', '__new__', '__reduce__', '__reduce_ex__', '__repr__', '__setattr__', '__sizeof__', '__str__', '__subclasshook__', '__weakref__', '_agent', '_auth', '_families_and_addresses', '_host_keys', '_host_keys_filename', '_key_from_filepath', '_log', '_log_channel', '_policy', '_system_host_keys', '_transport', 'close', 'connect', 'exec_command', 'get_host_keys', 'get_transport', 'invoke_shell', 'load_host_keys', 'load_system_host_keys', 'open_sftp', 'save_host_keys', 'set_log_channel', 'set_missing_host_key_policy']\n"
     ]
    }
   ],
   "source": [
    "import paramiko\n",
    "ssh = paramiko.SSHClient()\n",
    "ssh.set_missing_host_key_policy(paramiko.AutoAddPolicy())\n",
    "ssh.connect(\n",
    "\thostname='34.136.221.32',\n",
    "    username='maanya',\n",
    "    key_filename='/home/maanya/Downloads/ubuntu_ssh/id_rsa'\n",
    ")\n",
    "# Transfer a file to remote server\n",
    "# check what ssh can do \n",
    "print(dir(ssh))\n",
    "\n",
    "ssh.close()"
   ]
  },
  {
   "cell_type": "code",
   "execution_count": 6,
   "id": "0a9279ac-6df9-4152-b0a4-bbe1d45c5f61",
   "metadata": {
    "tags": []
   },
   "outputs": [
    {
     "ename": "AttributeError",
     "evalue": "'NoneType' object has no attribute 'open_sftp_client'",
     "output_type": "error",
     "traceback": [
      "\u001b[0;31m---------------------------------------------------------------------------\u001b[0m",
      "\u001b[0;31mAttributeError\u001b[0m                            Traceback (most recent call last)",
      "Cell \u001b[0;32mIn[6], line 6\u001b[0m\n\u001b[1;32m      4\u001b[0m ssh \u001b[38;5;241m=\u001b[39m paramiko\u001b[38;5;241m.\u001b[39mSSHClient()\n\u001b[1;32m      5\u001b[0m \u001b[38;5;66;03m# to open sftp connect with remote server\u001b[39;00m\n\u001b[0;32m----> 6\u001b[0m sftp_client\u001b[38;5;241m=\u001b[39m \u001b[43mssh\u001b[49m\u001b[38;5;241;43m.\u001b[39;49m\u001b[43mopen_sftp\u001b[49m\u001b[43m(\u001b[49m\u001b[43m)\u001b[49m\n\u001b[1;32m      7\u001b[0m \u001b[38;5;66;03m# Check what open_sftp does\u001b[39;00m\n\u001b[1;32m      8\u001b[0m \u001b[38;5;28mprint\u001b[39m(\u001b[38;5;28mdir\u001b[39m(sftp_client)) \u001b[38;5;66;03m# checked it does nothing\u001b[39;00m\n",
      "File \u001b[0;32m/usr/lib/python3/dist-packages/paramiko/client.py:558\u001b[0m, in \u001b[0;36mSSHClient.open_sftp\u001b[0;34m(self)\u001b[0m\n\u001b[1;32m    552\u001b[0m \u001b[38;5;28;01mdef\u001b[39;00m \u001b[38;5;21mopen_sftp\u001b[39m(\u001b[38;5;28mself\u001b[39m):\n\u001b[1;32m    553\u001b[0m \u001b[38;5;250m    \u001b[39m\u001b[38;5;124;03m\"\"\"\u001b[39;00m\n\u001b[1;32m    554\u001b[0m \u001b[38;5;124;03m    Open an SFTP session on the SSH server.\u001b[39;00m\n\u001b[1;32m    555\u001b[0m \n\u001b[1;32m    556\u001b[0m \u001b[38;5;124;03m    :return: a new `.SFTPClient` session object\u001b[39;00m\n\u001b[1;32m    557\u001b[0m \u001b[38;5;124;03m    \"\"\"\u001b[39;00m\n\u001b[0;32m--> 558\u001b[0m     \u001b[38;5;28;01mreturn\u001b[39;00m \u001b[38;5;28;43mself\u001b[39;49m\u001b[38;5;241;43m.\u001b[39;49m\u001b[43m_transport\u001b[49m\u001b[38;5;241;43m.\u001b[39;49m\u001b[43mopen_sftp_client\u001b[49m()\n",
      "\u001b[0;31mAttributeError\u001b[0m: 'NoneType' object has no attribute 'open_sftp_client'"
     ]
    }
   ],
   "source": [
    "# now we are using open_sftp\n",
    "# Transfer a file to remote server\n",
    "import paramiko\n",
    "ssh = paramiko.SSHClient()\n",
    "# to open sftp connect with remote server\n",
    "sftp_client= ssh.open_sftp()\n",
    "# Check what open_sftp does\n",
    "print(dir(sftp_client)) # checked it does nothing"
   ]
  },
  {
   "cell_type": "code",
   "execution_count": 7,
   "id": "b9d95a50-ea84-40ba-9ad9-c8cfa87fb174",
   "metadata": {
    "tags": []
   },
   "outputs": [
    {
     "ename": "AttributeError",
     "evalue": "'NoneType' object has no attribute 'open_sftp_client'",
     "output_type": "error",
     "traceback": [
      "\u001b[0;31m---------------------------------------------------------------------------\u001b[0m",
      "\u001b[0;31mAttributeError\u001b[0m                            Traceback (most recent call last)",
      "Cell \u001b[0;32mIn[7], line 3\u001b[0m\n\u001b[1;32m      1\u001b[0m \u001b[38;5;28;01mimport\u001b[39;00m \u001b[38;5;21;01mparamiko\u001b[39;00m\n\u001b[1;32m      2\u001b[0m ssh \u001b[38;5;241m=\u001b[39m paramiko\u001b[38;5;241m.\u001b[39mSSHClient()\n\u001b[0;32m----> 3\u001b[0m sftp_client \u001b[38;5;241m=\u001b[39m \u001b[43mssh\u001b[49m\u001b[38;5;241;43m.\u001b[39;49m\u001b[43mopen_sftp\u001b[49m\u001b[43m(\u001b[49m\u001b[43m)\u001b[49m\n",
      "File \u001b[0;32m/usr/lib/python3/dist-packages/paramiko/client.py:558\u001b[0m, in \u001b[0;36mSSHClient.open_sftp\u001b[0;34m(self)\u001b[0m\n\u001b[1;32m    552\u001b[0m \u001b[38;5;28;01mdef\u001b[39;00m \u001b[38;5;21mopen_sftp\u001b[39m(\u001b[38;5;28mself\u001b[39m):\n\u001b[1;32m    553\u001b[0m \u001b[38;5;250m    \u001b[39m\u001b[38;5;124;03m\"\"\"\u001b[39;00m\n\u001b[1;32m    554\u001b[0m \u001b[38;5;124;03m    Open an SFTP session on the SSH server.\u001b[39;00m\n\u001b[1;32m    555\u001b[0m \n\u001b[1;32m    556\u001b[0m \u001b[38;5;124;03m    :return: a new `.SFTPClient` session object\u001b[39;00m\n\u001b[1;32m    557\u001b[0m \u001b[38;5;124;03m    \"\"\"\u001b[39;00m\n\u001b[0;32m--> 558\u001b[0m     \u001b[38;5;28;01mreturn\u001b[39;00m \u001b[38;5;28;43mself\u001b[39;49m\u001b[38;5;241;43m.\u001b[39;49m\u001b[43m_transport\u001b[49m\u001b[38;5;241;43m.\u001b[39;49m\u001b[43mopen_sftp_client\u001b[49m()\n",
      "\u001b[0;31mAttributeError\u001b[0m: 'NoneType' object has no attribute 'open_sftp_client'"
     ]
    }
   ],
   "source": [
    "import paramiko\n",
    "ssh = paramiko.SSHClient()\n",
    "sftp_client = ssh.open_sftp()"
   ]
  },
  {
   "cell_type": "code",
   "execution_count": null,
   "id": "a34de836-afd9-4a53-a27e-245927cf0d2d",
   "metadata": {},
   "outputs": [],
   "source": []
  },
  {
   "cell_type": "code",
   "execution_count": null,
   "id": "2e29d731-2b32-481a-9b13-8a05110396ec",
   "metadata": {},
   "outputs": [],
   "source": []
  }
 ],
 "metadata": {
  "kernelspec": {
   "display_name": "Python 3 (ipykernel)",
   "language": "python",
   "name": "python3"
  },
  "language_info": {
   "codemirror_mode": {
    "name": "ipython",
    "version": 3
   },
   "file_extension": ".py",
   "mimetype": "text/x-python",
   "name": "python",
   "nbconvert_exporter": "python",
   "pygments_lexer": "ipython3",
   "version": "3.10.6"
  }
 },
 "nbformat": 4,
 "nbformat_minor": 5
}
