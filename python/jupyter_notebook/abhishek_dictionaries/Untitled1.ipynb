{
 "cells": [
  {
   "cell_type": "code",
   "execution_count": 1,
   "id": "65b44f08-236e-4adc-aca9-3ac5769631bb",
   "metadata": {
    "tags": []
   },
   "outputs": [
    {
     "name": "stdout",
     "output_type": "stream",
     "text": [
      "[{'name': 'samantha'}, {'name': 'deepika'}, {'name': 'dell'}]\n"
     ]
    }
   ],
   "source": [
    "students_info = [\n",
    "    {\n",
    "        'name': 'samantha'\n",
    "    },\n",
    "    {\n",
    "        'name': 'deepika'\n",
    "    },\n",
    "    {\n",
    "        'name': 'dell'\n",
    "    }\n",
    "]\n",
    "print(students_info)"
   ]
  },
  {
   "cell_type": "code",
   "execution_count": 14,
   "id": "c7c7a190-c1e1-4ac7-888b-287aee98cf13",
   "metadata": {
    "tags": []
   },
   "outputs": [
    {
     "name": "stdout",
     "output_type": "stream",
     "text": [
      "{'name': 'samantha'}\n",
      "{'name': 'deepika'}\n",
      "{'name': 'dell'}\n"
     ]
    }
   ],
   "source": [
    "students_info = [\n",
    "    {\n",
    "        \"name\": \"samantha\"\n",
    "    },\n",
    "    {\n",
    "        \"name\": \"deepika\"\n",
    "    },\n",
    "    {\n",
    "        \"name\": \"dell\"\n",
    "    }\n",
    "]\n",
    "#print(students_info[0][\"name\"])\n",
    "for i in students_info:\n",
    "    print(i)"
   ]
  },
  {
   "cell_type": "code",
   "execution_count": null,
   "id": "e14264f3-8ec1-4bde-a6a2-a7f29d00130f",
   "metadata": {},
   "outputs": [],
   "source": []
  }
 ],
 "metadata": {
  "kernelspec": {
   "display_name": "Python 3 (ipykernel)",
   "language": "python",
   "name": "python3"
  },
  "language_info": {
   "codemirror_mode": {
    "name": "ipython",
    "version": 3
   },
   "file_extension": ".py",
   "mimetype": "text/x-python",
   "name": "python",
   "nbconvert_exporter": "python",
   "pygments_lexer": "ipython3",
   "version": "3.10.12"
  }
 },
 "nbformat": 4,
 "nbformat_minor": 5
}
