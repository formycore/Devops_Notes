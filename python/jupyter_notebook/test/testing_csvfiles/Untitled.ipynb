{
 "cells": [
  {
   "cell_type": "code",
   "execution_count": 1,
   "id": "6d0d1cda-5e62-4b24-8f63-0ec27e8855d6",
   "metadata": {
    "tags": []
   },
   "outputs": [
    {
     "name": "stdout",
     "output_type": "stream",
     "text": [
      "<_csv.reader object at 0x7f2c86ee75a0>\n"
     ]
    }
   ],
   "source": [
    "import csv\n",
    "file = open('testing.csv', 'r')\n",
    "reader = csv.reader(file)\n",
    "print(reader)"
   ]
  },
  {
   "cell_type": "code",
   "execution_count": 4,
   "id": "4ceca359-c9dc-4a2f-b743-1d9966cbca53",
   "metadata": {
    "tags": []
   },
   "outputs": [
    {
     "name": "stdout",
     "output_type": "stream",
     "text": [
      "['test', 'test1', 'test2', 'test3', 'test4', 'test5', 'test6', 'test7', 'test8', 'test9', 'test10', 'test11', 'test12']\n"
     ]
    }
   ],
   "source": [
    "import csv\n",
    "file = open('testing.csv', 'r')\n",
    "reader = csv.reader(file)\n",
    "rows = []\n",
    "for row in reader:\n",
    "    rows.append(row)\n",
    "column_a = []\n",
    "for row in rows:\n",
    "    column_a.append(row[0])\n",
    "column_a_with_spaces = [item.replace(',', ' ')for item in column_a]\n",
    "print(column_a_with_spaces)\n",
    "    \n",
    "file.close()\n"
   ]
  },
  {
   "cell_type": "code",
   "execution_count": null,
   "id": "2bc04c9a-fbcb-4626-a608-926147f3f2e9",
   "metadata": {},
   "outputs": [],
   "source": []
  }
 ],
 "metadata": {
  "kernelspec": {
   "display_name": "Python 3 (ipykernel)",
   "language": "python",
   "name": "python3"
  },
  "language_info": {
   "codemirror_mode": {
    "name": "ipython",
    "version": 3
   },
   "file_extension": ".py",
   "mimetype": "text/x-python",
   "name": "python",
   "nbconvert_exporter": "python",
   "pygments_lexer": "ipython3",
   "version": "3.10.12"
  }
 },
 "nbformat": 4,
 "nbformat_minor": 5
}
