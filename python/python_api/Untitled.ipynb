{
 "cells": [
  {
   "cell_type": "markdown",
   "id": "9b3b6143",
   "metadata": {},
   "source": [
    "# Python APi"
   ]
  },
  {
   "cell_type": "code",
   "execution_count": 1,
   "id": "b4f0ca64",
   "metadata": {},
   "outputs": [
    {
     "name": "stdout",
     "output_type": "stream",
     "text": [
      "<Response [200]>\n"
     ]
    }
   ],
   "source": [
    "import requests\n",
    "response = requests.get('https://google.com')\n",
    "print (response)\n"
   ]
  },
  {
   "cell_type": "code",
   "execution_count": 7,
   "id": "ba528332",
   "metadata": {},
   "outputs": [
    {
     "name": "stdout",
     "output_type": "stream",
     "text": [
      "https://stackoverflow.com/questions/76562494/compiler-error-on-onnewintent-for-kotlin-activity\n",
      "https://stackoverflow.com/questions/76562125/add-nested-object-to-mapped-type-in-typescript\n",
      "https://stackoverflow.com/questions/76562493/how-to-draw-multiple-vertexbuffer-data-at-the-same-time-in-a-winui3-application\n",
      "https://stackoverflow.com/questions/76562492/google-nest-camera-events-not-published-to-device-access-console-topic\n",
      "https://stackoverflow.com/questions/76562087/im-looking-for-a-way-to-input-the-date-in-the-format-of-xx-xx-in-c-but-im-un\n",
      "https://stackoverflow.com/questions/76505611/how-to-record-all-api-request-response-in-database\n",
      "https://stackoverflow.com/questions/76562182/change-case-and-reorder-string-fields-in-pandas-dataframe\n",
      "https://stackoverflow.com/questions/76562490/what-is-the-efficiency-difference-between-using-last-and-last-value-query-in-apa\n",
      "https://stackoverflow.com/questions/76562489/is-there-a-way-to-get-rid-of-the-div-in-my-code-without-breaking-the-css\n",
      "https://stackoverflow.com/questions/76562488/tic-tac-toe-in-python\n",
      "https://stackoverflow.com/questions/76562487/spark-3-structured-streaming-kafka-output-topic-is-being-added-in-checkpoint-d\n",
      "https://stackoverflow.com/questions/76562486/how-to-stretch-a-card-in-jetpack-compose\n",
      "https://stackoverflow.com/questions/76553643/why-cant-i-describe-log-streams-but-my-function-has-required-permissions\n",
      "https://stackoverflow.com/questions/76562484/how-to-check-jira-issue-id-via-gerrit\n",
      "https://stackoverflow.com/questions/76562483/i-am-using-subprocess-module-in-python-how-do-i-call-python-file-with-arguments\n",
      "https://stackoverflow.com/questions/76562482/is-there-any-way-to-fetch-the-pagecount-using-jspdf-with-angular\n",
      "https://stackoverflow.com/questions/76562481/how-optaplanner-constraint-will-sort-the-jobs-base-on-priority-and-pick-the-job\n",
      "https://stackoverflow.com/questions/76562353/how-to-connect-with-xamarin-form-between-a-webapi-en-an-android-device\n",
      "https://stackoverflow.com/questions/76562479/flickering-while-scrolling-in-carousel-react-native\n",
      "https://stackoverflow.com/questions/76525337/create-frames-and-get-coordinates-of-drawing-in-konva-react-js\n",
      "https://stackoverflow.com/questions/76562425/submit-not-firing-on-first-click-in-react-app\n",
      "https://stackoverflow.com/questions/76561991/go-gin-creating-generic-custom-validators\n",
      "https://stackoverflow.com/questions/52974330/spring-post-method-required-request-body-is-missing\n",
      "https://stackoverflow.com/questions/46392113/uinavigationbar-jumps-from-large-title-to-small-one-while-pushing-to-uiviewcontr\n",
      "https://stackoverflow.com/questions/76562036/writing-a-python-program-that-takes-a-number-from-the-user-and-prints-its-digits\n",
      "https://stackoverflow.com/questions/76562401/shell-script-if-a-directory-is-empty-then-play-audio-alarm\n",
      "https://stackoverflow.com/questions/69518920/react-apply-body-overflow-on-specific-component\n",
      "https://stackoverflow.com/questions/76562288/need-a-regex-to-validate-earn-extra-20-or-earn-20-extra-in-golang\n",
      "https://stackoverflow.com/questions/76561227/no-serializer-found-for-class-bytebuddyinterceptor\n",
      "https://stackoverflow.com/questions/76363481/how-can-i-style-the-border-radius-of-a-mat-form-field-in-angular\n"
     ]
    }
   ],
   "source": [
    "import requests\n",
    "import json\n",
    "response = requests.get('https://api.stackexchange.com/2.3/questions?order=desc&sort=activity&site=stackoverflow')\n",
    "#print(response.json())\n",
    "for data in response.json()['items']:\n",
    "    print(data['link'])\n",
    "    # print(data['title']) # here we get list of titles from the output of response.json()['items']\n",
    "    "
   ]
  },
  {
   "cell_type": "code",
   "execution_count": 9,
   "id": "da95afde",
   "metadata": {},
   "outputs": [
    {
     "name": "stdout",
     "output_type": "stream",
     "text": [
      "skipped\n",
      "\n",
      "skipped\n",
      "\n",
      "Tic-Tac-Toe in python\n",
      "https://stackoverflow.com/questions/76562488/tic-tac-toe-in-python\n",
      "\n",
      "p-table custom filter with reactive forms array not working\n",
      "https://stackoverflow.com/questions/76524797/p-table-custom-filter-with-reactive-forms-array-not-working\n",
      "\n",
      "Spark 3 structured streaming - kafka output topic is being added in checkpoint directory and there is an infinite processing on same data\n",
      "https://stackoverflow.com/questions/76562487/spark-3-structured-streaming-kafka-output-topic-is-being-added-in-checkpoint-d\n",
      "\n",
      "skipped\n",
      "\n",
      "how to add condition for autonumeric in composition api for different currrencies?\n",
      "https://stackoverflow.com/questions/76562516/how-to-add-condition-for-autonumeric-in-composition-api-for-different-currrencie\n",
      "\n",
      "skipped\n",
      "\n",
      "How can I retry a code block on non-infrastructure related errors in a Jenkins pipeline?\n",
      "https://stackoverflow.com/questions/76527237/how-can-i-retry-a-code-block-on-non-infrastructure-related-errors-in-a-jenkins-p\n",
      "\n",
      "golang very old mysql driver\n",
      "https://stackoverflow.com/questions/76562514/golang-very-old-mysql-driver\n",
      "\n",
      "Bull (redis) process stops consuming new messages in NodeJS\n",
      "https://stackoverflow.com/questions/76454590/bull-redis-process-stops-consuming-new-messages-in-nodejs\n",
      "\n",
      "skipped\n",
      "\n",
      "What&#39;s a good, simple graphical webpage editor\n",
      "https://stackoverflow.com/questions/76561159/whats-a-good-simple-graphical-webpage-editor\n",
      "\n",
      "skipped\n",
      "\n",
      "skipped\n",
      "\n",
      "skipped\n",
      "\n",
      "skipped\n",
      "\n",
      "How to turn a list into a maths equation?\n",
      "https://stackoverflow.com/questions/76562447/how-to-turn-a-list-into-a-maths-equation\n",
      "\n",
      "skipped\n",
      "\n",
      "skipped\n",
      "\n",
      "Type check protocol conformance from extension to a generic\n",
      "https://stackoverflow.com/questions/76562509/type-check-protocol-conformance-from-extension-to-a-generic\n",
      "\n",
      "How can I get a list of projects to a file from gerrit?\n",
      "https://stackoverflow.com/questions/76562345/how-can-i-get-a-list-of-projects-to-a-file-from-gerrit\n",
      "\n",
      "When import Maatwebsite/excel 3.1 xlsx file in laravel 10 shows error\n",
      "https://stackoverflow.com/questions/76556507/when-import-maatwebsite-excel-3-1-xlsx-file-in-laravel-10-shows-error\n",
      "\n",
      "org.apache.hadoop.yarn.api.ApplicationClientProtocolPB is unauthorized Error?\n",
      "https://stackoverflow.com/questions/76559629/org-apache-hadoop-yarn-api-applicationclientprotocolpb-is-unauthorized-error\n",
      "\n",
      "How can I dynamically adjust the height of a fixed-height table in Grafana dashboard using Puppeteer to display all rows without scrolling?\n",
      "https://stackoverflow.com/questions/76560051/how-can-i-dynamically-adjust-the-height-of-a-fixed-height-table-in-grafana-dashb\n",
      "\n",
      "OTA Failure in ESP32 Due to Certificate Expiration\n",
      "https://stackoverflow.com/questions/76562379/ota-failure-in-esp32-due-to-certificate-expiration\n",
      "\n",
      "Why do I get a warning when using grep with the arguments fixed=TRUE and ignore.case=TRUE?\n",
      "https://stackoverflow.com/questions/76562507/why-do-i-get-a-warning-when-using-grep-with-the-arguments-fixed-true-and-ignore\n",
      "\n",
      "Are app settings in Azure case-sensitive or not or somethng in-between?\n",
      "https://stackoverflow.com/questions/76562506/are-app-settings-in-azure-case-sensitive-or-not-or-somethng-in-between\n",
      "\n",
      "skipped\n",
      "\n",
      "skipped\n",
      "\n"
     ]
    }
   ],
   "source": [
    "import requests\n",
    "import json\n",
    "response = requests.get('https://api.stackexchange.com/2.3/questions?order=desc&sort=activity&site=stackoverflow')\n",
    "for data in response.json()['items']:\n",
    "    if data['answer_count'] == 0:\n",
    "        print(data['title'])\n",
    "        print(data['link'])\n",
    "    else:\n",
    "        print(\"skipped\")\n",
    "    print()"
   ]
  },
  {
   "cell_type": "code",
   "execution_count": null,
   "id": "d0d367c6",
   "metadata": {},
   "outputs": [],
   "source": []
  },
  {
   "cell_type": "code",
   "execution_count": null,
   "id": "72d59e81",
   "metadata": {},
   "outputs": [],
   "source": []
  }
 ],
 "metadata": {
  "kernelspec": {
   "display_name": "Python 3 (ipykernel)",
   "language": "python",
   "name": "python3"
  },
  "language_info": {
   "codemirror_mode": {
    "name": "ipython",
    "version": 3
   },
   "file_extension": ".py",
   "mimetype": "text/x-python",
   "name": "python",
   "nbconvert_exporter": "python",
   "pygments_lexer": "ipython3",
   "version": "3.10.6"
  }
 },
 "nbformat": 4,
 "nbformat_minor": 5
}
