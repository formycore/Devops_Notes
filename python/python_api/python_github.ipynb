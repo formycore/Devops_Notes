{
 "cells": [
  {
   "cell_type": "markdown",
   "id": "d527474b",
   "metadata": {},
   "source": [
    "# Python github\n",
    "# creating the repo for authenticated user \n",
    "# /user/repos is the end poing"
   ]
  },
  {
   "cell_type": "code",
   "execution_count": null,
   "id": "a187f785",
   "metadata": {},
   "outputs": [],
   "source": [
    "export user=\"test123\""
   ]
  },
  {
   "cell_type": "code",
   "execution_count": 3,
   "id": "1d28488f",
   "metadata": {},
   "outputs": [
    {
     "name": "stdout",
     "output_type": "stream",
     "text": [
      "None\n"
     ]
    }
   ],
   "source": [
    "import requests # post request to https://api.github.com\n",
    "# export Github_personal_access_token = \"xxxxxxxxxxxxxxxxxxxxxx\"\n",
    "import os # to get the github personal access token, from the export\n",
    "import json \n",
    "print(os.environ.get(\"user\"))"
   ]
  },
  {
   "cell_type": "code",
   "execution_count": null,
   "id": "9a699fdd",
   "metadata": {},
   "outputs": [],
   "source": []
  },
  {
   "cell_type": "code",
   "execution_count": null,
   "id": "6e6d79c2",
   "metadata": {},
   "outputs": [],
   "source": []
  },
  {
   "cell_type": "code",
   "execution_count": null,
   "id": "50c5171f",
   "metadata": {},
   "outputs": [],
   "source": []
  },
  {
   "cell_type": "code",
   "execution_count": null,
   "id": "a9aec47d",
   "metadata": {},
   "outputs": [],
   "source": []
  },
  {
   "cell_type": "code",
   "execution_count": null,
   "id": "22de27a2",
   "metadata": {},
   "outputs": [],
   "source": []
  }
 ],
 "metadata": {
  "kernelspec": {
   "display_name": "Python 3 (ipykernel)",
   "language": "python",
   "name": "python3"
  },
  "language_info": {
   "codemirror_mode": {
    "name": "ipython",
    "version": 3
   },
   "file_extension": ".py",
   "mimetype": "text/x-python",
   "name": "python",
   "nbconvert_exporter": "python",
   "pygments_lexer": "ipython3",
   "version": "3.10.6"
  }
 },
 "nbformat": 4,
 "nbformat_minor": 5
}
