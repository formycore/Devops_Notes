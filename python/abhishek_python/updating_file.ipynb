{
 "cells": [
  {
   "cell_type": "code",
   "execution_count": null,
   "id": "74e9bd7d-5869-477f-8803-02623ad896ff",
   "metadata": {},
   "outputs": [],
   "source": [
    "# read a file in read mode\n",
    "# store all the file into a variable\n",
    "# open the file in write mode\n",
    "# updating max_connection lines\n"
   ]
  },
  {
   "cell_type": "code",
   "execution_count": 2,
   "id": "cbcc2626-c4f5-4e66-9071-4cf8ac5af1d1",
   "metadata": {
    "tags": []
   },
   "outputs": [],
   "source": [
    "# function requires three values \n",
    "# path of the file\n",
    "# key -- properties going to update like max_connections\n",
    "# value -- what value should i update\n"
   ]
  },
  {
   "cell_type": "code",
   "execution_count": 9,
   "id": "3e978884-fd35-4684-9f9b-487eabba534f",
   "metadata": {
    "tags": []
   },
   "outputs": [
    {
     "name": "stdout",
     "output_type": "stream",
     "text": [
      "['# Server Configuration File\\n', '\\n', '# Network Settings\\n', 'PORT = 8080\\n', 'MAX_CONNECTIONS=600\\n', 'TIMEOUT = 30\\n', '\\n', '# Security Settings\\n', 'SSL_ENABLED = true\\n', 'SSL_CERT = /path/to/certificate.pem\\n', '\\n', '# Logging Settings\\n', 'LOG_LEVEL = INFO\\n', 'LOG_FILE = /var/log/server.log\\n', '\\n', '# Other Settings\\n', 'ENABLE_FEATURE_X = true']\n"
     ]
    }
   ],
   "source": [
    "def update_server_config(file_path, key, value):\n",
    "    with open(file_path, 'r') as fileread:\n",
    "        lines = fileread.readlines()\n",
    "        print(lines)\n",
    "        \n",
    "update_server_config(\"server_conf\", \"maxConections\", \"500\")\n"
   ]
  },
  {
   "cell_type": "code",
   "execution_count": 17,
   "id": "35e4d1f9-fc43-43b0-bc0a-21edf38b61a1",
   "metadata": {
    "tags": []
   },
   "outputs": [],
   "source": [
    "def update_server_config(file_path, key, value):\n",
    "    with open(file_path, \"r\") as file:\n",
    "        lines = file.readlines()\n",
    "    with open(file_path, \"w\") as file:\n",
    "        for line in lines:\n",
    "            if key in line:\n",
    "                file.write(key + \"=\" + value + \"\\n\") # as files are in lines\n",
    "            else:\n",
    "                file.write(line)\n",
    "                \n",
    "                \n",
    "        \n",
    "update_server_config(\"server_conf\", \"MAX_CONNECTIONS\", \"500\")"
   ]
  },
  {
   "cell_type": "code",
   "execution_count": null,
   "id": "1a1ef9bf-3342-43ba-8e60-065bbce5d273",
   "metadata": {},
   "outputs": [],
   "source": []
  },
  {
   "cell_type": "code",
   "execution_count": null,
   "id": "e8f672b3-e5b7-4b88-a49d-4c92799eb67a",
   "metadata": {},
   "outputs": [],
   "source": []
  }
 ],
 "metadata": {
  "kernelspec": {
   "display_name": "Python 3 (ipykernel)",
   "language": "python",
   "name": "python3"
  },
  "language_info": {
   "codemirror_mode": {
    "name": "ipython",
    "version": 3
   },
   "file_extension": ".py",
   "mimetype": "text/x-python",
   "name": "python",
   "nbconvert_exporter": "python",
   "pygments_lexer": "ipython3",
   "version": "3.10.12"
  }
 },
 "nbformat": 4,
 "nbformat_minor": 5
}
