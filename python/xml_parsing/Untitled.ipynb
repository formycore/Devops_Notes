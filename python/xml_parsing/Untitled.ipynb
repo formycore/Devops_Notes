{
 "cells": [
  {
   "cell_type": "code",
   "execution_count": 3,
   "id": "7e1b8bcf-97fb-4a53-bfee-0985d5e6ef49",
   "metadata": {
    "tags": []
   },
   "outputs": [
    {
     "name": "stdout",
     "output_type": "stream",
     "text": [
      "C14NWriterTarget\n",
      "Comment\n",
      "Element\n",
      "ElementPath\n",
      "ElementTree\n",
      "HTML_EMPTY\n",
      "PI\n",
      "ParseError\n",
      "ProcessingInstruction\n",
      "QName\n",
      "SubElement\n",
      "TreeBuilder\n",
      "VERSION\n",
      "XML\n",
      "XMLID\n",
      "XMLParser\n",
      "XMLPullParser\n",
      "_Element_Py\n",
      "_ListDataStream\n",
      "__all__\n",
      "__builtins__\n",
      "__cached__\n",
      "__doc__\n",
      "__file__\n",
      "__loader__\n",
      "__name__\n",
      "__package__\n",
      "__spec__\n",
      "_escape_attrib\n",
      "_escape_attrib_c14n\n",
      "_escape_attrib_html\n",
      "_escape_cdata\n",
      "_escape_cdata_c14n\n",
      "_get_writer\n",
      "_looks_like_prefix_name\n",
      "_namespace_map\n",
      "_namespaces\n",
      "_raise_serialization_error\n",
      "_serialize\n",
      "_serialize_html\n",
      "_serialize_text\n",
      "_serialize_xml\n",
      "_set_factories\n",
      "canonicalize\n",
      "collections\n",
      "contextlib\n",
      "dump\n",
      "fromstring\n",
      "fromstringlist\n",
      "indent\n",
      "io\n",
      "iselement\n",
      "iterparse\n",
      "parse\n",
      "re\n",
      "register_namespace\n",
      "sys\n",
      "tostring\n",
      "tostringlist\n",
      "warnings\n"
     ]
    }
   ],
   "source": [
    "# parsing the xml file\n",
    "\n",
    "import xml.etree.ElementTree as ET\n",
    "for i in dir(ET):\n",
    "    print(i)\n"
   ]
  },
  {
   "cell_type": "code",
   "execution_count": 5,
   "id": "41168121-5ff6-44b1-b367-6d0b4a6fd751",
   "metadata": {
    "tags": []
   },
   "outputs": [
    {
     "name": "stdout",
     "output_type": "stream",
     "text": [
      "Belgian Waffles: $5.95\n",
      "Strawberry Belgian Waffles: $7.95\n",
      "Berry-Berry Belgian Waffles: $8.95\n",
      "French Toast: $4.50\n",
      "Homestyle Breakfast: $6.95\n"
     ]
    }
   ],
   "source": [
    "import xml.etree.ElementTree as ET\n",
    "# parsing the xml file\n",
    "tree = ET.parse('food.xml')\n",
    "root = tree.getroot()\n",
    "\n",
    "# Accessing elements & attributes\n",
    "for food in root.findall('food'):\n",
    "    name = food.find('name').text\n",
    "    price = food.find('price').text\n",
    "    print(f\"{name}: {price}\")\n"
   ]
  },
  {
   "cell_type": "code",
   "execution_count": null,
   "id": "bab83e77-4e49-4013-b7a4-5d9501aecd6c",
   "metadata": {},
   "outputs": [],
   "source": []
  }
 ],
 "metadata": {
  "kernelspec": {
   "display_name": "Python 3 (ipykernel)",
   "language": "python",
   "name": "python3"
  },
  "language_info": {
   "codemirror_mode": {
    "name": "ipython",
    "version": 3
   },
   "file_extension": ".py",
   "mimetype": "text/x-python",
   "name": "python",
   "nbconvert_exporter": "python",
   "pygments_lexer": "ipython3",
   "version": "3.10.12"
  }
 },
 "nbformat": 4,
 "nbformat_minor": 5
}
