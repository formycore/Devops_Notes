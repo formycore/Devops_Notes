<<<<<<< HEAD
{
 "cells": [],
 "metadata": {},
 "nbformat": 4,
 "nbformat_minor": 4
}
=======
{
 "cells": [],
 "metadata": {},
 "nbformat": 4,
 "nbformat_minor": 4
}
>>>>>>> 9fe199743c6df19ba1530059bc0dd794606c74e5
