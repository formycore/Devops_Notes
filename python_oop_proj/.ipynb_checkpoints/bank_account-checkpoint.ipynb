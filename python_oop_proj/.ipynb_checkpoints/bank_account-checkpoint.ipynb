{
 "cells": [
  {
   "cell_type": "code",
   "execution_count": null,
   "id": "be67afbe-a6a5-4a9d-b7aa-7f328b2b1dca",
   "metadata": {},
   "outputs": [],
   "source": [
    "class BankAccount:\n",
    "    def __init__(self,initialAmount,accountName):\n",
    "        self.balance = initialAmount\n",
    "        self.name = accountName\n",
    "        print(f\"\\nAccount '{self.name}' created.\\nBalance='{self.balance:.2f}'\")\n",
    "        #.2f is for two float decimals for cents"
   ]
  }
 ],
 "metadata": {
  "kernelspec": {
   "display_name": "Python 3 (ipykernel)",
   "language": "python",
   "name": "python3"
  },
  "language_info": {
   "codemirror_mode": {
    "name": "ipython",
    "version": 3
   },
   "file_extension": ".py",
   "mimetype": "text/x-python",
   "name": "python",
   "nbconvert_exporter": "python",
   "pygments_lexer": "ipython3",
   "version": "3.12.3"
  }
 },
 "nbformat": 4,
 "nbformat_minor": 5
}
