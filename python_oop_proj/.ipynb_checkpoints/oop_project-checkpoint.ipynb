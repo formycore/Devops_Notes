{
 "cells": [
  {
   "cell_type": "code",
   "execution_count": 2,
   "id": "50d42925-2bd7-433f-a83f-e703faafe6c9",
   "metadata": {},
   "outputs": [
    {
     "name": "stdout",
     "output_type": "stream",
     "text": [
      "\n",
      "Account 'Dave' created.\n",
      "Balance='1000.00'\n",
      "\n",
      "Account 'Sara' created.\n",
      "Balance='2000.00'\n"
     ]
    }
   ],
   "source": [
    "# we cannot use bank_account.ipynb here directly hence used the bank_account.py file here\n",
    "\n",
    "\n",
    "from bank_account import *\n",
    "Dave = BankAccount(1000, \"Dave\")\n",
    "Sara = BankAccount(2000, \"Sara\")\n"
   ]
  },
  {
   "cell_type": "code",
   "execution_count": 3,
   "id": "10ba06ee-15d8-4373-b27c-ee1ca7a5d204",
   "metadata": {},
   "outputs": [
    {
     "name": "stdout",
     "output_type": "stream",
     "text": [
      "\n",
      "Account 'Dave' created.\n",
      "Balance='1000.00'\n",
      "\n",
      "Account 'Sara' created.\n",
      "Balance='2000.00'\n"
     ]
    },
    {
     "ename": "AttributeError",
     "evalue": "'BankAccount' object has no attribute 'getBalance'",
     "output_type": "error",
     "traceback": [
      "\u001b[31m---------------------------------------------------------------------------\u001b[39m",
      "\u001b[31mAttributeError\u001b[39m                            Traceback (most recent call last)",
      "\u001b[36mCell\u001b[39m\u001b[36m \u001b[39m\u001b[32mIn[3]\u001b[39m\u001b[32m, line 5\u001b[39m\n\u001b[32m      3\u001b[39m Sara = BankAccount(\u001b[32m2000\u001b[39m, \u001b[33m\"\u001b[39m\u001b[33mSara\u001b[39m\u001b[33m\"\u001b[39m)\n\u001b[32m      4\u001b[39m \u001b[38;5;66;03m# this information is getting from bank_account.py file\u001b[39;00m\n\u001b[32m----> \u001b[39m\u001b[32m5\u001b[39m \u001b[43mDave\u001b[49m\u001b[43m.\u001b[49m\u001b[43mgetBalance\u001b[49m()\n\u001b[32m      6\u001b[39m Sara.getBalance()\n",
      "\u001b[31mAttributeError\u001b[39m: 'BankAccount' object has no attribute 'getBalance'"
     ]
    }
   ],
   "source": [
    "from bank_account import *\n",
    "Dave = BankAccount(1000, \"Dave\")\n",
    "Sara = BankAccount(2000, \"Sara\")\n",
    "# this information is getting from bank_account.py file\n",
    "Dave.getBalance()\n",
    "Sara.getBalance()"
   ]
  },
  {
   "cell_type": "code",
   "execution_count": null,
   "id": "c253f54f-2a7d-4dcc-8b85-63f26a277ff3",
   "metadata": {},
   "outputs": [],
   "source": []
  },
  {
   "cell_type": "code",
   "execution_count": null,
   "id": "75a389fb-4da6-4282-bc5a-ee3e326da368",
   "metadata": {},
   "outputs": [],
   "source": []
  }
 ],
 "metadata": {
  "kernelspec": {
   "display_name": "Python 3 (ipykernel)",
   "language": "python",
   "name": "python3"
  },
  "language_info": {
   "codemirror_mode": {
    "name": "ipython",
    "version": 3
   },
   "file_extension": ".py",
   "mimetype": "text/x-python",
   "name": "python",
   "nbconvert_exporter": "python",
   "pygments_lexer": "ipython3",
   "version": "3.12.3"
  }
 },
 "nbformat": 4,
 "nbformat_minor": 5
}
